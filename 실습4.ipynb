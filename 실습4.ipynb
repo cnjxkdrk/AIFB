{
 "cells": [
  {
   "cell_type": "markdown",
   "metadata": {
    "id": "8G-3nD8Lg0l6"
   },
   "source": [
    "**실습4**\n",
    "### **wine recognition 데이터를 이용한 <span style=\"color:darkgreen\">AI 예측</span> 문제**\n",
    "---"
   ]
  },
  {
   "cell_type": "markdown",
   "metadata": {},
   "source": [
    "#### 와인의 성분 데이터를 이용하여 와인 종류를 예측하는 AI 문제입니다.\n",
    "#### AI코딩 단계에 따라 주어지는 문제를 읽고 답안을 작성하세요.\n",
    "#### (wine recognition 데이터 : sklearn 내장 연습용 데이터셋 사용)\n",
    " - 데이터 : 분류(카테고리)\n",
    " - 모델 : RandomForest(머신러닝 성능 비교 분석), DeepLearning\n",
    " - 주요 전처리 : 분석 Column 추가, 정규화(normalization), label 전처리(카테고리 → 수치화)\n",
    " - 주요 학습 내용 : 산점도, 분류 모델 생성(분류방법, input, output 처리, 손실함수 등), 머신러닝 모델 비교학습(리스트 활용)\n",
    "---"
   ]
  },
  {
   "cell_type": "markdown",
   "metadata": {
    "id": "wYCT0EcXg0mY"
   },
   "source": [
    "**wine recognition 데이터 컬럼 설명 (sklearn 내장 연습용 데이터셋)**\n",
    "- Alcohol : 알콜도수\n",
    "- Malic Acid : 사과산\n",
    "- Ash : 회분\n",
    "- Alcalinity of Ash : 회분의 알칼리도\n",
    "- Magnesium : 마그네슘\n",
    "- Total phenols : 총 폴리페놀\n",
    "- Flavanoids : 플로보노이드 폴페놀\n",
    "- Nonflavanoid phenols : 비 플로보노이드 폴리페놀\n",
    "- Proanthocyanins : 프로안토시아닌\n",
    "- Color intensity : 색의 강도\n",
    "- Hue : 색상\n",
    "- OD280/OD315 of diluted wines : 희석와인의 OD280/OD315 비율\n",
    "- Proline : 프롤린\n",
    "- class : 라벨(y변수_ 데이터로 각각 다른 종류의 와인을 가르킴\n",
    "    * 0, 1, 2 : 서로 다른 종류의 와인을 가리킴.\n"
   ]
  },
  {
   "cell_type": "markdown",
   "metadata": {
    "id": "YjQkc3VKsho0"
   },
   "source": [
    "> **<span style=\"color:red\">다음 문항을 풀기 전에 </span>아래 코드를 실행하시오.**<br>\n",
    "> **sklearn에서 제공하는 load_breast_cacncer에 대한 데이터를 불러올 예정입니다. <span style=\"color:darkgreen\"></span>**<br>\n",
    "> - 해당 형태로 불러온 데이터는 AIDU 환경변수와 상관없이 사용할수 있습니다.<br>\n",
    "> - 분석할 feautre 데이터는 x 변수에, 라벨은 y변수에 저장 되게 됩니다.(사전 x,y 데이터 분리 실행)\n",
    "\n",
    "\n",
    "---\n",
    "\n"
   ]
  },
  {
   "cell_type": "code",
   "execution_count": 1,
   "metadata": {
    "id": "AB9QfGE6sRq9"
   },
   "outputs": [],
   "source": [
    "from sklearn.datasets import load_wine\n",
    "wine = load_wine()\n",
    "x = wine.data # 인풋으로 사용할 데이터\n",
    "y = wine.target # 아웃풋, target으로 사용할 데이터\n",
    "col_names = wine.feature_names # 인풋으로 사용할 데이터의 컬럼별 이름들"
   ]
  },
  {
   "cell_type": "markdown",
   "metadata": {
    "id": "xo_IB4MEud4Q"
   },
   "source": [
    "### **Q1. Numpy를 np로 alias하여 사용할 수 있도록 불러오는 코드를 작성하고 실행하시기 바랍니다.**\n",
    "---"
   ]
  },
  {
   "cell_type": "code",
   "execution_count": 2,
   "metadata": {
    "id": "pxOO-HpMud4W"
   },
   "outputs": [],
   "source": [
    "import numpy as np"
   ]
  },
  {
   "cell_type": "markdown",
   "metadata": {
    "id": "8AGB8BfHg0mi"
   },
   "source": [
    "### **Q2.Matplotlib의 pyplot을 plt로 alias하여 사용할 수 있도록 불러오는 코드를 작성하고 실행하시기 바랍니다.**\n",
    "---"
   ]
  },
  {
   "cell_type": "code",
   "execution_count": 3,
   "metadata": {
    "id": "vQNalsX8g0mk"
   },
   "outputs": [],
   "source": [
    "import matplotlib.pyplot as plt"
   ]
  },
  {
   "cell_type": "markdown",
   "metadata": {
    "id": "_RKLQUm-C_LK"
   },
   "source": [
    "### **Q3. 인풋으로 사용할 데이터( x )의 row 수와 column 수를 확인하시기 바랍니다.**\n",
    "---"
   ]
  },
  {
   "cell_type": "code",
   "execution_count": 4,
   "metadata": {
    "colab": {
     "base_uri": "https://localhost:8080/"
    },
    "executionInfo": {
     "elapsed": 5,
     "status": "ok",
     "timestamp": 1622167311974,
     "user": {
      "displayName": "Rayleigh Kim",
      "photoUrl": "",
      "userId": "07970978477328976416"
     },
     "user_tz": -540
    },
    "id": "BaVOJil9C_LR",
    "outputId": "6d8932c2-647b-4c57-f247-ba261d0ba84d"
   },
   "outputs": [
    {
     "name": "stdout",
     "output_type": "stream",
     "text": [
      "(178, 13)\n"
     ]
    }
   ],
   "source": [
    "print(x.shape)"
   ]
  },
  {
   "cell_type": "code",
   "execution_count": 5,
   "metadata": {},
   "outputs": [
    {
     "data": {
      "text/plain": [
       "array([0, 0, 0, 0, 0, 0, 0, 0, 0, 0, 0, 0, 0, 0, 0, 0, 0, 0, 0, 0, 0, 0,\n",
       "       0, 0, 0, 0, 0, 0, 0, 0, 0, 0, 0, 0, 0, 0, 0, 0, 0, 0, 0, 0, 0, 0,\n",
       "       0, 0, 0, 0, 0, 0, 0, 0, 0, 0, 0, 0, 0, 0, 0, 1, 1, 1, 1, 1, 1, 1,\n",
       "       1, 1, 1, 1, 1, 1, 1, 1, 1, 1, 1, 1, 1, 1, 1, 1, 1, 1, 1, 1, 1, 1,\n",
       "       1, 1, 1, 1, 1, 1, 1, 1, 1, 1, 1, 1, 1, 1, 1, 1, 1, 1, 1, 1, 1, 1,\n",
       "       1, 1, 1, 1, 1, 1, 1, 1, 1, 1, 1, 1, 1, 1, 1, 1, 1, 1, 1, 1, 2, 2,\n",
       "       2, 2, 2, 2, 2, 2, 2, 2, 2, 2, 2, 2, 2, 2, 2, 2, 2, 2, 2, 2, 2, 2,\n",
       "       2, 2, 2, 2, 2, 2, 2, 2, 2, 2, 2, 2, 2, 2, 2, 2, 2, 2, 2, 2, 2, 2,\n",
       "       2, 2])"
      ]
     },
     "execution_count": 5,
     "metadata": {},
     "output_type": "execute_result"
    }
   ],
   "source": [
    "y"
   ]
  },
  {
   "cell_type": "markdown",
   "metadata": {
    "id": "5z7xJxZcwC30"
   },
   "source": [
    "### **Q4. 데이터를 트레이닝셋 / Valid셋으로 분할하시기 바랍니다.**\n",
    "* **\n",
    "- x, y를 이용한다.\n",
    "- train : test = 8 : 2\n",
    "- y의 클래스가 골고루 분할되도록 stratify하게 분할한다.\n",
    "- 변수명 규칙은 다음과 같다.\n",
    "    * x_train, y_train\n",
    "    * x_valid, y_valid\n",
    "- random state, seed 등은 2021로 설정한다.\n",
    "---"
   ]
  },
  {
   "cell_type": "code",
   "execution_count": 6,
   "metadata": {
    "id": "nyfNZ71iwC30"
   },
   "outputs": [],
   "source": [
    "from sklearn.model_selection import train_test_split\n",
    "\n",
    "x_train, x_valid, y_train, y_valid = train_test_split(x, y, test_size=0.2, stratify=y, random_state=2021)"
   ]
  },
  {
   "cell_type": "markdown",
   "metadata": {
    "id": "gDlfuPL30wai"
   },
   "source": [
    "### **Q5. Decision Tree 모델들을 학습시키시기 바랍니다.**\n",
    "* **\n",
    "- 트레이닝 셋 (x_train, y_train)을 이용하여 학습시킨다.\n",
    "- 트리의 leaf에는 최소 10개 샘플이 있어야 한다.\n",
    "- max_depth를 1 부터 15까지 늘려가며 총 15개의 트리를 학습시킨다.\n",
    "- 학습시킨 트리들은 리스트를 만들어 trees 변수에 담아둔다.\n",
    "- seed나 random_state는 2021로 고정한다.\n",
    "---"
   ]
  },
  {
   "cell_type": "code",
   "execution_count": 7,
   "metadata": {
    "id": "nyWt8cfl0waj"
   },
   "outputs": [],
   "source": [
    "from sklearn.tree import DecisionTreeClassifier\n",
    "\n",
    "trees = []\n",
    "for i in range(1, 16):\n",
    "    clf = DecisionTreeClassifier(min_samples_leaf=10, max_depth=i, random_state=2021)\n",
    "    clf.fit(x_train, y_train)\n",
    "    trees.append(clf)"
   ]
  },
  {
   "cell_type": "code",
   "execution_count": 8,
   "metadata": {},
   "outputs": [
    {
     "data": {
      "text/plain": [
       "[DecisionTreeClassifier(max_depth=1, min_samples_leaf=10, random_state=2021),\n",
       " DecisionTreeClassifier(max_depth=2, min_samples_leaf=10, random_state=2021),\n",
       " DecisionTreeClassifier(max_depth=3, min_samples_leaf=10, random_state=2021),\n",
       " DecisionTreeClassifier(max_depth=4, min_samples_leaf=10, random_state=2021),\n",
       " DecisionTreeClassifier(max_depth=5, min_samples_leaf=10, random_state=2021),\n",
       " DecisionTreeClassifier(max_depth=6, min_samples_leaf=10, random_state=2021),\n",
       " DecisionTreeClassifier(max_depth=7, min_samples_leaf=10, random_state=2021),\n",
       " DecisionTreeClassifier(max_depth=8, min_samples_leaf=10, random_state=2021),\n",
       " DecisionTreeClassifier(max_depth=9, min_samples_leaf=10, random_state=2021),\n",
       " DecisionTreeClassifier(max_depth=10, min_samples_leaf=10, random_state=2021),\n",
       " DecisionTreeClassifier(max_depth=11, min_samples_leaf=10, random_state=2021),\n",
       " DecisionTreeClassifier(max_depth=12, min_samples_leaf=10, random_state=2021),\n",
       " DecisionTreeClassifier(max_depth=13, min_samples_leaf=10, random_state=2021),\n",
       " DecisionTreeClassifier(max_depth=14, min_samples_leaf=10, random_state=2021),\n",
       " DecisionTreeClassifier(max_depth=15, min_samples_leaf=10, random_state=2021)]"
      ]
     },
     "execution_count": 8,
     "metadata": {},
     "output_type": "execute_result"
    }
   ],
   "source": [
    "trees"
   ]
  },
  {
   "cell_type": "markdown",
   "metadata": {
    "id": "o8KgwBUY21AG"
   },
   "source": [
    "### **Q6. Decision Tree 모델들의 성능을 리스트에 담아 accs에 선언하시기 바랍니다.**\n",
    "* **\n",
    "- max_depth가 1인 트리부터 순서대로 평가하여 리스트에 담는다.\n",
    "- 성능 평가는 5번에서 분리한 벨리데이션 셋을 이용한다.\n",
    "- 성능지표로는 accuracy를 사용한다.\n",
    "---"
   ]
  },
  {
   "cell_type": "code",
   "execution_count": 9,
   "metadata": {
    "id": "UtTgF5FT21AI"
   },
   "outputs": [],
   "source": [
    "accs = []\n",
    "for i in range(len(trees)):\n",
    "    acc = trees[i].score(x_valid, y_valid)\n",
    "    accs.append(acc)"
   ]
  },
  {
   "cell_type": "code",
   "execution_count": 10,
   "metadata": {},
   "outputs": [
    {
     "data": {
      "text/plain": [
       "[0.6388888888888888,\n",
       " 0.9166666666666666,\n",
       " 0.9444444444444444,\n",
       " 0.9444444444444444,\n",
       " 0.9444444444444444,\n",
       " 0.9444444444444444,\n",
       " 0.9444444444444444,\n",
       " 0.9444444444444444,\n",
       " 0.9444444444444444,\n",
       " 0.9444444444444444,\n",
       " 0.9444444444444444,\n",
       " 0.9444444444444444,\n",
       " 0.9444444444444444,\n",
       " 0.9444444444444444,\n",
       " 0.9444444444444444]"
      ]
     },
     "execution_count": 10,
     "metadata": {},
     "output_type": "execute_result"
    }
   ],
   "source": [
    "accs"
   ]
  },
  {
   "cell_type": "markdown",
   "metadata": {
    "id": "WWavZJj64rOJ"
   },
   "source": [
    "### **Q7. Decision Tree의 max depth에 따른 accuracy를 시각화 하고, 가장 성능이 좋은 depth를 선택하시기 바랍니다.**\n",
    "* **\n",
    "- 위의 Q7에서 제작한 리스트 accs를 이용한다.\n",
    "- line plot 이나 scatter plot을 이용한다.\n",
    "- 동일 성능의 depth가 여러개라면, 가장 작은 depth를 선택한다.\n",
    "---"
   ]
  },
  {
   "cell_type": "code",
   "execution_count": 11,
   "metadata": {
    "colab": {
     "base_uri": "https://localhost:8080/",
     "height": 392
    },
    "executionInfo": {
     "elapsed": 421,
     "status": "ok",
     "timestamp": 1622167312392,
     "user": {
      "displayName": "Rayleigh Kim",
      "photoUrl": "",
      "userId": "07970978477328976416"
     },
     "user_tz": -540
    },
    "id": "Ur3Q4e-14rOQ",
    "outputId": "6b4288fe-b5da-4df1-e0da-2c5ceb860694"
   },
   "outputs": [
    {
     "data": {
      "image/png": "[encoded data removed]",
      "text/plain": [
       "<Figure size 432x288 with 1 Axes>"
      ]
     },
     "metadata": {
      "needs_background": "light"
     },
     "output_type": "display_data"
    }
   ],
   "source": [
    "plt.plot(accs)\n",
    "plt.grid(True)\n",
    "plt.show()"
   ]
  },
  {
   "cell_type": "markdown",
   "metadata": {
    "id": "YubzH97F6PCz"
   },
   "source": [
    "### **Q8. Decision Tree 선택된 depth에서 모델들을 학습시키시기 바랍니다.**\n",
    "* **\n",
    "- 트레이닝 셋 (x_train, y_train)을 이용하여 학습시킨다.\n",
    "- 트리의 leaf에 담길 최소 샘플 수를 5개에서 15개까지 늘려가며 트리를 학습시킨다.(min_samples_leaf 변수를 변화시키면서 학습한다.)\n",
    "- max_depth는 선택한 depth로 고정한다.\n",
    "- 학습시킨 트리들은 리스트를 만들어 trees 변수에 담아둔다.\n",
    "- seed나 random_state는 2021로 고정한다.\n",
    "---"
   ]
  },
  {
   "cell_type": "code",
   "execution_count": 12,
   "metadata": {
    "id": "eMjikCgM6PC5"
   },
   "outputs": [],
   "source": [
    "trees = []\n",
    "for i in range(5, 16):\n",
    "    clf = DecisionTreeClassifier(min_samples_leaf=i, max_depth=3, random_state=2021)\n",
    "    clf.fit(x_train, y_train)\n",
    "    trees.append(clf)"
   ]
  },
  {
   "cell_type": "code",
   "execution_count": 13,
   "metadata": {},
   "outputs": [
    {
     "data": {
      "text/plain": [
       "[DecisionTreeClassifier(max_depth=3, min_samples_leaf=5, random_state=2021),\n",
       " DecisionTreeClassifier(max_depth=3, min_samples_leaf=6, random_state=2021),\n",
       " DecisionTreeClassifier(max_depth=3, min_samples_leaf=7, random_state=2021),\n",
       " DecisionTreeClassifier(max_depth=3, min_samples_leaf=8, random_state=2021),\n",
       " DecisionTreeClassifier(max_depth=3, min_samples_leaf=9, random_state=2021),\n",
       " DecisionTreeClassifier(max_depth=3, min_samples_leaf=10, random_state=2021),\n",
       " DecisionTreeClassifier(max_depth=3, min_samples_leaf=11, random_state=2021),\n",
       " DecisionTreeClassifier(max_depth=3, min_samples_leaf=12, random_state=2021),\n",
       " DecisionTreeClassifier(max_depth=3, min_samples_leaf=13, random_state=2021),\n",
       " DecisionTreeClassifier(max_depth=3, min_samples_leaf=14, random_state=2021),\n",
       " DecisionTreeClassifier(max_depth=3, min_samples_leaf=15, random_state=2021)]"
      ]
     },
     "execution_count": 13,
     "metadata": {},
     "output_type": "execute_result"
    }
   ],
   "source": [
    "trees"
   ]
  },
  {
   "cell_type": "markdown",
   "metadata": {
    "id": "1fyQU1dy6n7v"
   },
   "source": [
    "### **Q9. Q8에서 학습시킨 Decision Tree 모델들의 성능을 리스트에 담아 accs에 선언하시기 바랍니다.**\n",
    "* **\n",
    "- leaf에 담길 최소 샘플수가 1인 트리 부터 순서대로 평가하여 리스트에 담는다.\n",
    "- 벨리데이션 셋 위에서 성능을 평가한다.\n",
    "- 성능지표로는 accuracy를 사용한다.\n",
    "---"
   ]
  },
  {
   "cell_type": "code",
   "execution_count": 14,
   "metadata": {
    "id": "ZPd9eADv6n7w"
   },
   "outputs": [],
   "source": [
    "accs = []\n",
    "for i in range(len(trees)):\n",
    "    acc = trees[i].score(x_valid, y_valid)\n",
    "    accs.append(acc)"
   ]
  },
  {
   "cell_type": "code",
   "execution_count": 15,
   "metadata": {},
   "outputs": [
    {
     "data": {
      "text/plain": [
       "[0.9444444444444444,\n",
       " 0.9444444444444444,\n",
       " 0.9444444444444444,\n",
       " 0.9444444444444444,\n",
       " 0.9444444444444444,\n",
       " 0.9444444444444444,\n",
       " 0.8611111111111112,\n",
       " 0.8611111111111112,\n",
       " 0.8611111111111112,\n",
       " 0.9166666666666666,\n",
       " 0.8611111111111112]"
      ]
     },
     "execution_count": 15,
     "metadata": {},
     "output_type": "execute_result"
    }
   ],
   "source": [
    "accs"
   ]
  },
  {
   "cell_type": "markdown",
   "metadata": {
    "id": "7MR81TeC6-qT"
   },
   "source": [
    "### **Q10. Decision Tree의 leaf에 담길 최소 샘플수에 따른 accuracy를 시각화 하고, 가장 성능이 좋은 최소 샘플수를 선택하시기 바랍니다.**\n",
    "* **\n",
    "- 위의 Q10에서 제작한 리스트 accs를 이용한다.\n",
    "- line plot을 이용해서 시각화 한다.\n",
    "- 동일 성능의 최소 샘플수가 여러개라면, 가장 최소값을 선택한다.\n",
    "---"
   ]
  },
  {
   "cell_type": "code",
   "execution_count": 16,
   "metadata": {
    "colab": {
     "base_uri": "https://localhost:8080/",
     "height": 392
    },
    "executionInfo": {
     "elapsed": 411,
     "status": "ok",
     "timestamp": 1622167312801,
     "user": {
      "displayName": "Rayleigh Kim",
      "photoUrl": "",
      "userId": "07970978477328976416"
     },
     "user_tz": -540
    },
    "id": "XDFrx9BQ6-qU",
    "outputId": "0266951a-5050-462b-e6bd-fa1828971d56"
   },
   "outputs": [
    {
     "data": {
      "image/png": "[encoded data removed]",
      "text/plain": [
       "<Figure size 432x288 with 1 Axes>"
      ]
     },
     "metadata": {
      "needs_background": "light"
     },
     "output_type": "display_data"
    }
   ],
   "source": [
    "plt.plot(accs)\n",
    "plt.grid(True)\n",
    "plt.show()"
   ]
  },
  {
   "cell_type": "markdown",
   "metadata": {
    "id": "DpW_DUDD-oK4"
   },
   "source": [
    "### **Q11. Q10번에서 시각화한 트리의 relative feature importance를 시각화 하시기 바랍니다.**\n",
    "* **\n",
    "- 수평 bar plot을 이용한다.\n",
    "- 각 변수의 이름은 col_names를 활용한다.\n",
    "---"
   ]
  },
  {
   "cell_type": "code",
   "execution_count": 17,
   "metadata": {
    "colab": {
     "base_uri": "https://localhost:8080/",
     "height": 323
    },
    "executionInfo": {
     "elapsed": 9,
     "status": "ok",
     "timestamp": 1622167313638,
     "user": {
      "displayName": "Rayleigh Kim",
      "photoUrl": "",
      "userId": "07970978477328976416"
     },
     "user_tz": -540
    },
    "id": "pLFN8OjG-oK6",
    "outputId": "b1f7738b-804f-4193-df5d-988c96b29e6e"
   },
   "outputs": [
    {
     "data": {
      "image/png": "[encoded data removed]",
      "text/plain": [
       "<Figure size 432x288 with 1 Axes>"
      ]
     },
     "metadata": {
      "needs_background": "light"
     },
     "output_type": "display_data"
    }
   ],
   "source": [
    "clf = DecisionTreeClassifier(max_depth=3, min_samples_leaf=5, random_state=2021)\n",
    "clf.fit(x_train, y_train)\n",
    "\n",
    "rfi = clf.feature_importances_\n",
    "\n",
    "plt.barh(col_names, rfi, align='center')\n",
    "plt.show()"
   ]
  },
  {
   "cell_type": "markdown",
   "metadata": {
    "id": "YoJjCE5G_nrZ"
   },
   "source": [
    "### **Q12. Q11번에서 시각화한 트리의 accuracy를 출력하시기 바랍니다.**\n",
    "* **\n",
    "- 테스트셋을 이용한다.\n",
    "---"
   ]
  },
  {
   "cell_type": "code",
   "execution_count": 18,
   "metadata": {
    "colab": {
     "base_uri": "https://localhost:8080/"
    },
    "executionInfo": {
     "elapsed": 8,
     "status": "ok",
     "timestamp": 1622167313638,
     "user": {
      "displayName": "Rayleigh Kim",
      "photoUrl": "",
      "userId": "07970978477328976416"
     },
     "user_tz": -540
    },
    "id": "4ICUoaAh_nrf",
    "outputId": "e12af9e1-1777-4ed6-f160-edbf9ad05944"
   },
   "outputs": [
    {
     "name": "stdout",
     "output_type": "stream",
     "text": [
      "0.9444444444444444\n"
     ]
    }
   ],
   "source": [
    "print(clf.score(x_valid, y_valid))"
   ]
  },
  {
   "cell_type": "markdown",
   "metadata": {
    "id": "xHmxbBgrg0ml"
   },
   "source": [
    "> **<span style=\"color:red\">다음 문항을 풀기 전에 </span>아래 코드를 실행하시기 바랍니다.**\n",
    ">"
   ]
  },
  {
   "cell_type": "code",
   "execution_count": 19,
   "metadata": {
    "id": "G4w6AawBoocC"
   },
   "outputs": [],
   "source": [
    "import tensorflow as tf\n",
    "from tensorflow import keras\n",
    "from tensorflow.keras.layers import Input, Dense, Dropout\n",
    "from tensorflow.keras.models import Sequential, Model\n",
    "from tensorflow.keras.callbacks import EarlyStopping"
   ]
  },
  {
   "cell_type": "markdown",
   "metadata": {
    "id": "xWyL8jZng0nH"
   },
   "source": [
    "### **Q13. 아래 조건에 맞추어 뉴럴네트워크 모델을 학습시키시기 바랍니다.**\n",
    "* **\n",
    "- Tensorflow framework를 사용한다.\n",
    "- 히든레이어는 아래와 같은 규칙에 맞추어 구성합니다.\n",
    "    * 2개 이상의 fully connected layer를 사용할 것\n",
    "    * Drop out 테크닉을 적절히 활용한다.\n",
    "- Early stopping을 이용하여, validation loss가 10번 이상 개선되지 않으면 학습을 중단 시키고, 가장 성능이 좋았을 때의 가중치를 복구한다.\n",
    "- 학습과정의 로그(loss, accuracy)를 history에 선언하여 남긴다.\n",
    "- y를 별도로 원핫인코딩 하지 않고 분류모델을 학습시킬 수 있도록 한다.(loss function을 sparse_categorical_crossentropy 로 사용한다)\n",
    "- epochs는 2000번을 지정한다.\n",
    "---"
   ]
  },
  {
   "cell_type": "code",
   "execution_count": 20,
   "metadata": {
    "id": "X5I1iGx3g0nI"
   },
   "outputs": [
    {
     "name": "stdout",
     "output_type": "stream",
     "text": [
      "Epoch 1/2000\n",
      "5/5 [==============================] - 0s 39ms/step - loss: 50.5574 - accuracy: 0.4085 - val_loss: 9.4644 - val_accuracy: 0.3333\n",
      "Epoch 2/2000\n",
      "5/5 [==============================] - 0s 7ms/step - loss: 37.4635 - accuracy: 0.2887 - val_loss: 16.5237 - val_accuracy: 0.3333\n",
      "Epoch 3/2000\n",
      "5/5 [==============================] - 0s 15ms/step - loss: 31.6665 - accuracy: 0.3521 - val_loss: 11.1815 - val_accuracy: 0.3333\n",
      "Epoch 4/2000\n",
      "5/5 [==============================] - 0s 15ms/step - loss: 21.9739 - accuracy: 0.3732 - val_loss: 5.7936 - val_accuracy: 0.3333\n",
      "Epoch 5/2000\n",
      "5/5 [==============================] - 0s 8ms/step - loss: 25.6271 - accuracy: 0.3028 - val_loss: 6.3144 - val_accuracy: 0.3333\n",
      "Epoch 6/2000\n",
      "5/5 [==============================] - 0s 8ms/step - loss: 19.1030 - accuracy: 0.2606 - val_loss: 5.7716 - val_accuracy: 0.3333\n",
      "Epoch 7/2000\n",
      "5/5 [==============================] - 0s 16ms/step - loss: 17.4994 - accuracy: 0.3873 - val_loss: 5.5573 - val_accuracy: 0.3333\n",
      "Epoch 8/2000\n",
      "5/5 [==============================] - 0s 15ms/step - loss: 16.0889 - accuracy: 0.3099 - val_loss: 4.6719 - val_accuracy: 0.3333\n",
      "Epoch 9/2000\n",
      "5/5 [==============================] - 0s 9ms/step - loss: 13.6166 - accuracy: 0.3380 - val_loss: 3.6905 - val_accuracy: 0.3333\n",
      "Epoch 10/2000\n",
      "5/5 [==============================] - 0s 15ms/step - loss: 11.3469 - accuracy: 0.3803 - val_loss: 3.2416 - val_accuracy: 0.3333\n",
      "Epoch 11/2000\n",
      "5/5 [==============================] - 0s 15ms/step - loss: 12.6361 - accuracy: 0.3310 - val_loss: 2.9374 - val_accuracy: 0.3333\n",
      "Epoch 12/2000\n",
      "5/5 [==============================] - 0s 8ms/step - loss: 10.5892 - accuracy: 0.3451 - val_loss: 2.4529 - val_accuracy: 0.3333\n",
      "Epoch 13/2000\n",
      "5/5 [==============================] - 0s 7ms/step - loss: 8.9900 - accuracy: 0.3451 - val_loss: 1.8887 - val_accuracy: 0.3333\n",
      "Epoch 14/2000\n",
      "5/5 [==============================] - 0s 18ms/step - loss: 9.4857 - accuracy: 0.3169 - val_loss: 1.4802 - val_accuracy: 0.3333\n",
      "Epoch 15/2000\n",
      "5/5 [==============================] - 0s 18ms/step - loss: 8.0880 - accuracy: 0.2746 - val_loss: 1.2874 - val_accuracy: 0.3333\n",
      "Epoch 16/2000\n",
      "5/5 [==============================] - 0s 13ms/step - loss: 8.6177 - accuracy: 0.3310 - val_loss: 1.2114 - val_accuracy: 0.3333\n",
      "Epoch 17/2000\n",
      "5/5 [==============================] - 0s 8ms/step - loss: 8.3719 - accuracy: 0.3169 - val_loss: 1.1818 - val_accuracy: 0.3333\n",
      "Epoch 18/2000\n",
      "5/5 [==============================] - 0s 17ms/step - loss: 5.9975 - accuracy: 0.4085 - val_loss: 1.0589 - val_accuracy: 0.3333\n",
      "Epoch 19/2000\n",
      "5/5 [==============================] - 0s 18ms/step - loss: 6.0069 - accuracy: 0.3662 - val_loss: 0.9627 - val_accuracy: 0.3333\n",
      "Epoch 20/2000\n",
      "5/5 [==============================] - 0s 13ms/step - loss: 5.6518 - accuracy: 0.3662 - val_loss: 1.0191 - val_accuracy: 0.3611\n",
      "Epoch 21/2000\n",
      "5/5 [==============================] - 0s 8ms/step - loss: 6.4260 - accuracy: 0.3239 - val_loss: 1.0984 - val_accuracy: 0.3889\n",
      "Epoch 22/2000\n",
      "5/5 [==============================] - 0s 16ms/step - loss: 4.7407 - accuracy: 0.4225 - val_loss: 1.0978 - val_accuracy: 0.3889\n",
      "Epoch 23/2000\n",
      "5/5 [==============================] - 0s 19ms/step - loss: 4.5257 - accuracy: 0.3521 - val_loss: 1.0979 - val_accuracy: 0.3889\n",
      "Epoch 24/2000\n",
      "5/5 [==============================] - 0s 17ms/step - loss: 4.8058 - accuracy: 0.3732 - val_loss: 1.0980 - val_accuracy: 0.3889\n",
      "Epoch 25/2000\n",
      "5/5 [==============================] - 0s 16ms/step - loss: 4.4226 - accuracy: 0.3592 - val_loss: 1.0980 - val_accuracy: 0.3889\n",
      "Epoch 26/2000\n",
      "5/5 [==============================] - 0s 7ms/step - loss: 4.2027 - accuracy: 0.3521 - val_loss: 1.0981 - val_accuracy: 0.3889\n",
      "Epoch 27/2000\n",
      "5/5 [==============================] - 0s 7ms/step - loss: 3.2867 - accuracy: 0.4437 - val_loss: 1.0982 - val_accuracy: 0.3889\n",
      "Epoch 28/2000\n",
      "5/5 [==============================] - 0s 20ms/step - loss: 3.8274 - accuracy: 0.3662 - val_loss: 1.0984 - val_accuracy: 0.3889\n",
      "Epoch 29/2000\n",
      "5/5 [==============================] - ETA: 0s - loss: 4.0102 - accuracy: 0.4014Restoring model weights from the end of the best epoch.\n",
      "5/5 [==============================] - 0s 17ms/step - loss: 4.0102 - accuracy: 0.4014 - val_loss: 1.0984 - val_accuracy: 0.3889\n",
      "Epoch 00029: early stopping\n"
     ]
    }
   ],
   "source": [
    "model = Sequential()\n",
    "model.add(Dense(100, activation='relu', input_shape=(13,)))\n",
    "model.add(Dropout(0.2))\n",
    "model.add(Dense(50, activation='relu'))\n",
    "model.add(Dropout(0.2))\n",
    "model.add(Dense(25, activation='relu'))\n",
    "model.add(Dropout(0.2))\n",
    "model.add(Dense(3, activation='softmax'))\n",
    "\n",
    "model.compile(optimizer='adam', loss='sparse_categorical_crossentropy',metrics=['accuracy'])\n",
    "es = EarlyStopping(monitor='val_loss', patience=10, mode='min', verbose=1, restore_best_weights=True)\n",
    "history = model.fit(x_train, y_train, epochs=2000, callbacks=[es], validation_data=(x_valid, y_valid), verbose=1)"
   ]
  },
  {
   "cell_type": "markdown",
   "metadata": {
    "id": "xL_RAl1lg0nK"
   },
   "source": [
    "### **Q14. 다음 조건에 맞추어 뉴럴네트워크의 학습 로그를 시각화 하시기 바랍니다.**\n",
    "* **\n",
    "- 필요한 라이브러리가 있다면 따로 불러온다.\n",
    "- epochs에 따른 loss의 변화를 시각화 한다.\n",
    "- train loss와 validation loss를 전부 시각화하고, 구별가능해야 한다.\n",
    "- 그래프의 타이틀은 'Loss'로 표시한다.\n",
    "- x축에는 'epochs'라고 표시하고 y축에는 'Loss'라고 표시한다.\n",
    "- 위에서 학습한 머신러닝 모델과 성능을 비교해보시오. \n",
    "---"
   ]
  },
  {
   "cell_type": "code",
   "execution_count": 21,
   "metadata": {
    "colab": {
     "base_uri": "https://localhost:8080/",
     "height": 295
    },
    "executionInfo": {
     "elapsed": 487,
     "status": "ok",
     "timestamp": 1622167420657,
     "user": {
      "displayName": "Rayleigh Kim",
      "photoUrl": "",
      "userId": "07970978477328976416"
     },
     "user_tz": -540
    },
    "id": "jNYCK-iFg0nL",
    "outputId": "89026b9c-35c8-4828-9660-cea0024c73ad"
   },
   "outputs": [
    {
     "data": {
      "image/png": "[encoded data removed]",
      "text/plain": [
       "<Figure size 720x360 with 1 Axes>"
      ]
     },
     "metadata": {
      "needs_background": "light"
     },
     "output_type": "display_data"
    }
   ],
   "source": [
    "plt.figure(figsize=(10,5))\n",
    "plt.plot(history.history['loss'])\n",
    "plt.plot(history.history['val_loss'])\n",
    "plt.title('Loss')\n",
    "plt.xlabel('epochs')\n",
    "plt.ylabel('Loss')\n",
    "plt.legend(['train_loss', 'val_loss'], loc='upper right')\n",
    "plt.show()"
   ]
  }
 ],
 "metadata": {
  "colab": {
   "collapsed_sections": [],
   "name": "문제5. (sol)wine recognition 데이터를 이용한 데이터분석.ipynb",
   "provenance": []
  },
  "kernelspec": {
   "display_name": "Python 3",
   "language": "python",
   "name": "python3"
  },
  "language_info": {
   "codemirror_mode": {
    "name": "ipython",
    "version": 3
   },
   "file_extension": ".py",
   "mimetype": "text/x-python",
   "name": "python",
   "nbconvert_exporter": "python",
   "pygments_lexer": "ipython3",
   "version": "3.6.9"
  }
 },
 "nbformat": 4,
 "nbformat_minor": 4
}
