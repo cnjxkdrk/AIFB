{
 "cells": [
  {
   "cell_type": "markdown",
   "metadata": {
    "id": "8G-3nD8Lg0l6"
   },
   "source": [
    "**실습.1**\n",
    "### **iris 데이터를 이용한 <span style=\"color:darkgreen\">AI분류</span> 문제**\n",
    "---\n"
   ]
  },
  {
   "cell_type": "markdown",
   "metadata": {},
   "source": [
    "#### 붓꽃의 종류, 길이, 너비 등의 데이터를 이용하여 붓꽃(iris)의 종류를 분류하는 AI 모델 제작 문제입니다. \n",
    "#### AI코딩 단계에 따라 주어지는 문제를 읽고 답안을 작성하세요.\n",
    " - 데이터 : 분류(카테고리)\n",
    " - 모델 : RandomForest, DeepLerning\n",
    " - 주요 전처리 : 분석 Column 추가, label 전처리(카테고리 → 수치화)\n",
    " - 주요 학습 내용 : 산점도, 히스토그램, 분류형 모델 생성(분류방법, input, output 처리, 손실함수 등)\n",
    "---\n"
   ]
  },
  {
   "cell_type": "markdown",
   "metadata": {
    "id": "wYCT0EcXg0mY"
   },
   "source": [
    "**iris.csv / iris(붓꽃) 데이터 컬럼 설명**\n",
    "- sepal.length : 큰 꽃잎의 길이\n",
    "- sepal.width : 큰 꽃잎의 너비\n",
    "- petal.length : 작은 꽃잎의 길이\n",
    "- petal.width : 작은 꽃잎의 너비\n",
    "- variety : 클래스, target, label\n",
    "    * Setosa, Versicolor, Virginica"
   ]
  },
  {
   "cell_type": "markdown",
   "metadata": {},
   "source": [
    "---\n",
    "> **<span style=\"color:red\">다음 문항을 풀기 전에 </span>아래 코드를 실행해주시기 바랍니다.**<br>\n",
    "> - AIDU 사용을 위한 AIDU 환경변수를 선언을 하는 코드. <span style=\"color:darkgreen\"></span><br>\n",
    "\n",
    "---"
   ]
  },
  {
   "cell_type": "code",
   "execution_count": 1,
   "metadata": {},
   "outputs": [],
   "source": [
    "# AIDU 내부 연동을 위한 라이브러리\n",
    "from aicentro.session import Session\n",
    "from aicentro.framework.keras import Keras as AiduFrm\n",
    "# AIDU와 연동을 위한 변수\n",
    "aidu_session = Session(verify=False)\n",
    "aidu_framework = AiduFrm(session=aidu_session)\n"
   ]
  },
  {
   "cell_type": "markdown",
   "metadata": {
    "id": "m18E-PYLg0mb"
   },
   "source": [
    "### **Q1. Pandas를 pd로 alias하여 사용할 수 있도록 불러오는 코드를 작성하고 실행하시기 바랍니다.**\n",
    "---"
   ]
  },
  {
   "cell_type": "code",
   "execution_count": 2,
   "metadata": {
    "id": "EnXmnUq3g0md"
   },
   "outputs": [],
   "source": [
    "import pandas as pd"
   ]
  },
  {
   "cell_type": "markdown",
   "metadata": {
    "id": "8AGB8BfHg0mi"
   },
   "source": [
    "### **Q2.Matplotlib의 pyplot을 plt로 alias하여 사용할 수 있도록 불러오는 코드를 작성하고 실행하시기 바랍니다.**\n",
    "---"
   ]
  },
  {
   "cell_type": "code",
   "execution_count": 3,
   "metadata": {
    "id": "vQNalsX8g0mk"
   },
   "outputs": [],
   "source": [
    "import matplotlib.pyplot as plt"
   ]
  },
  {
   "cell_type": "markdown",
   "metadata": {
    "id": "gPxq7-6lDZai"
   },
   "source": [
    "### **Q3.iris.csv를 판다스 데이터 프레임으로 불러와서 iris에 선언하는 코드를 작성하고 실행하시기 바랍니다.**\n",
    "---"
   ]
  },
  {
   "cell_type": "code",
   "execution_count": 4,
   "metadata": {
    "id": "GAxaBXHmDZal"
   },
   "outputs": [],
   "source": [
    "iris = pd.read_csv(aidu_framework.config.data_dir + '/iris.csv')"
   ]
  },
  {
   "cell_type": "markdown",
   "metadata": {
    "id": "zIBKr9jZDtpk"
   },
   "source": [
    "### **Q4. 데이터 프레임 iris의 처음 6개 행을 조회하는 코드를 작성하고 실행하시기 바랍니다.**\n",
    "---"
   ]
  },
  {
   "cell_type": "code",
   "execution_count": 5,
   "metadata": {
    "colab": {
     "base_uri": "https://localhost:8080/",
     "height": 235
    },
    "executionInfo": {
     "elapsed": 5,
     "status": "ok",
     "timestamp": 1622181576178,
     "user": {
      "displayName": "Rayleigh Kim",
      "photoUrl": "",
      "userId": "07970978477328976416"
     },
     "user_tz": -540
    },
    "id": "mJRrjcPCDtpm",
    "outputId": "07c83318-26a9-4945-c3b1-7b27abc349d0"
   },
   "outputs": [
    {
     "data": {
      "text/html": [
       "<div>\n",
       "<style scoped>\n",
       "    .dataframe tbody tr th:only-of-type {\n",
       "        vertical-align: middle;\n",
       "    }\n",
       "\n",
       "    .dataframe tbody tr th {\n",
       "        vertical-align: top;\n",
       "    }\n",
       "\n",
       "    .dataframe thead th {\n",
       "        text-align: right;\n",
       "    }\n",
       "</style>\n",
       "<table border=\"1\" class=\"dataframe\">\n",
       "  <thead>\n",
       "    <tr style=\"text-align: right;\">\n",
       "      <th></th>\n",
       "      <th>sepal.length</th>\n",
       "      <th>sepal.width</th>\n",
       "      <th>petal.length</th>\n",
       "      <th>petal.width</th>\n",
       "      <th>variety</th>\n",
       "    </tr>\n",
       "  </thead>\n",
       "  <tbody>\n",
       "    <tr>\n",
       "      <th>0</th>\n",
       "      <td>5.1</td>\n",
       "      <td>3.5</td>\n",
       "      <td>1.4</td>\n",
       "      <td>0.2</td>\n",
       "      <td>Setosa</td>\n",
       "    </tr>\n",
       "    <tr>\n",
       "      <th>1</th>\n",
       "      <td>4.9</td>\n",
       "      <td>3.0</td>\n",
       "      <td>1.4</td>\n",
       "      <td>0.2</td>\n",
       "      <td>Setosa</td>\n",
       "    </tr>\n",
       "    <tr>\n",
       "      <th>2</th>\n",
       "      <td>4.7</td>\n",
       "      <td>3.2</td>\n",
       "      <td>1.3</td>\n",
       "      <td>0.2</td>\n",
       "      <td>Setosa</td>\n",
       "    </tr>\n",
       "    <tr>\n",
       "      <th>3</th>\n",
       "      <td>4.6</td>\n",
       "      <td>3.1</td>\n",
       "      <td>1.5</td>\n",
       "      <td>0.2</td>\n",
       "      <td>Setosa</td>\n",
       "    </tr>\n",
       "    <tr>\n",
       "      <th>4</th>\n",
       "      <td>5.0</td>\n",
       "      <td>3.6</td>\n",
       "      <td>1.4</td>\n",
       "      <td>0.2</td>\n",
       "      <td>Setosa</td>\n",
       "    </tr>\n",
       "    <tr>\n",
       "      <th>5</th>\n",
       "      <td>5.4</td>\n",
       "      <td>3.9</td>\n",
       "      <td>1.7</td>\n",
       "      <td>0.4</td>\n",
       "      <td>Setosa</td>\n",
       "    </tr>\n",
       "  </tbody>\n",
       "</table>\n",
       "</div>"
      ],
      "text/plain": [
       "   sepal.length  sepal.width  petal.length  petal.width variety\n",
       "0           5.1          3.5           1.4          0.2  Setosa\n",
       "1           4.9          3.0           1.4          0.2  Setosa\n",
       "2           4.7          3.2           1.3          0.2  Setosa\n",
       "3           4.6          3.1           1.5          0.2  Setosa\n",
       "4           5.0          3.6           1.4          0.2  Setosa\n",
       "5           5.4          3.9           1.7          0.4  Setosa"
      ]
     },
     "execution_count": 5,
     "metadata": {},
     "output_type": "execute_result"
    }
   ],
   "source": [
    "iris.head(6)\n"
   ]
  },
  {
   "cell_type": "markdown",
   "metadata": {
    "id": "wOIdWNYLD91H"
   },
   "source": [
    "### **Q5. 데이터 프레임 iris의 variety 컬럼을 바 플롯(bar plot)을 이용하여 시각화 하시기 바랍니다.**"
   ]
  },
  {
   "cell_type": "code",
   "execution_count": 6,
   "metadata": {
    "colab": {
     "base_uri": "https://localhost:8080/",
     "height": 304
    },
    "executionInfo": {
     "elapsed": 551,
     "status": "ok",
     "timestamp": 1622181576725,
     "user": {
      "displayName": "Rayleigh Kim",
      "photoUrl": "",
      "userId": "07970978477328976416"
     },
     "user_tz": -540
    },
    "id": "DAzkMFyWD91I",
    "outputId": "4a5f2b41-77c8-4f7d-fef6-789749df5a27"
   },
   "outputs": [
    {
     "data": {
      "text/plain": [
       "<BarContainer object of 3 artists>"
      ]
     },
     "execution_count": 6,
     "metadata": {},
     "output_type": "execute_result"
    },
    {
     "data": {
      "image/png": "[encoded data removed]",
      "text/plain": [
       "<Figure size 432x288 with 1 Axes>"
      ]
     },
     "metadata": {
      "needs_background": "light"
     },
     "output_type": "display_data"
    }
   ],
   "source": [
    "col = ['Setosa', 'Versicolor', 'Virginica']\n",
    "plt.bar(col, iris['variety'].value_counts())"
   ]
  },
  {
   "cell_type": "markdown",
   "metadata": {
    "id": "tUxLqN93ErCm"
   },
   "source": [
    "### **Q6. 데이터 프레임 iris의 sepal.length 컬럼을 히스토 그램을 이용하여 시각화 하시기 바랍니다.**\n",
    "---"
   ]
  },
  {
   "cell_type": "code",
   "execution_count": 7,
   "metadata": {
    "colab": {
     "base_uri": "https://localhost:8080/",
     "height": 265
    },
    "executionInfo": {
     "elapsed": 5,
     "status": "ok",
     "timestamp": 1622181576726,
     "user": {
      "displayName": "Rayleigh Kim",
      "photoUrl": "",
      "userId": "07970978477328976416"
     },
     "user_tz": -540
    },
    "id": "J_G9l1N6ErCm",
    "outputId": "caf68736-0725-4ae1-a9b1-36926e1e45cb"
   },
   "outputs": [
    {
     "data": {
      "text/plain": [
       "(array([ 9., 23., 14., 27., 16., 26., 18.,  6.,  5.,  6.]),\n",
       " array([4.3 , 4.66, 5.02, 5.38, 5.74, 6.1 , 6.46, 6.82, 7.18, 7.54, 7.9 ]),\n",
       " <a list of 10 Patch objects>)"
      ]
     },
     "execution_count": 7,
     "metadata": {},
     "output_type": "execute_result"
    },
    {
     "data": {
      "image/png": "[encoded data removed]",
      "text/plain": [
       "<Figure size 432x288 with 1 Axes>"
      ]
     },
     "metadata": {
      "needs_background": "light"
     },
     "output_type": "display_data"
    }
   ],
   "source": [
    "plt.hist(iris['sepal.length'])"
   ]
  },
  {
   "cell_type": "markdown",
   "metadata": {
    "id": "8Ag5nXDZFB7R"
   },
   "source": [
    "### **Q7. 데이터 프레임 iris의 petal.width 컬럼을 히스토 그램을 이용하여 시각화 하시기 바랍니다.**\n",
    "\n",
    "* **\n",
    "- 다섯개 구간으로 나누어 시각화 하시오.\n",
    "---"
   ]
  },
  {
   "cell_type": "code",
   "execution_count": 8,
   "metadata": {
    "colab": {
     "base_uri": "https://localhost:8080/",
     "height": 265
    },
    "executionInfo": {
     "elapsed": 4,
     "status": "ok",
     "timestamp": 1622181576726,
     "user": {
      "displayName": "Rayleigh Kim",
      "photoUrl": "",
      "userId": "07970978477328976416"
     },
     "user_tz": -540
    },
    "id": "wtpXTHWRFB7R",
    "outputId": "ab06625e-ab9f-42f1-86be-5b69ec76c566"
   },
   "outputs": [
    {
     "data": {
      "text/plain": [
       "(array([49.,  8., 41., 29., 23.]),\n",
       " array([0.1 , 0.58, 1.06, 1.54, 2.02, 2.5 ]),\n",
       " <a list of 5 Patch objects>)"
      ]
     },
     "execution_count": 8,
     "metadata": {},
     "output_type": "execute_result"
    },
    {
     "data": {
      "image/png": "[encoded data removed]",
      "text/plain": [
       "<Figure size 432x288 with 1 Axes>"
      ]
     },
     "metadata": {
      "needs_background": "light"
     },
     "output_type": "display_data"
    }
   ],
   "source": [
    "plt.hist(iris['petal.width'], bins=5)"
   ]
  },
  {
   "cell_type": "markdown",
   "metadata": {
    "id": "-UoU3sEAFeEk"
   },
   "source": [
    "### **Q8. 데이터 프레임 iris의 sepal.width를 x축으로 petal.width를 y축으로 하는 산점도를 시각화 하시기 바랍니다.**\n",
    "---"
   ]
  },
  {
   "cell_type": "code",
   "execution_count": 9,
   "metadata": {
    "colab": {
     "base_uri": "https://localhost:8080/",
     "height": 279
    },
    "executionInfo": {
     "elapsed": 7,
     "status": "ok",
     "timestamp": 1622181577135,
     "user": {
      "displayName": "Rayleigh Kim",
      "photoUrl": "",
      "userId": "07970978477328976416"
     },
     "user_tz": -540
    },
    "id": "XTguyw9VFeEl",
    "outputId": "08313a4b-df6d-4cae-a547-709bf6da2ee7"
   },
   "outputs": [
    {
     "data": {
      "text/plain": [
       "<matplotlib.collections.PathCollection at 0x7f3e21100240>"
      ]
     },
     "execution_count": 9,
     "metadata": {},
     "output_type": "execute_result"
    },
    {
     "data": {
      "image/png": "[encoded data removed]",
      "text/plain": [
       "<Figure size 432x288 with 1 Axes>"
      ]
     },
     "metadata": {
      "needs_background": "light"
     },
     "output_type": "display_data"
    }
   ],
   "source": [
    "plt.scatter(iris['sepal.width'], iris['petal.width'], alpha=0.5)"
   ]
  },
  {
   "cell_type": "markdown",
   "metadata": {
    "id": "_SVk4FX6Fw9y"
   },
   "source": [
    "### **Q9. 데이터 프레임 iris의 sepal.length를 x축으로 petal.length를 y축으로 하는 산점도를 시각화 하시기 바랍니다.**\n",
    "\n",
    "* **\n",
    "- class에 따라 다른색을 띄도록 시각화 하시오.\n",
    "---"
   ]
  },
  {
   "cell_type": "code",
   "execution_count": 10,
   "metadata": {
    "colab": {
     "base_uri": "https://localhost:8080/",
     "height": 265
    },
    "executionInfo": {
     "elapsed": 6,
     "status": "ok",
     "timestamp": 1622181577136,
     "user": {
      "displayName": "Rayleigh Kim",
      "photoUrl": "",
      "userId": "07970978477328976416"
     },
     "user_tz": -540
    },
    "id": "4x1EsKK9Fw90",
    "outputId": "06fff6fa-1a9e-4da8-ec1f-e71bd1d68acc"
   },
   "outputs": [
    {
     "data": {
      "text/plain": [
       "<matplotlib.collections.PathCollection at 0x7f3e038b0ba8>"
      ]
     },
     "execution_count": 10,
     "metadata": {},
     "output_type": "execute_result"
    },
    {
     "data": {
      "image/png": "[encoded data removed]",
      "text/plain": [
       "<Figure size 432x288 with 1 Axes>"
      ]
     },
     "metadata": {
      "needs_background": "light"
     },
     "output_type": "display_data"
    }
   ],
   "source": [
    "import numpy as np\n",
    "\n",
    "color=['' for i in range(len(iris))]\n",
    "\n",
    "for i in range(len(iris)):\n",
    "    if iris['variety'][i] == 'Setosa':\n",
    "        color[i] = '#FF0000'\n",
    "    elif iris['variety'][i] == 'Versicolor':\n",
    "        color[i] = '#00FF00'\n",
    "    elif iris['variety'][i] == 'Virginica':\n",
    "        color[i] = '#0000FF'\n",
    "\n",
    "plt.scatter(iris['sepal.length'], iris['petal.width'], color=color, alpha=0.5)\n"
   ]
  },
  {
   "cell_type": "markdown",
   "metadata": {
    "id": "pTmD8O87HwX7"
   },
   "source": [
    "### **Q10. 다음 조건에 맞추어 데이터 프레임 iris에 새로운 컬럼 sepal_ratio 를 추가하시기 바랍니다.**\n",
    "* **\n",
    "- sepal.length를 분자로 sepal.width를 분모로 하는 비율을 sepal_ratio로 정의한다.\n",
    "---"
   ]
  },
  {
   "cell_type": "code",
   "execution_count": 12,
   "metadata": {
    "id": "LXCRJX48HwYC"
   },
   "outputs": [],
   "source": [
    "iris['sepal_ratio'] = iris['sepal.length']/iris['sepal.width']"
   ]
  },
  {
   "cell_type": "markdown",
   "metadata": {
    "id": "aFrmBnLCII-u"
   },
   "source": [
    "### **Q11. 다음 조건에 맞추어 데이터 프레임 iris에 새로운 컬럼 length_diff 를 추가하시기 바랍니다.**\n",
    "\n",
    "* **\n",
    "- sepal.length와 petal.length의 차이의 크기를 length_diff로 정의한다.\n",
    "---"
   ]
  },
  {
   "cell_type": "code",
   "execution_count": 24,
   "metadata": {
    "id": "qla16nrxII-v"
   },
   "outputs": [],
   "source": [
    "iris['length_diff'] = abs(iris['sepal.length'] - iris['petal.length'])"
   ]
  },
  {
   "cell_type": "markdown",
   "metadata": {
    "id": "uBzSZz_GNGMI"
   },
   "source": [
    "### **Q12. 데이터 프레임 iris의 컬럼 variety를 label encoding하시기 바랍니다.**\n",
    "---"
   ]
  },
  {
   "cell_type": "code",
   "execution_count": 30,
   "metadata": {
    "colab": {
     "base_uri": "https://localhost:8080/"
    },
    "executionInfo": {
     "elapsed": 376,
     "status": "ok",
     "timestamp": 1622181577508,
     "user": {
      "displayName": "Rayleigh Kim",
      "photoUrl": "",
      "userId": "07970978477328976416"
     },
     "user_tz": -540
    },
    "id": "JZn7_m_8NGMK",
    "outputId": "09f46028-ae20-49b6-90fb-97a394195709"
   },
   "outputs": [],
   "source": [
    "from sklearn.preprocessing import LabelEncoder\n",
    "le = LabelEncoder()\n",
    "iris['variety'] = le.fit_transform(iris['variety'])"
   ]
  },
  {
   "cell_type": "code",
   "execution_count": 34,
   "metadata": {},
   "outputs": [
    {
     "data": {
      "text/html": [
       "<div>\n",
       "<style scoped>\n",
       "    .dataframe tbody tr th:only-of-type {\n",
       "        vertical-align: middle;\n",
       "    }\n",
       "\n",
       "    .dataframe tbody tr th {\n",
       "        vertical-align: top;\n",
       "    }\n",
       "\n",
       "    .dataframe thead th {\n",
       "        text-align: right;\n",
       "    }\n",
       "</style>\n",
       "<table border=\"1\" class=\"dataframe\">\n",
       "  <thead>\n",
       "    <tr style=\"text-align: right;\">\n",
       "      <th></th>\n",
       "      <th>sepal.length</th>\n",
       "      <th>sepal.width</th>\n",
       "      <th>petal.length</th>\n",
       "      <th>petal.width</th>\n",
       "      <th>variety</th>\n",
       "      <th>sepal_ratio</th>\n",
       "      <th>length_diff</th>\n",
       "    </tr>\n",
       "  </thead>\n",
       "  <tbody>\n",
       "    <tr>\n",
       "      <th>0</th>\n",
       "      <td>5.1</td>\n",
       "      <td>3.5</td>\n",
       "      <td>1.4</td>\n",
       "      <td>0.2</td>\n",
       "      <td>0</td>\n",
       "      <td>1.457143</td>\n",
       "      <td>3.7</td>\n",
       "    </tr>\n",
       "    <tr>\n",
       "      <th>1</th>\n",
       "      <td>4.9</td>\n",
       "      <td>3.0</td>\n",
       "      <td>1.4</td>\n",
       "      <td>0.2</td>\n",
       "      <td>0</td>\n",
       "      <td>1.633333</td>\n",
       "      <td>3.5</td>\n",
       "    </tr>\n",
       "    <tr>\n",
       "      <th>2</th>\n",
       "      <td>4.7</td>\n",
       "      <td>3.2</td>\n",
       "      <td>1.3</td>\n",
       "      <td>0.2</td>\n",
       "      <td>0</td>\n",
       "      <td>1.468750</td>\n",
       "      <td>3.4</td>\n",
       "    </tr>\n",
       "    <tr>\n",
       "      <th>3</th>\n",
       "      <td>4.6</td>\n",
       "      <td>3.1</td>\n",
       "      <td>1.5</td>\n",
       "      <td>0.2</td>\n",
       "      <td>0</td>\n",
       "      <td>1.483871</td>\n",
       "      <td>3.1</td>\n",
       "    </tr>\n",
       "    <tr>\n",
       "      <th>4</th>\n",
       "      <td>5.0</td>\n",
       "      <td>3.6</td>\n",
       "      <td>1.4</td>\n",
       "      <td>0.2</td>\n",
       "      <td>0</td>\n",
       "      <td>1.388889</td>\n",
       "      <td>3.6</td>\n",
       "    </tr>\n",
       "    <tr>\n",
       "      <th>...</th>\n",
       "      <td>...</td>\n",
       "      <td>...</td>\n",
       "      <td>...</td>\n",
       "      <td>...</td>\n",
       "      <td>...</td>\n",
       "      <td>...</td>\n",
       "      <td>...</td>\n",
       "    </tr>\n",
       "    <tr>\n",
       "      <th>145</th>\n",
       "      <td>6.7</td>\n",
       "      <td>3.0</td>\n",
       "      <td>5.2</td>\n",
       "      <td>2.3</td>\n",
       "      <td>2</td>\n",
       "      <td>2.233333</td>\n",
       "      <td>1.5</td>\n",
       "    </tr>\n",
       "    <tr>\n",
       "      <th>146</th>\n",
       "      <td>6.3</td>\n",
       "      <td>2.5</td>\n",
       "      <td>5.0</td>\n",
       "      <td>1.9</td>\n",
       "      <td>2</td>\n",
       "      <td>2.520000</td>\n",
       "      <td>1.3</td>\n",
       "    </tr>\n",
       "    <tr>\n",
       "      <th>147</th>\n",
       "      <td>6.5</td>\n",
       "      <td>3.0</td>\n",
       "      <td>5.2</td>\n",
       "      <td>2.0</td>\n",
       "      <td>2</td>\n",
       "      <td>2.166667</td>\n",
       "      <td>1.3</td>\n",
       "    </tr>\n",
       "    <tr>\n",
       "      <th>148</th>\n",
       "      <td>6.2</td>\n",
       "      <td>3.4</td>\n",
       "      <td>5.4</td>\n",
       "      <td>2.3</td>\n",
       "      <td>2</td>\n",
       "      <td>1.823529</td>\n",
       "      <td>0.8</td>\n",
       "    </tr>\n",
       "    <tr>\n",
       "      <th>149</th>\n",
       "      <td>5.9</td>\n",
       "      <td>3.0</td>\n",
       "      <td>5.1</td>\n",
       "      <td>1.8</td>\n",
       "      <td>2</td>\n",
       "      <td>1.966667</td>\n",
       "      <td>0.8</td>\n",
       "    </tr>\n",
       "  </tbody>\n",
       "</table>\n",
       "<p>150 rows × 7 columns</p>\n",
       "</div>"
      ],
      "text/plain": [
       "     sepal.length  sepal.width  petal.length  petal.width  variety  \\\n",
       "0             5.1          3.5           1.4          0.2        0   \n",
       "1             4.9          3.0           1.4          0.2        0   \n",
       "2             4.7          3.2           1.3          0.2        0   \n",
       "3             4.6          3.1           1.5          0.2        0   \n",
       "4             5.0          3.6           1.4          0.2        0   \n",
       "..            ...          ...           ...          ...      ...   \n",
       "145           6.7          3.0           5.2          2.3        2   \n",
       "146           6.3          2.5           5.0          1.9        2   \n",
       "147           6.5          3.0           5.2          2.0        2   \n",
       "148           6.2          3.4           5.4          2.3        2   \n",
       "149           5.9          3.0           5.1          1.8        2   \n",
       "\n",
       "     sepal_ratio  length_diff  \n",
       "0       1.457143          3.7  \n",
       "1       1.633333          3.5  \n",
       "2       1.468750          3.4  \n",
       "3       1.483871          3.1  \n",
       "4       1.388889          3.6  \n",
       "..           ...          ...  \n",
       "145     2.233333          1.5  \n",
       "146     2.520000          1.3  \n",
       "147     2.166667          1.3  \n",
       "148     1.823529          0.8  \n",
       "149     1.966667          0.8  \n",
       "\n",
       "[150 rows x 7 columns]"
      ]
     },
     "execution_count": 34,
     "metadata": {},
     "output_type": "execute_result"
    }
   ],
   "source": [
    "iris"
   ]
  },
  {
   "cell_type": "markdown",
   "metadata": {
    "id": "5z7xJxZcwC30"
   },
   "source": [
    "### **Q13. 데이터를 트레이닝셋 / 테스트셋으로 분할하시기 바랍니다.**\n",
    "* **\n",
    "- y는 iris데이터 프레임의 'variety'컬럼이고 x는 그 나머지 컬럼이다.\n",
    "- train : test = 9 : 1\n",
    "- y의 클래스가 골고루 분할되도록 stratify하게 분할한다.\n",
    "- 변수명 규칙은 다음과 같다.\n",
    "    * x_train, y_train\n",
    "    * x_test, y_test\n",
    "- random state, seed 등은 2021로 설정한다.\n",
    "---"
   ]
  },
  {
   "cell_type": "code",
   "execution_count": 47,
   "metadata": {
    "id": "nyfNZ71iwC30"
   },
   "outputs": [],
   "source": [
    "from sklearn.model_selection import train_test_split\n",
    "\n",
    "X = iris.drop(columns=['variety']).values\n",
    "y = iris['variety'].values\n",
    "x_train, x_test, y_train, y_test = train_test_split(X, y, test_size=0.1, stratify=y, random_state=2021)"
   ]
  },
  {
   "cell_type": "markdown",
   "metadata": {
    "id": "gDlfuPL30wai"
   },
   "source": [
    "### **Q15. Random Forest 모델들을 학습시키시기 바랍니다.**\n",
    "* **\n",
    "- RandomForestClassifier 하이퍼파라미터 설정 :  n_estimators=50, max_depth=13, random_state=30, min_samples_leaf=5\n",
    "- n_estimators 종합한 전체 트리의 가지수, max_depth : 각 Tree의 가장 깊은 높이, min_samples_leaf: 각 끝의 노드에는 최소 5개의 트레이닝 샘플이 있어야함\n",
    "- 트레이닝 셋 (x_train, y_train)을 이용하여 학습시킨다.\n",
    "- Forest를 이루는 tree의 leaf안에는 최소한 5개의 트레이닝셋 샘플이 있어야 한다.\n",
    "- seed나 random_state는 2021로 고정한다.\n",
    "---"
   ]
  },
  {
   "cell_type": "code",
   "execution_count": 49,
   "metadata": {
    "id": "nyWt8cfl0waj"
   },
   "outputs": [
    {
     "data": {
      "text/plain": [
       "RandomForestClassifier(max_depth=13, min_samples_leaf=5, n_estimators=50,\n",
       "                       random_state=30)"
      ]
     },
     "execution_count": 49,
     "metadata": {},
     "output_type": "execute_result"
    }
   ],
   "source": [
    "from sklearn.ensemble import RandomForestClassifier\n",
    "\n",
    "rfc = RandomForestClassifier(n_estimators=50, max_depth=13, random_state=30, min_samples_leaf=5)\n",
    "rfc.fit(x_train, y_train)"
   ]
  },
  {
   "cell_type": "markdown",
   "metadata": {
    "id": "xHmxbBgrg0ml"
   },
   "source": [
    "> **<span style=\"color:red\">다음 문항을 풀기 전에 </span>아래 코드를 실행하세요.**\n",
    ">"
   ]
  },
  {
   "cell_type": "code",
   "execution_count": 52,
   "metadata": {
    "id": "G4w6AawBoocC"
   },
   "outputs": [],
   "source": [
    "import tensorflow as tf\n",
    "from tensorflow import keras\n",
    "from tensorflow.keras.layers import Input, Dense, BatchNormalization\n",
    "from tensorflow.keras.models import Sequential, Model\n",
    "from tensorflow.keras.callbacks import EarlyStopping"
   ]
  },
  {
   "cell_type": "markdown",
   "metadata": {
    "id": "xWyL8jZng0nH"
   },
   "source": [
    "### **Q16. 아래 조건에 맞추어 뉴럴네트워크 모델을 학습시키시기 바랍니다.**\n",
    "* **\n",
    "- Tensorflow framework를 사용한다.\n",
    "- 히든레이어는 아래와 같은 규칙에 맞추어 구성합니다.\n",
    "    * 2개의 fully connected layer를 사용할 것\n",
    "    * Batchnormalization을 반드시 활용한다.\n",
    "- Early stopping을 이용하여, validation loss가 5번 이상 개선되지 않으면 학습을 중단 시키고, 가장 성능이 좋았을 때의 가중치를 복구한다.\n",
    "- 학습과정의 로그(loss, accuracy)를 history에 선언하여 남긴다.\n",
    "- y를 별도로 원핫인코딩 하지 않고 분류모델을 학습시킬 수 있도록 한다.(해당 형태의 경우 loss function은 sparse_categorical_crossentropy를 활용해야한다.)\n",
    "- epochs는 2000번을 지정한다.\n",
    "---"
   ]
  },
  {
   "cell_type": "code",
   "execution_count": 56,
   "metadata": {},
   "outputs": [
    {
     "name": "stdout",
     "output_type": "stream",
     "text": [
      "Epoch 1/2000\n",
      "5/5 [==============================] - 0s 42ms/step - loss: 2.5730 - accuracy: 0.1259 - val_loss: 1.4359 - val_accuracy: 0.3333\n",
      "Epoch 2/2000\n",
      "5/5 [==============================] - 0s 8ms/step - loss: 1.6671 - accuracy: 0.2222 - val_loss: 1.2795 - val_accuracy: 0.3333\n",
      "Epoch 3/2000\n",
      "5/5 [==============================] - 0s 15ms/step - loss: 0.9475 - accuracy: 0.5259 - val_loss: 1.1666 - val_accuracy: 0.3333\n",
      "Epoch 4/2000\n",
      "5/5 [==============================] - 0s 7ms/step - loss: 0.6701 - accuracy: 0.6741 - val_loss: 1.0840 - val_accuracy: 0.3333\n",
      "Epoch 5/2000\n",
      "5/5 [==============================] - 0s 14ms/step - loss: 0.4840 - accuracy: 0.7926 - val_loss: 1.0220 - val_accuracy: 0.6667\n",
      "Epoch 6/2000\n",
      "5/5 [==============================] - 0s 14ms/step - loss: 0.3869 - accuracy: 0.8815 - val_loss: 0.9730 - val_accuracy: 0.6667\n",
      "Epoch 7/2000\n",
      "5/5 [==============================] - 0s 9ms/step - loss: 0.3103 - accuracy: 0.9111 - val_loss: 0.9381 - val_accuracy: 0.6667\n",
      "Epoch 8/2000\n",
      "5/5 [==============================] - 0s 15ms/step - loss: 0.2858 - accuracy: 0.9185 - val_loss: 0.9084 - val_accuracy: 0.6667\n",
      "Epoch 9/2000\n",
      "5/5 [==============================] - 0s 14ms/step - loss: 0.2254 - accuracy: 0.9407 - val_loss: 0.8770 - val_accuracy: 0.6667\n",
      "Epoch 10/2000\n",
      "5/5 [==============================] - 0s 6ms/step - loss: 0.1915 - accuracy: 0.9630 - val_loss: 0.8479 - val_accuracy: 0.6000\n",
      "Epoch 11/2000\n",
      "5/5 [==============================] - 0s 15ms/step - loss: 0.1625 - accuracy: 0.9778 - val_loss: 0.8233 - val_accuracy: 0.6000\n",
      "Epoch 12/2000\n",
      "5/5 [==============================] - 0s 7ms/step - loss: 0.1617 - accuracy: 0.9630 - val_loss: 0.7957 - val_accuracy: 0.6667\n",
      "Epoch 13/2000\n",
      "5/5 [==============================] - 0s 7ms/step - loss: 0.1707 - accuracy: 0.9481 - val_loss: 0.7725 - val_accuracy: 0.6667\n",
      "Epoch 14/2000\n",
      "5/5 [==============================] - 0s 15ms/step - loss: 0.1491 - accuracy: 0.9704 - val_loss: 0.7546 - val_accuracy: 0.6667\n",
      "Epoch 15/2000\n",
      "5/5 [==============================] - 0s 6ms/step - loss: 0.1153 - accuracy: 0.9852 - val_loss: 0.7395 - val_accuracy: 0.6667\n",
      "Epoch 16/2000\n",
      "5/5 [==============================] - 0s 14ms/step - loss: 0.1758 - accuracy: 0.9556 - val_loss: 0.7230 - val_accuracy: 0.6667\n",
      "Epoch 17/2000\n",
      "5/5 [==============================] - 0s 7ms/step - loss: 0.1408 - accuracy: 0.9778 - val_loss: 0.7085 - val_accuracy: 0.7333\n",
      "Epoch 18/2000\n",
      "5/5 [==============================] - 0s 7ms/step - loss: 0.1173 - accuracy: 0.9630 - val_loss: 0.6969 - val_accuracy: 0.7333\n",
      "Epoch 19/2000\n",
      "5/5 [==============================] - 0s 16ms/step - loss: 0.0943 - accuracy: 0.9852 - val_loss: 0.6811 - val_accuracy: 0.7333\n",
      "Epoch 20/2000\n",
      "5/5 [==============================] - 0s 7ms/step - loss: 0.0869 - accuracy: 0.9926 - val_loss: 0.6667 - val_accuracy: 0.8000\n",
      "Epoch 21/2000\n",
      "5/5 [==============================] - 0s 13ms/step - loss: 0.0936 - accuracy: 0.9778 - val_loss: 0.6447 - val_accuracy: 0.8667\n",
      "Epoch 22/2000\n",
      "5/5 [==============================] - 0s 7ms/step - loss: 0.0919 - accuracy: 0.9630 - val_loss: 0.6228 - val_accuracy: 0.8667\n",
      "Epoch 23/2000\n",
      "5/5 [==============================] - 0s 7ms/step - loss: 0.0992 - accuracy: 0.9704 - val_loss: 0.6013 - val_accuracy: 0.9333\n",
      "Epoch 24/2000\n",
      "5/5 [==============================] - 0s 14ms/step - loss: 0.0711 - accuracy: 0.9852 - val_loss: 0.5784 - val_accuracy: 0.9333\n",
      "Epoch 25/2000\n",
      "5/5 [==============================] - 0s 6ms/step - loss: 0.1545 - accuracy: 0.9333 - val_loss: 0.5569 - val_accuracy: 0.9333\n",
      "Epoch 26/2000\n",
      "5/5 [==============================] - 0s 15ms/step - loss: 0.0925 - accuracy: 0.9704 - val_loss: 0.5347 - val_accuracy: 0.9333\n",
      "Epoch 27/2000\n",
      "5/5 [==============================] - 0s 6ms/step - loss: 0.0936 - accuracy: 0.9778 - val_loss: 0.5146 - val_accuracy: 0.9333\n",
      "Epoch 28/2000\n",
      "5/5 [==============================] - 0s 16ms/step - loss: 0.0777 - accuracy: 0.9778 - val_loss: 0.4949 - val_accuracy: 0.9333\n",
      "Epoch 29/2000\n",
      "5/5 [==============================] - 0s 14ms/step - loss: 0.0693 - accuracy: 0.9852 - val_loss: 0.4757 - val_accuracy: 0.9333\n",
      "Epoch 30/2000\n",
      "5/5 [==============================] - 0s 6ms/step - loss: 0.0646 - accuracy: 0.9926 - val_loss: 0.4583 - val_accuracy: 0.9333\n",
      "Epoch 31/2000\n",
      "5/5 [==============================] - 0s 14ms/step - loss: 0.0644 - accuracy: 0.9926 - val_loss: 0.4347 - val_accuracy: 0.9333\n",
      "Epoch 32/2000\n",
      "5/5 [==============================] - 0s 6ms/step - loss: 0.0680 - accuracy: 0.9852 - val_loss: 0.4148 - val_accuracy: 0.9333\n",
      "Epoch 33/2000\n",
      "5/5 [==============================] - 0s 13ms/step - loss: 0.0813 - accuracy: 0.9704 - val_loss: 0.3976 - val_accuracy: 0.9333\n",
      "Epoch 34/2000\n",
      "5/5 [==============================] - 0s 6ms/step - loss: 0.0638 - accuracy: 0.9778 - val_loss: 0.3857 - val_accuracy: 0.9333\n",
      "Epoch 35/2000\n",
      "5/5 [==============================] - 0s 13ms/step - loss: 0.0750 - accuracy: 0.9778 - val_loss: 0.3705 - val_accuracy: 0.9333\n",
      "Epoch 36/2000\n",
      "5/5 [==============================] - 0s 6ms/step - loss: 0.0890 - accuracy: 0.9704 - val_loss: 0.3464 - val_accuracy: 0.9333\n",
      "Epoch 37/2000\n",
      "5/5 [==============================] - 0s 6ms/step - loss: 0.0716 - accuracy: 0.9852 - val_loss: 0.3245 - val_accuracy: 0.9333\n",
      "Epoch 38/2000\n",
      "5/5 [==============================] - 0s 18ms/step - loss: 0.0653 - accuracy: 0.9926 - val_loss: 0.3067 - val_accuracy: 0.9333\n",
      "Epoch 39/2000\n",
      "5/5 [==============================] - 0s 8ms/step - loss: 0.0704 - accuracy: 0.9852 - val_loss: 0.2876 - val_accuracy: 0.9333\n",
      "Epoch 40/2000\n",
      "5/5 [==============================] - 0s 8ms/step - loss: 0.0621 - accuracy: 0.9778 - val_loss: 0.2668 - val_accuracy: 0.9333\n",
      "Epoch 41/2000\n",
      "5/5 [==============================] - 0s 16ms/step - loss: 0.0594 - accuracy: 0.9926 - val_loss: 0.2534 - val_accuracy: 0.9333\n",
      "Epoch 42/2000\n",
      "5/5 [==============================] - 0s 7ms/step - loss: 0.0554 - accuracy: 0.9926 - val_loss: 0.2440 - val_accuracy: 0.9333\n",
      "Epoch 43/2000\n",
      "5/5 [==============================] - 0s 12ms/step - loss: 0.1114 - accuracy: 0.9630 - val_loss: 0.2306 - val_accuracy: 0.9333\n",
      "Epoch 44/2000\n",
      "5/5 [==============================] - 0s 14ms/step - loss: 0.0772 - accuracy: 0.9778 - val_loss: 0.2185 - val_accuracy: 1.0000\n",
      "Epoch 45/2000\n",
      "5/5 [==============================] - 0s 7ms/step - loss: 0.0567 - accuracy: 0.9852 - val_loss: 0.1944 - val_accuracy: 1.0000\n",
      "Epoch 46/2000\n",
      "5/5 [==============================] - 0s 15ms/step - loss: 0.0669 - accuracy: 0.9778 - val_loss: 0.1819 - val_accuracy: 0.9333\n",
      "Epoch 47/2000\n",
      "5/5 [==============================] - 0s 8ms/step - loss: 0.1239 - accuracy: 0.9704 - val_loss: 0.1817 - val_accuracy: 0.9333\n",
      "Epoch 48/2000\n",
      "5/5 [==============================] - 0s 13ms/step - loss: 0.0972 - accuracy: 0.9704 - val_loss: 0.1978 - val_accuracy: 0.9333\n",
      "Epoch 49/2000\n",
      "5/5 [==============================] - 0s 13ms/step - loss: 0.0980 - accuracy: 0.9852 - val_loss: 0.1975 - val_accuracy: 0.9333\n",
      "Epoch 50/2000\n",
      "5/5 [==============================] - 0s 7ms/step - loss: 0.0930 - accuracy: 0.9852 - val_loss: 0.1883 - val_accuracy: 0.9333\n",
      "Epoch 51/2000\n",
      "5/5 [==============================] - 0s 15ms/step - loss: 0.1118 - accuracy: 0.9556 - val_loss: 0.1831 - val_accuracy: 0.9333\n",
      "Epoch 52/2000\n",
      "1/5 [=====>........................] - ETA: 0s - loss: 0.0244 - accuracy: 1.0000Restoring model weights from the end of the best epoch.\n",
      "5/5 [==============================] - 0s 7ms/step - loss: 0.0952 - accuracy: 0.9556 - val_loss: 0.1914 - val_accuracy: 1.0000\n",
      "Epoch 00052: early stopping\n"
     ]
    }
   ],
   "source": [
    "model = Sequential()\n",
    "model.add(Dense(64, activation='relu'))\n",
    "model.add(BatchNormalization())\n",
    "model.add(Dense(32, activation='relu'))\n",
    "model.add(BatchNormalization())\n",
    "model.add(Dense(3, activation='softmax'))\n",
    "\n",
    "model.compile(optimizer='adam', loss='sparse_categorical_crossentropy', metrics=['accuracy'])\n",
    "es = EarlyStopping(monitor='val_loss', patience=5, mode='min', verbose=1, restore_best_weights=True)\n",
    "# mc = ModelCheckpoint('my_checkpoint.ckpt', monitor='val_loss', save_best_only=True, verbose=1)\n",
    "# history = model.fit(x_train, y_train, epochs=2000, callbacks=[es, mc], validation_data=(x_test, y_test), verbose=1)\n",
    "history = model.fit(x_train, y_train, epochs=2000, callbacks=[es], validation_data=(x_test, y_test), verbose=1)"
   ]
  },
  {
   "cell_type": "markdown",
   "metadata": {
    "id": "xL_RAl1lg0nK"
   },
   "source": [
    "### **Q17. 다음 조건에 맞추어 뉴럴네트워크의 학습 로그를 시각화 하시기 바랍니다.**\n",
    "* **\n",
    "- 필요한 라이브러리가 있다면 따로 불러온다.\n",
    "- epochs에 따른 accuracy의 변화를 시각화 한다.\n",
    "- train accuracy와 validation accuracy를 전부 시각화하고, 구별가능해야 한다.\n",
    "- 그래프의 타이틀은 'Accuracy'로 표시한다.\n",
    "- x축에는 'epochs'라고 표시하고 y축에는 'accuracy'라고 표시한다.\n",
    "---"
   ]
  },
  {
   "cell_type": "code",
   "execution_count": 59,
   "metadata": {
    "colab": {
     "base_uri": "https://localhost:8080/",
     "height": 295
    },
    "executionInfo": {
     "elapsed": 9004,
     "status": "ok",
     "timestamp": 1622182123772,
     "user": {
      "displayName": "Rayleigh Kim",
      "photoUrl": "",
      "userId": "07970978477328976416"
     },
     "user_tz": -540
    },
    "id": "jNYCK-iFg0nL",
    "outputId": "85660f69-f890-4221-c902-83322133d03c"
   },
   "outputs": [
    {
     "data": {
      "text/plain": [
       "<matplotlib.legend.Legend at 0x7f3dfea147f0>"
      ]
     },
     "execution_count": 59,
     "metadata": {},
     "output_type": "execute_result"
    },
    {
     "data": {
      "image/png": "[encoded data removed]",
      "text/plain": [
       "<Figure size 720x360 with 1 Axes>"
      ]
     },
     "metadata": {
      "needs_background": "light"
     },
     "output_type": "display_data"
    }
   ],
   "source": [
    "plt.figure(figsize=(10, 5))\n",
    "plt.plot(history.history['accuracy'])\n",
    "plt.plot(history.history['val_accuracy'])\n",
    "plt.title('Accuracy')\n",
    "plt.xlabel('epochs')\n",
    "plt.ylabel('accuracy')\n",
    "plt.legend(['train', 'validation'], loc='lower right')"
   ]
  }
 ],
 "metadata": {
  "colab": {
   "collapsed_sections": [],
   "name": "문제1. (sol)iris 데이터를 이용한 데이터 분석.ipynb",
   "provenance": []
  },
  "kernelspec": {
   "display_name": "Python 3",
   "language": "python",
   "name": "python3"
  },
  "language_info": {
   "codemirror_mode": {
    "name": "ipython",
    "version": 3
   },
   "file_extension": ".py",
   "mimetype": "text/x-python",
   "name": "python",
   "nbconvert_exporter": "python",
   "pygments_lexer": "ipython3",
   "version": "3.6.9"
  }
 },
 "nbformat": 4,
 "nbformat_minor": 4
}
