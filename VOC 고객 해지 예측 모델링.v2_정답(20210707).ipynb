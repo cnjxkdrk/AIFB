{
 "cells": [
  {
   "cell_type": "markdown",
   "metadata": {},
   "source": [
    "# VOC 고객 해지 예측 모델링\n",
    "#### 1. KT Dataset 가져오기 (완료)\n",
    "#### 2. Jupyter Lab 노트북 파일 생성 (완료)\n",
    "#### 3. 데이터 로드하기\n",
    "#### 4. 데이터 구성 확인 및 결측치 처리, 불필요 컬럼(Feature)을 데이터셋에서 제외\n",
    "#### 5. 인코딩(LabelEncoder, OneHotEncoder, pd.get_dummies)\n",
    "#### 6. Train, Test 데이터셋 분할하기\n",
    "#### 7. 정규화(MinMaxScaling)\n",
    "#### 8. 머신러닝 모델 구현\n",
    "#### 9. 딥러닝 심층신경망 모델 구현\n",
    "#### 10. 모델 평가하기"
   ]
  },
  {
   "cell_type": "code",
   "execution_count": 1,
   "metadata": {},
   "outputs": [],
   "source": [
    "# 코드실행시 경고 메시지 무시\n",
    "import warnings\n",
    "warnings.filterwarnings(action='ignore') "
   ]
  },
  {
   "cell_type": "markdown",
   "metadata": {},
   "source": [
    "### seaborn 라이브러리 설치"
   ]
  },
  {
   "cell_type": "markdown",
   "metadata": {},
   "source": [
    "<Br>\n",
    "<font color=blue>[문제] pip 이용해서 seaborn 설치하기</font>"
   ]
  },
  {
   "cell_type": "code",
   "execution_count": 2,
   "metadata": {},
   "outputs": [
    {
     "name": "stdout",
     "output_type": "stream",
     "text": [
      "Looking in indexes: http://10.220.235.19/pypi/simple\n",
      "Requirement already satisfied: seaborn in /usr/local/lib/python3.6/dist-packages (0.11.1)\n",
      "Requirement already satisfied: numpy>=1.15 in /usr/local/lib/python3.6/dist-packages (from seaborn) (1.16.4)\n",
      "Requirement already satisfied: pandas>=0.23 in /usr/local/lib/python3.6/dist-packages (from seaborn) (1.0.4)\n",
      "Requirement already satisfied: scipy>=1.0 in /usr/local/lib/python3.6/dist-packages (from seaborn) (1.4.1)\n",
      "Requirement already satisfied: matplotlib>=2.2 in /usr/local/lib/python3.6/dist-packages (from seaborn) (3.2.1)\n",
      "Requirement already satisfied: python-dateutil>=2.6.1 in /usr/local/lib/python3.6/dist-packages (from pandas>=0.23->seaborn) (2.8.1)\n",
      "Requirement already satisfied: pytz>=2017.2 in /usr/local/lib/python3.6/dist-packages (from pandas>=0.23->seaborn) (2020.1)\n",
      "Requirement already satisfied: cycler>=0.10 in /usr/local/lib/python3.6/dist-packages (from matplotlib>=2.2->seaborn) (0.10.0)\n",
      "Requirement already satisfied: kiwisolver>=1.0.1 in /usr/local/lib/python3.6/dist-packages (from matplotlib>=2.2->seaborn) (1.2.0)\n",
      "Requirement already satisfied: pyparsing!=2.0.4,!=2.1.2,!=2.1.6,>=2.0.1 in /usr/local/lib/python3.6/dist-packages (from matplotlib>=2.2->seaborn) (2.4.7)\n",
      "Requirement already satisfied: six>=1.5 in /usr/local/lib/python3.6/dist-packages (from python-dateutil>=2.6.1->pandas>=0.23->seaborn) (1.14.0)\n",
      "\u001b[33mWARNING: You are using pip version 20.1; however, version 21.0.1 is available.\n",
      "You should consider upgrading via the '/usr/bin/python3 -m pip install --upgrade pip' command.\u001b[0m\n"
     ]
    }
   ],
   "source": [
    "# 맨 앞쪽에 ! 사용하면 리눅스 명령어 수행할수 있습니다.\n",
    "!pip install seaborn\n",
    "\n",
    "\n",
    "\n"
   ]
  },
  {
   "cell_type": "markdown",
   "metadata": {},
   "source": [
    "### 라이브러리 임포트(numpy, pandas, matplotlib, seaborn)"
   ]
  },
  {
   "cell_type": "markdown",
   "metadata": {},
   "source": [
    "<br>\n",
    "<font color=blue>[문제] numpy 별칭을 np로, pandas 별칭을 pd로 해서 임포트 하세요</font>"
   ]
  },
  {
   "cell_type": "code",
   "execution_count": 3,
   "metadata": {},
   "outputs": [],
   "source": [
    "# import 명령 사용하면 됩니다.\n",
    "# numpy와 pandas 라이브러리 임포트 합니다.\n",
    "import numpy as np\n",
    "import pandas as pd\n",
    "\n",
    "\n"
   ]
  },
  {
   "cell_type": "code",
   "execution_count": 4,
   "metadata": {},
   "outputs": [],
   "source": [
    "import matplotlib.pyplot as plt\n",
    "import seaborn as sns\n",
    "%matplotlib inline"
   ]
  },
  {
   "cell_type": "markdown",
   "metadata": {},
   "source": [
    "### AIDU 라이브러리 임포트 및 AIDU 연동 변수 설정"
   ]
  },
  {
   "cell_type": "code",
   "execution_count": 5,
   "metadata": {},
   "outputs": [],
   "source": [
    "from aicentro.session import Session\n",
    "from aicentro.framework.keras import Keras as AiduFrm\n",
    "\n",
    "aidu_session = Session(verify=False)\n",
    "aidu_framework = AiduFrm(session=aidu_session)"
   ]
  },
  {
   "cell_type": "markdown",
   "metadata": {},
   "source": [
    "#  \n",
    "# 3. 데이터 로드"
   ]
  },
  {
   "cell_type": "markdown",
   "metadata": {},
   "source": [
    "<br>\n",
    "<font color=blue>[문제] pandas read_csv 함수를 사용하여 voc_rcp_test.csv 파일 읽어오세요</font>"
   ]
  },
  {
   "cell_type": "code",
   "execution_count": 6,
   "metadata": {},
   "outputs": [],
   "source": [
    "# AIDU 파일 저장 위치 변수 : aidu_framework.config.data_dir\n",
    "# 읽어올 파일명 : voc_rcp_test.csv\n",
    "# 읽어온 파일을 DataFrame \"df\" 이름으로 저장\n",
    "\n",
    "\n",
    "\n",
    "df = pd.read_csv(aidu_framework.config.data_dir + '/voc_rcp_test.csv')"
   ]
  },
  {
   "cell_type": "code",
   "execution_count": 7,
   "metadata": {},
   "outputs": [
    {
     "data": {
      "text/html": [
       "<div>\n",
       "<style scoped>\n",
       "    .dataframe tbody tr th:only-of-type {\n",
       "        vertical-align: middle;\n",
       "    }\n",
       "\n",
       "    .dataframe tbody tr th {\n",
       "        vertical-align: top;\n",
       "    }\n",
       "\n",
       "    .dataframe thead th {\n",
       "        text-align: right;\n",
       "    }\n",
       "</style>\n",
       "<table border=\"1\" class=\"dataframe\">\n",
       "  <thead>\n",
       "    <tr style=\"text-align: right;\">\n",
       "      <th></th>\n",
       "      <th>voc_trt_perd_itg_cd</th>\n",
       "      <th>voc_prod_sbt_id</th>\n",
       "      <th>voc_wjt_sorc_id</th>\n",
       "      <th>voc_type_itg_cd</th>\n",
       "      <th>voc_sttus_itg_cd</th>\n",
       "      <th>voc_trt_reslt_itg_cd</th>\n",
       "      <th>cust_pty_sbt_id</th>\n",
       "      <th>cust_clas_itg_cd</th>\n",
       "      <th>bprod_sbt_id</th>\n",
       "      <th>age_itg_cd</th>\n",
       "      <th>...</th>\n",
       "      <th>voc_dupl_tmscnt</th>\n",
       "      <th>oos_cause_type_itg_cd</th>\n",
       "      <th>voc_trt_need_time_itg_cd</th>\n",
       "      <th>engt_cperd_type_itg_cd</th>\n",
       "      <th>engt_tgt_div_itg_cd</th>\n",
       "      <th>cont_fns_pam_date</th>\n",
       "      <th>voc_mis_pbls_yn</th>\n",
       "      <th>fclt_oos_yn</th>\n",
       "      <th>cust_snsry_base_conf_need_time</th>\n",
       "      <th>trm_yn</th>\n",
       "    </tr>\n",
       "  </thead>\n",
       "  <tbody>\n",
       "    <tr>\n",
       "      <th>0</th>\n",
       "      <td>10000</td>\n",
       "      <td>1001061191</td>\n",
       "      <td>2056</td>\n",
       "      <td>10009</td>\n",
       "      <td>10002</td>\n",
       "      <td>_</td>\n",
       "      <td>1370499225</td>\n",
       "      <td>O</td>\n",
       "      <td>1001060911</td>\n",
       "      <td>021</td>\n",
       "      <td>...</td>\n",
       "      <td>0.0</td>\n",
       "      <td>_</td>\n",
       "      <td>10001</td>\n",
       "      <td>_</td>\n",
       "      <td>_</td>\n",
       "      <td>99991231</td>\n",
       "      <td>N</td>\n",
       "      <td>_</td>\n",
       "      <td>0.0</td>\n",
       "      <td>N</td>\n",
       "    </tr>\n",
       "    <tr>\n",
       "      <th>1</th>\n",
       "      <td>10000</td>\n",
       "      <td>1000823687</td>\n",
       "      <td>1578</td>\n",
       "      <td>10003</td>\n",
       "      <td>10002</td>\n",
       "      <td>_</td>\n",
       "      <td>1314659377</td>\n",
       "      <td>J</td>\n",
       "      <td>1000851875</td>\n",
       "      <td>054</td>\n",
       "      <td>...</td>\n",
       "      <td>0.0</td>\n",
       "      <td>10268</td>\n",
       "      <td>10008</td>\n",
       "      <td>15097</td>\n",
       "      <td>15244</td>\n",
       "      <td>20200921</td>\n",
       "      <td>N</td>\n",
       "      <td>N</td>\n",
       "      <td>0.0</td>\n",
       "      <td>N</td>\n",
       "    </tr>\n",
       "    <tr>\n",
       "      <th>2</th>\n",
       "      <td>10004</td>\n",
       "      <td>1001027747</td>\n",
       "      <td>184</td>\n",
       "      <td>10007</td>\n",
       "      <td>10002</td>\n",
       "      <td>10003</td>\n",
       "      <td>1272140800</td>\n",
       "      <td>I</td>\n",
       "      <td>1000737200</td>\n",
       "      <td>054</td>\n",
       "      <td>...</td>\n",
       "      <td>0.0</td>\n",
       "      <td>_</td>\n",
       "      <td>10037</td>\n",
       "      <td>15097</td>\n",
       "      <td>15249</td>\n",
       "      <td>20180122</td>\n",
       "      <td>N</td>\n",
       "      <td>_</td>\n",
       "      <td>0.0</td>\n",
       "      <td>N</td>\n",
       "    </tr>\n",
       "    <tr>\n",
       "      <th>3</th>\n",
       "      <td>10000</td>\n",
       "      <td>1000665328</td>\n",
       "      <td>3321</td>\n",
       "      <td>10009</td>\n",
       "      <td>10002</td>\n",
       "      <td>10026</td>\n",
       "      <td>1310661162</td>\n",
       "      <td>G</td>\n",
       "      <td>1000001126</td>\n",
       "      <td>049</td>\n",
       "      <td>...</td>\n",
       "      <td>0.0</td>\n",
       "      <td>_</td>\n",
       "      <td>10001</td>\n",
       "      <td>_</td>\n",
       "      <td>_</td>\n",
       "      <td>99991231</td>\n",
       "      <td>N</td>\n",
       "      <td>_</td>\n",
       "      <td>0.0</td>\n",
       "      <td>N</td>\n",
       "    </tr>\n",
       "    <tr>\n",
       "      <th>4</th>\n",
       "      <td>10000</td>\n",
       "      <td>1001027747</td>\n",
       "      <td>289</td>\n",
       "      <td>10009</td>\n",
       "      <td>10002</td>\n",
       "      <td>_</td>\n",
       "      <td>1305280435</td>\n",
       "      <td>F</td>\n",
       "      <td>1000737200</td>\n",
       "      <td>048</td>\n",
       "      <td>...</td>\n",
       "      <td>0.0</td>\n",
       "      <td>_</td>\n",
       "      <td>10001</td>\n",
       "      <td>15097</td>\n",
       "      <td>15244</td>\n",
       "      <td>20230410</td>\n",
       "      <td>N</td>\n",
       "      <td>_</td>\n",
       "      <td>0.0</td>\n",
       "      <td>N</td>\n",
       "    </tr>\n",
       "  </tbody>\n",
       "</table>\n",
       "<p>5 rows × 25 columns</p>\n",
       "</div>"
      ],
      "text/plain": [
       "  voc_trt_perd_itg_cd  voc_prod_sbt_id  voc_wjt_sorc_id  voc_type_itg_cd  \\\n",
       "0               10000       1001061191             2056            10009   \n",
       "1               10000       1000823687             1578            10003   \n",
       "2               10004       1001027747              184            10007   \n",
       "3               10000       1000665328             3321            10009   \n",
       "4               10000       1001027747              289            10009   \n",
       "\n",
       "   voc_sttus_itg_cd voc_trt_reslt_itg_cd  cust_pty_sbt_id cust_clas_itg_cd  \\\n",
       "0             10002                    _       1370499225                O   \n",
       "1             10002                    _       1314659377                J   \n",
       "2             10002                10003       1272140800                I   \n",
       "3             10002                10026       1310661162                G   \n",
       "4             10002                    _       1305280435                F   \n",
       "\n",
       "   bprod_sbt_id age_itg_cd  ... voc_dupl_tmscnt  oos_cause_type_itg_cd  \\\n",
       "0    1001060911        021  ...             0.0                      _   \n",
       "1    1000851875        054  ...             0.0                  10268   \n",
       "2    1000737200        054  ...             0.0                      _   \n",
       "3    1000001126        049  ...             0.0                      _   \n",
       "4    1000737200        048  ...             0.0                      _   \n",
       "\n",
       "   voc_trt_need_time_itg_cd engt_cperd_type_itg_cd  engt_tgt_div_itg_cd  \\\n",
       "0                     10001                      _                    _   \n",
       "1                     10008                  15097                15244   \n",
       "2                     10037                  15097                15249   \n",
       "3                     10001                      _                    _   \n",
       "4                     10001                  15097                15244   \n",
       "\n",
       "   cont_fns_pam_date voc_mis_pbls_yn  fclt_oos_yn  \\\n",
       "0           99991231               N            _   \n",
       "1           20200921               N            N   \n",
       "2           20180122               N            _   \n",
       "3           99991231               N            _   \n",
       "4           20230410               N            _   \n",
       "\n",
       "  cust_snsry_base_conf_need_time trm_yn  \n",
       "0                            0.0      N  \n",
       "1                            0.0      N  \n",
       "2                            0.0      N  \n",
       "3                            0.0      N  \n",
       "4                            0.0      N  \n",
       "\n",
       "[5 rows x 25 columns]"
      ]
     },
     "execution_count": 7,
     "metadata": {},
     "output_type": "execute_result"
    }
   ],
   "source": [
    "df.head()"
   ]
  },
  {
   "cell_type": "markdown",
   "metadata": {},
   "source": [
    "<br>\n",
    "<font color=blue>[문제] \"df\" DataFrame 이용해서 읽어들이 파일의 뒤부분 5줄 출력하세요</font>"
   ]
  },
  {
   "cell_type": "code",
   "execution_count": 8,
   "metadata": {},
   "outputs": [
    {
     "data": {
      "text/html": [
       "<div>\n",
       "<style scoped>\n",
       "    .dataframe tbody tr th:only-of-type {\n",
       "        vertical-align: middle;\n",
       "    }\n",
       "\n",
       "    .dataframe tbody tr th {\n",
       "        vertical-align: top;\n",
       "    }\n",
       "\n",
       "    .dataframe thead th {\n",
       "        text-align: right;\n",
       "    }\n",
       "</style>\n",
       "<table border=\"1\" class=\"dataframe\">\n",
       "  <thead>\n",
       "    <tr style=\"text-align: right;\">\n",
       "      <th></th>\n",
       "      <th>voc_trt_perd_itg_cd</th>\n",
       "      <th>voc_prod_sbt_id</th>\n",
       "      <th>voc_wjt_sorc_id</th>\n",
       "      <th>voc_type_itg_cd</th>\n",
       "      <th>voc_sttus_itg_cd</th>\n",
       "      <th>voc_trt_reslt_itg_cd</th>\n",
       "      <th>cust_pty_sbt_id</th>\n",
       "      <th>cust_clas_itg_cd</th>\n",
       "      <th>bprod_sbt_id</th>\n",
       "      <th>age_itg_cd</th>\n",
       "      <th>...</th>\n",
       "      <th>voc_dupl_tmscnt</th>\n",
       "      <th>oos_cause_type_itg_cd</th>\n",
       "      <th>voc_trt_need_time_itg_cd</th>\n",
       "      <th>engt_cperd_type_itg_cd</th>\n",
       "      <th>engt_tgt_div_itg_cd</th>\n",
       "      <th>cont_fns_pam_date</th>\n",
       "      <th>voc_mis_pbls_yn</th>\n",
       "      <th>fclt_oos_yn</th>\n",
       "      <th>cust_snsry_base_conf_need_time</th>\n",
       "      <th>trm_yn</th>\n",
       "    </tr>\n",
       "  </thead>\n",
       "  <tbody>\n",
       "    <tr>\n",
       "      <th>218890</th>\n",
       "      <td>10000</td>\n",
       "      <td>1001028488</td>\n",
       "      <td>2174</td>\n",
       "      <td>10009</td>\n",
       "      <td>10002</td>\n",
       "      <td>_</td>\n",
       "      <td>1303049448</td>\n",
       "      <td>L</td>\n",
       "      <td>1000851716</td>\n",
       "      <td>046</td>\n",
       "      <td>...</td>\n",
       "      <td>0.0</td>\n",
       "      <td>_</td>\n",
       "      <td>10001</td>\n",
       "      <td>15098</td>\n",
       "      <td>15244</td>\n",
       "      <td>20181128</td>\n",
       "      <td>N</td>\n",
       "      <td>_</td>\n",
       "      <td>0.0</td>\n",
       "      <td>N</td>\n",
       "    </tr>\n",
       "    <tr>\n",
       "      <th>218891</th>\n",
       "      <td>10000</td>\n",
       "      <td>1000711651</td>\n",
       "      <td>504</td>\n",
       "      <td>10011</td>\n",
       "      <td>10002</td>\n",
       "      <td>_</td>\n",
       "      <td>1310743140</td>\n",
       "      <td>_</td>\n",
       "      <td>1000001564</td>\n",
       "      <td>_</td>\n",
       "      <td>...</td>\n",
       "      <td>0.0</td>\n",
       "      <td>_</td>\n",
       "      <td>10001</td>\n",
       "      <td>_</td>\n",
       "      <td>_</td>\n",
       "      <td>99991231</td>\n",
       "      <td>N</td>\n",
       "      <td>_</td>\n",
       "      <td>0.0</td>\n",
       "      <td>N</td>\n",
       "    </tr>\n",
       "    <tr>\n",
       "      <th>218892</th>\n",
       "      <td>10000</td>\n",
       "      <td>1001047798</td>\n",
       "      <td>2174</td>\n",
       "      <td>10009</td>\n",
       "      <td>10002</td>\n",
       "      <td>_</td>\n",
       "      <td>1308673240</td>\n",
       "      <td>I</td>\n",
       "      <td>1001046520</td>\n",
       "      <td>046</td>\n",
       "      <td>...</td>\n",
       "      <td>0.0</td>\n",
       "      <td>_</td>\n",
       "      <td>10001</td>\n",
       "      <td>_</td>\n",
       "      <td>_</td>\n",
       "      <td>99991231</td>\n",
       "      <td>N</td>\n",
       "      <td>_</td>\n",
       "      <td>0.0</td>\n",
       "      <td>N</td>\n",
       "    </tr>\n",
       "    <tr>\n",
       "      <th>218893</th>\n",
       "      <td>_</td>\n",
       "      <td>1001027710</td>\n",
       "      <td>2064</td>\n",
       "      <td>10009</td>\n",
       "      <td>10002</td>\n",
       "      <td>_</td>\n",
       "      <td>1318367928</td>\n",
       "      <td>_</td>\n",
       "      <td>-998</td>\n",
       "      <td>_</td>\n",
       "      <td>...</td>\n",
       "      <td>0.0</td>\n",
       "      <td>_</td>\n",
       "      <td>10001</td>\n",
       "      <td>_</td>\n",
       "      <td>_</td>\n",
       "      <td>99991231</td>\n",
       "      <td>N</td>\n",
       "      <td>_</td>\n",
       "      <td>0.0</td>\n",
       "      <td>N</td>\n",
       "    </tr>\n",
       "    <tr>\n",
       "      <th>218894</th>\n",
       "      <td>_</td>\n",
       "      <td>1001028708</td>\n",
       "      <td>2106</td>\n",
       "      <td>10009</td>\n",
       "      <td>10002</td>\n",
       "      <td>10081</td>\n",
       "      <td>1286056955</td>\n",
       "      <td>J</td>\n",
       "      <td>1000852208</td>\n",
       "      <td>056</td>\n",
       "      <td>...</td>\n",
       "      <td>0.0</td>\n",
       "      <td>_</td>\n",
       "      <td>10001</td>\n",
       "      <td>15097</td>\n",
       "      <td>15244</td>\n",
       "      <td>20150302</td>\n",
       "      <td>N</td>\n",
       "      <td>_</td>\n",
       "      <td>0.0</td>\n",
       "      <td>N</td>\n",
       "    </tr>\n",
       "  </tbody>\n",
       "</table>\n",
       "<p>5 rows × 25 columns</p>\n",
       "</div>"
      ],
      "text/plain": [
       "       voc_trt_perd_itg_cd  voc_prod_sbt_id  voc_wjt_sorc_id  voc_type_itg_cd  \\\n",
       "218890               10000       1001028488             2174            10009   \n",
       "218891               10000       1000711651              504            10011   \n",
       "218892               10000       1001047798             2174            10009   \n",
       "218893                   _       1001027710             2064            10009   \n",
       "218894                   _       1001028708             2106            10009   \n",
       "\n",
       "        voc_sttus_itg_cd voc_trt_reslt_itg_cd  cust_pty_sbt_id  \\\n",
       "218890             10002                    _       1303049448   \n",
       "218891             10002                    _       1310743140   \n",
       "218892             10002                    _       1308673240   \n",
       "218893             10002                    _       1318367928   \n",
       "218894             10002                10081       1286056955   \n",
       "\n",
       "       cust_clas_itg_cd  bprod_sbt_id age_itg_cd  ... voc_dupl_tmscnt  \\\n",
       "218890                L    1000851716        046  ...             0.0   \n",
       "218891                _    1000001564          _  ...             0.0   \n",
       "218892                I    1001046520        046  ...             0.0   \n",
       "218893                _          -998          _  ...             0.0   \n",
       "218894                J    1000852208        056  ...             0.0   \n",
       "\n",
       "        oos_cause_type_itg_cd  voc_trt_need_time_itg_cd  \\\n",
       "218890                      _                     10001   \n",
       "218891                      _                     10001   \n",
       "218892                      _                     10001   \n",
       "218893                      _                     10001   \n",
       "218894                      _                     10001   \n",
       "\n",
       "       engt_cperd_type_itg_cd  engt_tgt_div_itg_cd  cont_fns_pam_date  \\\n",
       "218890                  15098                15244           20181128   \n",
       "218891                      _                    _           99991231   \n",
       "218892                      _                    _           99991231   \n",
       "218893                      _                    _           99991231   \n",
       "218894                  15097                15244           20150302   \n",
       "\n",
       "       voc_mis_pbls_yn  fclt_oos_yn cust_snsry_base_conf_need_time trm_yn  \n",
       "218890               N            _                            0.0      N  \n",
       "218891               N            _                            0.0      N  \n",
       "218892               N            _                            0.0      N  \n",
       "218893               N            _                            0.0      N  \n",
       "218894               N            _                            0.0      N  \n",
       "\n",
       "[5 rows x 25 columns]"
      ]
     },
     "execution_count": 8,
     "metadata": {},
     "output_type": "execute_result"
    }
   ],
   "source": [
    "# tail() 함수 사용\n",
    "\n",
    "\n",
    "\n",
    "df.tail()"
   ]
  },
  {
   "cell_type": "markdown",
   "metadata": {},
   "source": [
    "#  \n",
    "# 4. 데이터 구성 확인 및 결측치 처리"
   ]
  },
  {
   "cell_type": "markdown",
   "metadata": {},
   "source": [
    "### 데이터프레임 정보 확인"
   ]
  },
  {
   "cell_type": "markdown",
   "metadata": {},
   "source": [
    "<br>\n",
    "<font color=blue>[문제] 데이터프레임 정보(컬럼정보, Null 여부, 타입) 출력하세요</font>"
   ]
  },
  {
   "cell_type": "code",
   "execution_count": 9,
   "metadata": {},
   "outputs": [
    {
     "name": "stdout",
     "output_type": "stream",
     "text": [
      "<class 'pandas.core.frame.DataFrame'>\n",
      "RangeIndex: 218895 entries, 0 to 218894\n",
      "Data columns (total 25 columns):\n",
      " #   Column                          Non-Null Count   Dtype  \n",
      "---  ------                          --------------   -----  \n",
      " 0   voc_trt_perd_itg_cd             218895 non-null  object \n",
      " 1   voc_prod_sbt_id                 218895 non-null  int64  \n",
      " 2   voc_wjt_sorc_id                 218895 non-null  int64  \n",
      " 3   voc_type_itg_cd                 218895 non-null  int64  \n",
      " 4   voc_sttus_itg_cd                218895 non-null  int64  \n",
      " 5   voc_trt_reslt_itg_cd            218895 non-null  object \n",
      " 6   cust_pty_sbt_id                 218895 non-null  int64  \n",
      " 7   cust_clas_itg_cd                218895 non-null  object \n",
      " 8   bprod_sbt_id                    218895 non-null  int64  \n",
      " 9   age_itg_cd                      218895 non-null  object \n",
      " 10  cont_sttus_itg_cd               218895 non-null  object \n",
      " 11  new_date                        218895 non-null  int64  \n",
      " 12  opn_nfl_chg_date                218895 non-null  int64  \n",
      " 13  cust_dtl_ctg_itg_cd             218895 non-null  object \n",
      " 14  voc_trt_degr_div_itg_cd         218895 non-null  int64  \n",
      " 15  voc_dupl_tmscnt                 218895 non-null  float64\n",
      " 16  oos_cause_type_itg_cd           218895 non-null  object \n",
      " 17  voc_trt_need_time_itg_cd        218895 non-null  int64  \n",
      " 18  engt_cperd_type_itg_cd          218895 non-null  object \n",
      " 19  engt_tgt_div_itg_cd             218895 non-null  object \n",
      " 20  cont_fns_pam_date               218895 non-null  int64  \n",
      " 21  voc_mis_pbls_yn                 218895 non-null  object \n",
      " 22  fclt_oos_yn                     218895 non-null  object \n",
      " 23  cust_snsry_base_conf_need_time  218895 non-null  float64\n",
      " 24  trm_yn                          218895 non-null  object \n",
      "dtypes: float64(2), int64(11), object(12)\n",
      "memory usage: 41.8+ MB\n"
     ]
    }
   ],
   "source": [
    "# DataFrame의 info() 함수 활용\n",
    "# 총 25개 컬럼 있음 확인\n",
    "\n",
    "\n",
    "\n",
    "\n",
    "df.info()"
   ]
  },
  {
   "cell_type": "markdown",
   "metadata": {},
   "source": [
    "### 데이터프레임 인덱스 확인"
   ]
  },
  {
   "cell_type": "code",
   "execution_count": 10,
   "metadata": {},
   "outputs": [
    {
     "data": {
      "text/plain": [
       "RangeIndex(start=0, stop=218895, step=1)"
      ]
     },
     "execution_count": 10,
     "metadata": {},
     "output_type": "execute_result"
    }
   ],
   "source": [
    "df.index"
   ]
  },
  {
   "cell_type": "markdown",
   "metadata": {},
   "source": [
    "### 데이터프레임 컬럼 확인"
   ]
  },
  {
   "cell_type": "code",
   "execution_count": 11,
   "metadata": {},
   "outputs": [
    {
     "data": {
      "text/plain": [
       "Index(['voc_trt_perd_itg_cd', 'voc_prod_sbt_id', 'voc_wjt_sorc_id',\n",
       "       'voc_type_itg_cd', 'voc_sttus_itg_cd', 'voc_trt_reslt_itg_cd',\n",
       "       'cust_pty_sbt_id', 'cust_clas_itg_cd', 'bprod_sbt_id', 'age_itg_cd',\n",
       "       'cont_sttus_itg_cd', 'new_date', 'opn_nfl_chg_date',\n",
       "       'cust_dtl_ctg_itg_cd', 'voc_trt_degr_div_itg_cd', 'voc_dupl_tmscnt',\n",
       "       'oos_cause_type_itg_cd', 'voc_trt_need_time_itg_cd',\n",
       "       'engt_cperd_type_itg_cd', 'engt_tgt_div_itg_cd', 'cont_fns_pam_date',\n",
       "       'voc_mis_pbls_yn', 'fclt_oos_yn', 'cust_snsry_base_conf_need_time',\n",
       "       'trm_yn'],\n",
       "      dtype='object')"
      ]
     },
     "execution_count": 11,
     "metadata": {},
     "output_type": "execute_result"
    }
   ],
   "source": [
    "df.columns"
   ]
  },
  {
   "cell_type": "markdown",
   "metadata": {},
   "source": [
    "### 데이터프레임  값(value) 확인"
   ]
  },
  {
   "cell_type": "code",
   "execution_count": 12,
   "metadata": {},
   "outputs": [
    {
     "data": {
      "text/plain": [
       "array([['10000', 1001061191, 2056, ..., '_', 0.0, 'N'],\n",
       "       ['10000', 1000823687, 1578, ..., 'N', 0.0, 'N'],\n",
       "       ['10004', 1001027747, 184, ..., '_', 0.0, 'N'],\n",
       "       ...,\n",
       "       ['10000', 1001047798, 2174, ..., '_', 0.0, 'N'],\n",
       "       ['_', 1001027710, 2064, ..., '_', 0.0, 'N'],\n",
       "       ['_', 1001028708, 2106, ..., '_', 0.0, 'N']], dtype=object)"
      ]
     },
     "execution_count": 12,
     "metadata": {},
     "output_type": "execute_result"
    }
   ],
   "source": [
    "df.values"
   ]
  },
  {
   "cell_type": "markdown",
   "metadata": {},
   "source": [
    "### 데이터프레임의  계산 가능한 값들에 대한 통계치 확인"
   ]
  },
  {
   "cell_type": "code",
   "execution_count": 13,
   "metadata": {},
   "outputs": [
    {
     "data": {
      "text/html": [
       "<div>\n",
       "<style scoped>\n",
       "    .dataframe tbody tr th:only-of-type {\n",
       "        vertical-align: middle;\n",
       "    }\n",
       "\n",
       "    .dataframe tbody tr th {\n",
       "        vertical-align: top;\n",
       "    }\n",
       "\n",
       "    .dataframe thead th {\n",
       "        text-align: right;\n",
       "    }\n",
       "</style>\n",
       "<table border=\"1\" class=\"dataframe\">\n",
       "  <thead>\n",
       "    <tr style=\"text-align: right;\">\n",
       "      <th></th>\n",
       "      <th>voc_prod_sbt_id</th>\n",
       "      <th>voc_wjt_sorc_id</th>\n",
       "      <th>voc_type_itg_cd</th>\n",
       "      <th>voc_sttus_itg_cd</th>\n",
       "      <th>cust_pty_sbt_id</th>\n",
       "      <th>bprod_sbt_id</th>\n",
       "      <th>new_date</th>\n",
       "      <th>opn_nfl_chg_date</th>\n",
       "      <th>voc_trt_degr_div_itg_cd</th>\n",
       "      <th>voc_dupl_tmscnt</th>\n",
       "      <th>voc_trt_need_time_itg_cd</th>\n",
       "      <th>cont_fns_pam_date</th>\n",
       "      <th>cust_snsry_base_conf_need_time</th>\n",
       "    </tr>\n",
       "  </thead>\n",
       "  <tbody>\n",
       "    <tr>\n",
       "      <th>count</th>\n",
       "      <td>2.188950e+05</td>\n",
       "      <td>218895.000000</td>\n",
       "      <td>218895.000000</td>\n",
       "      <td>218895.000000</td>\n",
       "      <td>2.188950e+05</td>\n",
       "      <td>2.188950e+05</td>\n",
       "      <td>2.188950e+05</td>\n",
       "      <td>2.188950e+05</td>\n",
       "      <td>218895.000000</td>\n",
       "      <td>218895.000000</td>\n",
       "      <td>218895.000000</td>\n",
       "      <td>2.188950e+05</td>\n",
       "      <td>2.188950e+05</td>\n",
       "    </tr>\n",
       "    <tr>\n",
       "      <th>mean</th>\n",
       "      <td>9.912355e+08</td>\n",
       "      <td>1555.415898</td>\n",
       "      <td>10008.521835</td>\n",
       "      <td>10002.043619</td>\n",
       "      <td>1.317855e+09</td>\n",
       "      <td>8.820966e+08</td>\n",
       "      <td>1.740581e+07</td>\n",
       "      <td>1.740779e+07</td>\n",
       "      <td>20001.078947</td>\n",
       "      <td>0.008260</td>\n",
       "      <td>10002.677571</td>\n",
       "      <td>7.085782e+07</td>\n",
       "      <td>3.653538e+02</td>\n",
       "    </tr>\n",
       "    <tr>\n",
       "      <th>std</th>\n",
       "      <td>9.804954e+07</td>\n",
       "      <td>1074.197905</td>\n",
       "      <td>1.557674</td>\n",
       "      <td>0.319019</td>\n",
       "      <td>3.936161e+07</td>\n",
       "      <td>3.234613e+08</td>\n",
       "      <td>6.890518e+06</td>\n",
       "      <td>6.891301e+06</td>\n",
       "      <td>0.269656</td>\n",
       "      <td>0.101093</td>\n",
       "      <td>6.576401</td>\n",
       "      <td>3.841708e+07</td>\n",
       "      <td>1.462701e+04</td>\n",
       "    </tr>\n",
       "    <tr>\n",
       "      <th>min</th>\n",
       "      <td>-9.980000e+02</td>\n",
       "      <td>126.000000</td>\n",
       "      <td>10003.000000</td>\n",
       "      <td>10002.000000</td>\n",
       "      <td>-9.980000e+02</td>\n",
       "      <td>-9.980000e+02</td>\n",
       "      <td>1.010100e+04</td>\n",
       "      <td>1.010100e+04</td>\n",
       "      <td>20001.000000</td>\n",
       "      <td>0.000000</td>\n",
       "      <td>10001.000000</td>\n",
       "      <td>2.001063e+07</td>\n",
       "      <td>0.000000e+00</td>\n",
       "    </tr>\n",
       "    <tr>\n",
       "      <th>25%</th>\n",
       "      <td>1.000782e+09</td>\n",
       "      <td>360.000000</td>\n",
       "      <td>10009.000000</td>\n",
       "      <td>10002.000000</td>\n",
       "      <td>1.289193e+09</td>\n",
       "      <td>1.000003e+09</td>\n",
       "      <td>2.008100e+07</td>\n",
       "      <td>2.009032e+07</td>\n",
       "      <td>20001.000000</td>\n",
       "      <td>0.000000</td>\n",
       "      <td>10001.000000</td>\n",
       "      <td>2.022013e+07</td>\n",
       "      <td>0.000000e+00</td>\n",
       "    </tr>\n",
       "    <tr>\n",
       "      <th>50%</th>\n",
       "      <td>1.001028e+09</td>\n",
       "      <td>2055.000000</td>\n",
       "      <td>10009.000000</td>\n",
       "      <td>10002.000000</td>\n",
       "      <td>1.306817e+09</td>\n",
       "      <td>1.000768e+09</td>\n",
       "      <td>2.015010e+07</td>\n",
       "      <td>2.015040e+07</td>\n",
       "      <td>20001.000000</td>\n",
       "      <td>0.000000</td>\n",
       "      <td>10001.000000</td>\n",
       "      <td>9.999123e+07</td>\n",
       "      <td>0.000000e+00</td>\n",
       "    </tr>\n",
       "    <tr>\n",
       "      <th>75%</th>\n",
       "      <td>1.001043e+09</td>\n",
       "      <td>2153.000000</td>\n",
       "      <td>10009.000000</td>\n",
       "      <td>10002.000000</td>\n",
       "      <td>1.328573e+09</td>\n",
       "      <td>1.001044e+09</td>\n",
       "      <td>2.018012e+07</td>\n",
       "      <td>2.018040e+07</td>\n",
       "      <td>20001.000000</td>\n",
       "      <td>0.000000</td>\n",
       "      <td>10001.000000</td>\n",
       "      <td>9.999123e+07</td>\n",
       "      <td>0.000000e+00</td>\n",
       "    </tr>\n",
       "    <tr>\n",
       "      <th>max</th>\n",
       "      <td>1.001079e+09</td>\n",
       "      <td>3856.000000</td>\n",
       "      <td>10018.000000</td>\n",
       "      <td>10005.000000</td>\n",
       "      <td>1.415514e+09</td>\n",
       "      <td>1.001078e+09</td>\n",
       "      <td>2.020042e+07</td>\n",
       "      <td>2.020042e+07</td>\n",
       "      <td>20002.000000</td>\n",
       "      <td>5.000000</td>\n",
       "      <td>10038.000000</td>\n",
       "      <td>9.999123e+07</td>\n",
       "      <td>2.389486e+06</td>\n",
       "    </tr>\n",
       "  </tbody>\n",
       "</table>\n",
       "</div>"
      ],
      "text/plain": [
       "       voc_prod_sbt_id  voc_wjt_sorc_id  voc_type_itg_cd  voc_sttus_itg_cd  \\\n",
       "count     2.188950e+05    218895.000000    218895.000000     218895.000000   \n",
       "mean      9.912355e+08      1555.415898     10008.521835      10002.043619   \n",
       "std       9.804954e+07      1074.197905         1.557674          0.319019   \n",
       "min      -9.980000e+02       126.000000     10003.000000      10002.000000   \n",
       "25%       1.000782e+09       360.000000     10009.000000      10002.000000   \n",
       "50%       1.001028e+09      2055.000000     10009.000000      10002.000000   \n",
       "75%       1.001043e+09      2153.000000     10009.000000      10002.000000   \n",
       "max       1.001079e+09      3856.000000     10018.000000      10005.000000   \n",
       "\n",
       "       cust_pty_sbt_id  bprod_sbt_id      new_date  opn_nfl_chg_date  \\\n",
       "count     2.188950e+05  2.188950e+05  2.188950e+05      2.188950e+05   \n",
       "mean      1.317855e+09  8.820966e+08  1.740581e+07      1.740779e+07   \n",
       "std       3.936161e+07  3.234613e+08  6.890518e+06      6.891301e+06   \n",
       "min      -9.980000e+02 -9.980000e+02  1.010100e+04      1.010100e+04   \n",
       "25%       1.289193e+09  1.000003e+09  2.008100e+07      2.009032e+07   \n",
       "50%       1.306817e+09  1.000768e+09  2.015010e+07      2.015040e+07   \n",
       "75%       1.328573e+09  1.001044e+09  2.018012e+07      2.018040e+07   \n",
       "max       1.415514e+09  1.001078e+09  2.020042e+07      2.020042e+07   \n",
       "\n",
       "       voc_trt_degr_div_itg_cd  voc_dupl_tmscnt  voc_trt_need_time_itg_cd  \\\n",
       "count            218895.000000    218895.000000             218895.000000   \n",
       "mean              20001.078947         0.008260              10002.677571   \n",
       "std                   0.269656         0.101093                  6.576401   \n",
       "min               20001.000000         0.000000              10001.000000   \n",
       "25%               20001.000000         0.000000              10001.000000   \n",
       "50%               20001.000000         0.000000              10001.000000   \n",
       "75%               20001.000000         0.000000              10001.000000   \n",
       "max               20002.000000         5.000000              10038.000000   \n",
       "\n",
       "       cont_fns_pam_date  cust_snsry_base_conf_need_time  \n",
       "count       2.188950e+05                    2.188950e+05  \n",
       "mean        7.085782e+07                    3.653538e+02  \n",
       "std         3.841708e+07                    1.462701e+04  \n",
       "min         2.001063e+07                    0.000000e+00  \n",
       "25%         2.022013e+07                    0.000000e+00  \n",
       "50%         9.999123e+07                    0.000000e+00  \n",
       "75%         9.999123e+07                    0.000000e+00  \n",
       "max         9.999123e+07                    2.389486e+06  "
      ]
     },
     "execution_count": 13,
     "metadata": {},
     "output_type": "execute_result"
    }
   ],
   "source": [
    "df.describe()"
   ]
  },
  {
   "cell_type": "markdown",
   "metadata": {},
   "source": [
    "### 널(null)값 확인"
   ]
  },
  {
   "cell_type": "markdown",
   "metadata": {},
   "source": [
    "<br>\n",
    "<font color=blue>[문제] DataFrame 컬럼 항목에 Null 존재하는지 확인하세요</font>"
   ]
  },
  {
   "cell_type": "code",
   "execution_count": 14,
   "metadata": {},
   "outputs": [
    {
     "data": {
      "text/plain": [
       "voc_trt_perd_itg_cd               0\n",
       "voc_prod_sbt_id                   0\n",
       "voc_wjt_sorc_id                   0\n",
       "voc_type_itg_cd                   0\n",
       "voc_sttus_itg_cd                  0\n",
       "voc_trt_reslt_itg_cd              0\n",
       "cust_pty_sbt_id                   0\n",
       "cust_clas_itg_cd                  0\n",
       "bprod_sbt_id                      0\n",
       "age_itg_cd                        0\n",
       "cont_sttus_itg_cd                 0\n",
       "new_date                          0\n",
       "opn_nfl_chg_date                  0\n",
       "cust_dtl_ctg_itg_cd               0\n",
       "voc_trt_degr_div_itg_cd           0\n",
       "voc_dupl_tmscnt                   0\n",
       "oos_cause_type_itg_cd             0\n",
       "voc_trt_need_time_itg_cd          0\n",
       "engt_cperd_type_itg_cd            0\n",
       "engt_tgt_div_itg_cd               0\n",
       "cont_fns_pam_date                 0\n",
       "voc_mis_pbls_yn                   0\n",
       "fclt_oos_yn                       0\n",
       "cust_snsry_base_conf_need_time    0\n",
       "trm_yn                            0\n",
       "dtype: int64"
      ]
     },
     "execution_count": 14,
     "metadata": {},
     "output_type": "execute_result"
    }
   ],
   "source": [
    "# DataFrame의 isnull() 함수 사용\n",
    "# Null 합계를 보려면 sum() 함수 사용\n",
    "\n",
    "\n",
    "df.isnull().sum()"
   ]
  },
  {
   "cell_type": "markdown",
   "metadata": {},
   "source": [
    "### voc_trt_perd_itg_cd 컬럼 데이터 확인"
   ]
  },
  {
   "cell_type": "code",
   "execution_count": 15,
   "metadata": {},
   "outputs": [
    {
     "data": {
      "text/plain": [
       "0         10000\n",
       "1         10000\n",
       "2         10004\n",
       "3         10000\n",
       "4         10000\n",
       "          ...  \n",
       "218890    10000\n",
       "218891    10000\n",
       "218892    10000\n",
       "218893        _\n",
       "218894        _\n",
       "Name: voc_trt_perd_itg_cd, Length: 218895, dtype: object"
      ]
     },
     "execution_count": 15,
     "metadata": {},
     "output_type": "execute_result"
    }
   ],
   "source": [
    "df['voc_trt_perd_itg_cd']"
   ]
  },
  {
   "cell_type": "markdown",
   "metadata": {},
   "source": [
    "### voc_trt_perd_itg_cd 컬럼 데이터별 건수 확인"
   ]
  },
  {
   "cell_type": "markdown",
   "metadata": {},
   "source": [
    "<br>\n",
    "<font color=blue>[문제] voc_trt_perd_itg_cd 컬럼 데이터별 건수를 나열하세요</font>"
   ]
  },
  {
   "cell_type": "code",
   "execution_count": 16,
   "metadata": {},
   "outputs": [
    {
     "data": {
      "text/plain": [
       "_        118412\n",
       "10000     93625\n",
       "10001      3785\n",
       "10002      1371\n",
       "10003       505\n",
       "10004       362\n",
       "10005       151\n",
       "10006       143\n",
       "10009        87\n",
       "10007        81\n",
       "10010        75\n",
       "10011        59\n",
       "10008        58\n",
       "10015        42\n",
       "10014        38\n",
       "10016        34\n",
       "10012        32\n",
       "10013        21\n",
       "10017        14\n",
       "Name: voc_trt_perd_itg_cd, dtype: int64"
      ]
     },
     "execution_count": 16,
     "metadata": {},
     "output_type": "execute_result"
    }
   ],
   "source": [
    "# DataFrame의 value_counts() 함수 사용\n",
    "\n",
    "\n",
    "\n",
    "df['voc_trt_perd_itg_cd'].value_counts()"
   ]
  },
  {
   "cell_type": "code",
   "execution_count": 17,
   "metadata": {},
   "outputs": [
    {
     "data": {
      "text/plain": [
       "_        0.540953\n",
       "10000    0.427716\n",
       "10001    0.017291\n",
       "10002    0.006263\n",
       "10003    0.002307\n",
       "10004    0.001654\n",
       "10005    0.000690\n",
       "10006    0.000653\n",
       "10009    0.000397\n",
       "10007    0.000370\n",
       "10010    0.000343\n",
       "10011    0.000270\n",
       "10008    0.000265\n",
       "10015    0.000192\n",
       "10014    0.000174\n",
       "10016    0.000155\n",
       "10012    0.000146\n",
       "10013    0.000096\n",
       "10017    0.000064\n",
       "Name: voc_trt_perd_itg_cd, dtype: float64"
      ]
     },
     "execution_count": 17,
     "metadata": {},
     "output_type": "execute_result"
    }
   ],
   "source": [
    "# voc_trt_perd_itg_cd 컬럼 데이터별 건수 비율 보기\n",
    "df['voc_trt_perd_itg_cd'].value_counts(normalize=True)"
   ]
  },
  {
   "cell_type": "markdown",
   "metadata": {},
   "source": [
    "### 모든 컬럼에 대한 데이터 분포 건수 확인"
   ]
  },
  {
   "cell_type": "code",
   "execution_count": 18,
   "metadata": {
    "scrolled": true
   },
   "outputs": [
    {
     "data": {
      "text/plain": [
       "[_        118412\n",
       " 10000     93625\n",
       " 10001      3785\n",
       " 10002      1371\n",
       " 10003       505\n",
       " 10004       362\n",
       " 10005       151\n",
       " 10006       143\n",
       " 10009        87\n",
       " 10007        81\n",
       " 10010        75\n",
       " 10011        59\n",
       " 10008        58\n",
       " 10015        42\n",
       " 10014        38\n",
       " 10016        34\n",
       " 10012        32\n",
       " 10013        21\n",
       " 10017        14\n",
       " Name: voc_trt_perd_itg_cd, dtype: int64,\n",
       " 1001027747    30572\n",
       " 1000665328    22575\n",
       " 1001027746     9723\n",
       " 1001047801     9347\n",
       " 1001044841     8200\n",
       "               ...  \n",
       " 1001033832        1\n",
       " 1001029366        1\n",
       " 1000668838        1\n",
       " 1000779244        1\n",
       " 1000669216        1\n",
       " Name: voc_prod_sbt_id, Length: 1896, dtype: int64,\n",
       " 2153    42030\n",
       " 329      8370\n",
       " 656      7863\n",
       " 2174     7430\n",
       " 3086     7282\n",
       "         ...  \n",
       " 2989        1\n",
       " 2396        1\n",
       " 3517        1\n",
       " 3663        1\n",
       " 2999        1\n",
       " Name: voc_wjt_sorc_id, Length: 980, dtype: int64,\n",
       " 10009    192941\n",
       " 10003     14704\n",
       " 10007      9876\n",
       " 10011      1218\n",
       " 10017        86\n",
       " 10013        35\n",
       " 10005        20\n",
       " 10018        12\n",
       " 10014         2\n",
       " 10015         1\n",
       " Name: voc_type_itg_cd, dtype: int64,\n",
       " 10002    213729\n",
       " 10003      2975\n",
       " 10005      2191\n",
       " Name: voc_sttus_itg_cd, dtype: int64,\n",
       " _        194418\n",
       " 10081      9661\n",
       " 10026      6377\n",
       " 10082      1903\n",
       " 10003      1836\n",
       " 10021       761\n",
       " 10098       740\n",
       " 10010       693\n",
       " 10097       624\n",
       " 10080       450\n",
       " 10009       307\n",
       " 10077       236\n",
       " 10046       234\n",
       " 10104       131\n",
       " 10008        85\n",
       " 10099        75\n",
       " 10013        67\n",
       " 10109        58\n",
       " 10076        52\n",
       " 10019        32\n",
       " 10012        27\n",
       " 10113        19\n",
       " 10112        17\n",
       " 10110        16\n",
       " 10075        14\n",
       " 10018        11\n",
       " 10073        10\n",
       " 10011         9\n",
       " 10074         6\n",
       " 10001         5\n",
       " 10049         4\n",
       " 10016         3\n",
       " 10105         3\n",
       " 10054         2\n",
       " 10119         2\n",
       " 10114         2\n",
       " 10079         1\n",
       " 10029         1\n",
       " 10014         1\n",
       " 10120         1\n",
       " 10050         1\n",
       " Name: voc_trt_reslt_itg_cd, dtype: int64,\n",
       " 1318367928    13407\n",
       " 1283874608      105\n",
       " 1287108499       63\n",
       " 1318473934       60\n",
       " 1406205939       42\n",
       "               ...  \n",
       " 1301163757        1\n",
       " 1415007909        1\n",
       " 1273976486        1\n",
       " 1402429095        1\n",
       " 1298923520        1\n",
       " Name: cust_pty_sbt_id, Length: 129483, dtype: int64,\n",
       " L    62493\n",
       " _    43995\n",
       " G    37940\n",
       " I    27172\n",
       " J    22368\n",
       " F    19214\n",
       " O     5568\n",
       " H       78\n",
       " M       45\n",
       " V       17\n",
       " R        5\n",
       " Name: cust_clas_itg_cd, dtype: int64,\n",
       " -998           25945\n",
       "  1000737200    24576\n",
       "  1000001126    23732\n",
       "  1001046523    11366\n",
       "  1001046520     8960\n",
       "                ...  \n",
       "  1001034689        1\n",
       "  1001043013        1\n",
       "  1001036266        1\n",
       "  1000031199        1\n",
       "  1000478470        1\n",
       " Name: bprod_sbt_id, Length: 559, dtype: int64,\n",
       " _      48198\n",
       " 051     4821\n",
       " 049     4692\n",
       " 048     4680\n",
       " 050     4555\n",
       "        ...  \n",
       " 101        3\n",
       " 114        2\n",
       " 109        1\n",
       " 106        1\n",
       " 107        1\n",
       " Name: age_itg_cd, Length: 106, dtype: int64,\n",
       " 10001    171474\n",
       " _         25945\n",
       " 10005     12412\n",
       " 10007      3739\n",
       " 10003      3618\n",
       " 10002      1290\n",
       " 10006       348\n",
       " 10004        69\n",
       " Name: cont_sttus_itg_cd, dtype: int64,\n",
       " 10101       29684\n",
       " 20200410     3072\n",
       " 20200409     1076\n",
       " 20200408      513\n",
       " 20200407      401\n",
       "             ...  \n",
       " 19941008        1\n",
       " 19910705        1\n",
       " 20011104        1\n",
       " 19900606        1\n",
       " 20191229        1\n",
       " Name: new_date, Length: 11053, dtype: int64,\n",
       " 10101       29684\n",
       " 20200410     3612\n",
       " 20200409     1166\n",
       " 20200408      565\n",
       " 20200407      446\n",
       "             ...  \n",
       " 19891110        1\n",
       " 19971009        1\n",
       " 19961028        1\n",
       " 19911012        1\n",
       " 20191229        1\n",
       " Name: opn_nfl_chg_date, Length: 10980, dtype: int64,\n",
       " 10003    113729\n",
       " 10002     28127\n",
       " _         25947\n",
       " 90029     23399\n",
       " 90056      9427\n",
       " 10019      8499\n",
       " 90027      5377\n",
       " 90024      2735\n",
       " 90030       639\n",
       " 10011       498\n",
       " 10018       467\n",
       " 10001        30\n",
       " 10013        15\n",
       " 10004         6\n",
       " Name: cust_dtl_ctg_itg_cd, dtype: int64,\n",
       " 20001    201614\n",
       " 20002     17281\n",
       " Name: voc_trt_degr_div_itg_cd, dtype: int64,\n",
       " 0.0    217260\n",
       " 1.0      1496\n",
       " 2.0       117\n",
       " 3.0        13\n",
       " 4.0         6\n",
       " 5.0         3\n",
       " Name: voc_dupl_tmscnt, dtype: int64,\n",
       " _        198421\n",
       " 10242      3405\n",
       " 10270      2756\n",
       " 10258      2513\n",
       " 10231      2126\n",
       "           ...  \n",
       " 10556         1\n",
       " 10540         1\n",
       " 10554         1\n",
       " 10766         1\n",
       " 10688         1\n",
       " Name: oos_cause_type_itg_cd, Length: 106, dtype: int64,\n",
       " 10001    188325\n",
       " 10002      5522\n",
       " 10038      5166\n",
       " 10003      3818\n",
       " 10004      2698\n",
       " 10005      2479\n",
       " 10007      1493\n",
       " 10008      1295\n",
       " 10006      1248\n",
       " 10009      1117\n",
       " 10037       964\n",
       " 10010       643\n",
       " 10011       468\n",
       " 10012       383\n",
       " 10017       335\n",
       " 10013       322\n",
       " 10014       312\n",
       " 10016       287\n",
       " 10018       269\n",
       " 10015       254\n",
       " 10019       159\n",
       " 10020       151\n",
       " 10021       131\n",
       " 10024       123\n",
       " 10022       105\n",
       " 10025       104\n",
       " 10026       104\n",
       " 10023        92\n",
       " 10034        60\n",
       " 10029        59\n",
       " 10033        59\n",
       " 10027        56\n",
       " 10035        55\n",
       " 10032        54\n",
       " 10028        53\n",
       " 10036        47\n",
       " 10030        46\n",
       " 10031        39\n",
       " Name: voc_trt_need_time_itg_cd, dtype: int64,\n",
       " _        139226\n",
       " 15097     69646\n",
       " 15098      9811\n",
       " 15099       212\n",
       " Name: engt_cperd_type_itg_cd, dtype: int64,\n",
       " _        139226\n",
       " 15244     62236\n",
       " 15249     12189\n",
       " 15277      5244\n",
       " Name: engt_tgt_div_itg_cd, dtype: int64,\n",
       " 99991231    138973\n",
       " 20230409      4176\n",
       " 20230410      1053\n",
       " 20230412      1009\n",
       " 20230408       772\n",
       "              ...  \n",
       " 20091206         1\n",
       " 20140223         1\n",
       " 20090818         1\n",
       " 20111019         1\n",
       " 20120112         1\n",
       " Name: cont_fns_pam_date, Length: 4707, dtype: int64,\n",
       " N    217063\n",
       " _      1830\n",
       " Y         2\n",
       " Name: voc_mis_pbls_yn, dtype: int64,\n",
       " _    197900\n",
       " N     20941\n",
       " Y        54\n",
       " Name: fclt_oos_yn, dtype: int64,\n",
       " 0.0         214980\n",
       " 1.0           2804\n",
       " 50.0             6\n",
       " 86.0             4\n",
       " 645.0            3\n",
       "              ...  \n",
       " 2705.0           1\n",
       " 136.0            1\n",
       " 338.0            1\n",
       " 238545.0         1\n",
       " 229793.0         1\n",
       " Name: cust_snsry_base_conf_need_time, Length: 1036, dtype: int64,\n",
       " N    213490\n",
       " Y      5405\n",
       " Name: trm_yn, dtype: int64]"
      ]
     },
     "execution_count": 18,
     "metadata": {},
     "output_type": "execute_result"
    }
   ],
   "source": [
    "[df[c].value_counts() for c in df]"
   ]
  },
  {
   "cell_type": "code",
   "execution_count": 19,
   "metadata": {
    "scrolled": true
   },
   "outputs": [
    {
     "data": {
      "text/plain": [
       "[_        0.540953\n",
       " 10000    0.427716\n",
       " 10001    0.017291\n",
       " 10002    0.006263\n",
       " 10003    0.002307\n",
       " 10004    0.001654\n",
       " 10005    0.000690\n",
       " 10006    0.000653\n",
       " 10009    0.000397\n",
       " 10007    0.000370\n",
       " 10010    0.000343\n",
       " 10011    0.000270\n",
       " 10008    0.000265\n",
       " 10015    0.000192\n",
       " 10014    0.000174\n",
       " 10016    0.000155\n",
       " 10012    0.000146\n",
       " 10013    0.000096\n",
       " 10017    0.000064\n",
       " Name: voc_trt_perd_itg_cd, dtype: float64,\n",
       " 1001027747    0.139665\n",
       " 1000665328    0.103132\n",
       " 1001027746    0.044419\n",
       " 1001047801    0.042701\n",
       " 1001044841    0.037461\n",
       "                 ...   \n",
       " 1001033832    0.000005\n",
       " 1001029366    0.000005\n",
       " 1000668838    0.000005\n",
       " 1000779244    0.000005\n",
       " 1000669216    0.000005\n",
       " Name: voc_prod_sbt_id, Length: 1896, dtype: float64,\n",
       " 2153    0.192010\n",
       " 329     0.038238\n",
       " 656     0.035921\n",
       " 2174    0.033943\n",
       " 3086    0.033267\n",
       "           ...   \n",
       " 2989    0.000005\n",
       " 2396    0.000005\n",
       " 3517    0.000005\n",
       " 3663    0.000005\n",
       " 2999    0.000005\n",
       " Name: voc_wjt_sorc_id, Length: 980, dtype: float64,\n",
       " 10009    0.881432\n",
       " 10003    0.067174\n",
       " 10007    0.045118\n",
       " 10011    0.005564\n",
       " 10017    0.000393\n",
       " 10013    0.000160\n",
       " 10005    0.000091\n",
       " 10018    0.000055\n",
       " 10014    0.000009\n",
       " 10015    0.000005\n",
       " Name: voc_type_itg_cd, dtype: float64,\n",
       " 10002    0.976400\n",
       " 10003    0.013591\n",
       " 10005    0.010009\n",
       " Name: voc_sttus_itg_cd, dtype: float64,\n",
       " _        0.888179\n",
       " 10081    0.044135\n",
       " 10026    0.029133\n",
       " 10082    0.008694\n",
       " 10003    0.008388\n",
       " 10021    0.003477\n",
       " 10098    0.003381\n",
       " 10010    0.003166\n",
       " 10097    0.002851\n",
       " 10080    0.002056\n",
       " 10009    0.001402\n",
       " 10077    0.001078\n",
       " 10046    0.001069\n",
       " 10104    0.000598\n",
       " 10008    0.000388\n",
       " 10099    0.000343\n",
       " 10013    0.000306\n",
       " 10109    0.000265\n",
       " 10076    0.000238\n",
       " 10019    0.000146\n",
       " 10012    0.000123\n",
       " 10113    0.000087\n",
       " 10112    0.000078\n",
       " 10110    0.000073\n",
       " 10075    0.000064\n",
       " 10018    0.000050\n",
       " 10073    0.000046\n",
       " 10011    0.000041\n",
       " 10074    0.000027\n",
       " 10001    0.000023\n",
       " 10049    0.000018\n",
       " 10016    0.000014\n",
       " 10105    0.000014\n",
       " 10054    0.000009\n",
       " 10119    0.000009\n",
       " 10114    0.000009\n",
       " 10079    0.000005\n",
       " 10029    0.000005\n",
       " 10014    0.000005\n",
       " 10120    0.000005\n",
       " 10050    0.000005\n",
       " Name: voc_trt_reslt_itg_cd, dtype: float64,\n",
       " 1318367928    0.061249\n",
       " 1283874608    0.000480\n",
       " 1287108499    0.000288\n",
       " 1318473934    0.000274\n",
       " 1406205939    0.000192\n",
       "                 ...   \n",
       " 1301163757    0.000005\n",
       " 1415007909    0.000005\n",
       " 1273976486    0.000005\n",
       " 1402429095    0.000005\n",
       " 1298923520    0.000005\n",
       " Name: cust_pty_sbt_id, Length: 129483, dtype: float64,\n",
       " L    0.285493\n",
       " _    0.200987\n",
       " G    0.173325\n",
       " I    0.124133\n",
       " J    0.102186\n",
       " F    0.087777\n",
       " O    0.025437\n",
       " H    0.000356\n",
       " M    0.000206\n",
       " V    0.000078\n",
       " R    0.000023\n",
       " Name: cust_clas_itg_cd, dtype: float64,\n",
       " -998           0.118527\n",
       "  1000737200    0.112273\n",
       "  1000001126    0.108417\n",
       "  1001046523    0.051924\n",
       "  1001046520    0.040933\n",
       "                  ...   \n",
       "  1001034689    0.000005\n",
       "  1001043013    0.000005\n",
       "  1001036266    0.000005\n",
       "  1000031199    0.000005\n",
       "  1000478470    0.000005\n",
       " Name: bprod_sbt_id, Length: 559, dtype: float64,\n",
       " _      0.220188\n",
       " 051    0.022024\n",
       " 049    0.021435\n",
       " 048    0.021380\n",
       " 050    0.020809\n",
       "          ...   \n",
       " 101    0.000014\n",
       " 114    0.000009\n",
       " 109    0.000005\n",
       " 106    0.000005\n",
       " 107    0.000005\n",
       " Name: age_itg_cd, Length: 106, dtype: float64,\n",
       " 10001    0.783362\n",
       " _        0.118527\n",
       " 10005    0.056703\n",
       " 10007    0.017081\n",
       " 10003    0.016528\n",
       " 10002    0.005893\n",
       " 10006    0.001590\n",
       " 10004    0.000315\n",
       " Name: cont_sttus_itg_cd, dtype: float64,\n",
       " 10101       0.135608\n",
       " 20200410    0.014034\n",
       " 20200409    0.004916\n",
       " 20200408    0.002344\n",
       " 20200407    0.001832\n",
       "               ...   \n",
       " 19941008    0.000005\n",
       " 19910705    0.000005\n",
       " 20011104    0.000005\n",
       " 19900606    0.000005\n",
       " 20191229    0.000005\n",
       " Name: new_date, Length: 11053, dtype: float64,\n",
       " 10101       0.135608\n",
       " 20200410    0.016501\n",
       " 20200409    0.005327\n",
       " 20200408    0.002581\n",
       " 20200407    0.002038\n",
       "               ...   \n",
       " 19891110    0.000005\n",
       " 19971009    0.000005\n",
       " 19961028    0.000005\n",
       " 19911012    0.000005\n",
       " 20191229    0.000005\n",
       " Name: opn_nfl_chg_date, Length: 10980, dtype: float64,\n",
       " 10003    0.519560\n",
       " 10002    0.128495\n",
       " _        0.118536\n",
       " 90029    0.106896\n",
       " 90056    0.043066\n",
       " 10019    0.038827\n",
       " 90027    0.024564\n",
       " 90024    0.012495\n",
       " 90030    0.002919\n",
       " 10011    0.002275\n",
       " 10018    0.002133\n",
       " 10001    0.000137\n",
       " 10013    0.000069\n",
       " 10004    0.000027\n",
       " Name: cust_dtl_ctg_itg_cd, dtype: float64,\n",
       " 20001    0.921053\n",
       " 20002    0.078947\n",
       " Name: voc_trt_degr_div_itg_cd, dtype: float64,\n",
       " 0.0    0.992531\n",
       " 1.0    0.006834\n",
       " 2.0    0.000535\n",
       " 3.0    0.000059\n",
       " 4.0    0.000027\n",
       " 5.0    0.000014\n",
       " Name: voc_dupl_tmscnt, dtype: float64,\n",
       " _        0.906467\n",
       " 10242    0.015555\n",
       " 10270    0.012591\n",
       " 10258    0.011480\n",
       " 10231    0.009712\n",
       "            ...   \n",
       " 10556    0.000005\n",
       " 10540    0.000005\n",
       " 10554    0.000005\n",
       " 10766    0.000005\n",
       " 10688    0.000005\n",
       " Name: oos_cause_type_itg_cd, Length: 106, dtype: float64,\n",
       " 10001    0.860344\n",
       " 10002    0.025227\n",
       " 10038    0.023600\n",
       " 10003    0.017442\n",
       " 10004    0.012326\n",
       " 10005    0.011325\n",
       " 10007    0.006821\n",
       " 10008    0.005916\n",
       " 10006    0.005701\n",
       " 10009    0.005103\n",
       " 10037    0.004404\n",
       " 10010    0.002937\n",
       " 10011    0.002138\n",
       " 10012    0.001750\n",
       " 10017    0.001530\n",
       " 10013    0.001471\n",
       " 10014    0.001425\n",
       " 10016    0.001311\n",
       " 10018    0.001229\n",
       " 10015    0.001160\n",
       " 10019    0.000726\n",
       " 10020    0.000690\n",
       " 10021    0.000598\n",
       " 10024    0.000562\n",
       " 10022    0.000480\n",
       " 10025    0.000475\n",
       " 10026    0.000475\n",
       " 10023    0.000420\n",
       " 10034    0.000274\n",
       " 10029    0.000270\n",
       " 10033    0.000270\n",
       " 10027    0.000256\n",
       " 10035    0.000251\n",
       " 10032    0.000247\n",
       " 10028    0.000242\n",
       " 10036    0.000215\n",
       " 10030    0.000210\n",
       " 10031    0.000178\n",
       " Name: voc_trt_need_time_itg_cd, dtype: float64,\n",
       " _        0.636040\n",
       " 15097    0.318171\n",
       " 15098    0.044821\n",
       " 15099    0.000969\n",
       " Name: engt_cperd_type_itg_cd, dtype: float64,\n",
       " _        0.636040\n",
       " 15244    0.284319\n",
       " 15249    0.055684\n",
       " 15277    0.023957\n",
       " Name: engt_tgt_div_itg_cd, dtype: float64,\n",
       " 99991231    0.634884\n",
       " 20230409    0.019078\n",
       " 20230410    0.004811\n",
       " 20230412    0.004610\n",
       " 20230408    0.003527\n",
       "               ...   \n",
       " 20091206    0.000005\n",
       " 20140223    0.000005\n",
       " 20090818    0.000005\n",
       " 20111019    0.000005\n",
       " 20120112    0.000005\n",
       " Name: cont_fns_pam_date, Length: 4707, dtype: float64,\n",
       " N    0.991631\n",
       " _    0.008360\n",
       " Y    0.000009\n",
       " Name: voc_mis_pbls_yn, dtype: float64,\n",
       " _    0.904086\n",
       " N    0.095667\n",
       " Y    0.000247\n",
       " Name: fclt_oos_yn, dtype: float64,\n",
       " 0.0         0.982115\n",
       " 1.0         0.012810\n",
       " 50.0        0.000027\n",
       " 86.0        0.000018\n",
       " 645.0       0.000014\n",
       "               ...   \n",
       " 2705.0      0.000005\n",
       " 136.0       0.000005\n",
       " 338.0       0.000005\n",
       " 238545.0    0.000005\n",
       " 229793.0    0.000005\n",
       " Name: cust_snsry_base_conf_need_time, Length: 1036, dtype: float64,\n",
       " N    0.975308\n",
       " Y    0.024692\n",
       " Name: trm_yn, dtype: float64]"
      ]
     },
     "execution_count": 19,
     "metadata": {},
     "output_type": "execute_result"
    }
   ],
   "source": [
    "[df[c].value_counts(normalize=True) for c in df]   "
   ]
  },
  {
   "cell_type": "markdown",
   "metadata": {},
   "source": [
    "### 컬럼에서  '_' 값이 차지하는 비율\n",
    "- voc_trt_perd_itg_cd : 0.54\n",
    "- voc_trt_reslt_itg_cd : 0.88\n",
    "- oos_cause_type_itg_cd : 0.9\n",
    "- engt_cperd_type_itg_cd : 0.63\n",
    "- engt_tgt_div_itg_cd : 0.63\n",
    "- fclt_oos_yn : 0.90  \n",
    "- cust_clas_itg_cd : 0.2\n",
    "- age_itg_cd : 0.22\n",
    "- cont_sttus_itg_cd : 0.11\n",
    "- cust_dtl_ctg_itg_cd : 0.11\n",
    "- voc_mis_pbls_yn : 0.008\n"
   ]
  },
  {
   "cell_type": "markdown",
   "metadata": {},
   "source": [
    "### '_'  값이 50% 이상 차지하는 컬럼 삭제하고 df1 변수에 대입"
   ]
  },
  {
   "cell_type": "markdown",
   "metadata": {},
   "source": [
    "<br>\n",
    "<font color=blue>[문제] voc_trt_perd_itg_cd 컬럼 삭제하기</font>"
   ]
  },
  {
   "cell_type": "code",
   "execution_count": 20,
   "metadata": {},
   "outputs": [],
   "source": [
    "# DataFrame drop() 함수 사용\n",
    "# voc_trt_perd_itg_cd 컬럼 삭제 결과를 \"df1\" DataFrame 저장\n",
    "\n",
    "\n",
    "\n",
    "\n",
    "df1 = df.drop(columns=['voc_trt_perd_itg_cd'])"
   ]
  },
  {
   "cell_type": "code",
   "execution_count": 21,
   "metadata": {},
   "outputs": [
    {
     "name": "stdout",
     "output_type": "stream",
     "text": [
      "<class 'pandas.core.frame.DataFrame'>\n",
      "RangeIndex: 218895 entries, 0 to 218894\n",
      "Data columns (total 24 columns):\n",
      " #   Column                          Non-Null Count   Dtype  \n",
      "---  ------                          --------------   -----  \n",
      " 0   voc_prod_sbt_id                 218895 non-null  int64  \n",
      " 1   voc_wjt_sorc_id                 218895 non-null  int64  \n",
      " 2   voc_type_itg_cd                 218895 non-null  int64  \n",
      " 3   voc_sttus_itg_cd                218895 non-null  int64  \n",
      " 4   voc_trt_reslt_itg_cd            218895 non-null  object \n",
      " 5   cust_pty_sbt_id                 218895 non-null  int64  \n",
      " 6   cust_clas_itg_cd                218895 non-null  object \n",
      " 7   bprod_sbt_id                    218895 non-null  int64  \n",
      " 8   age_itg_cd                      218895 non-null  object \n",
      " 9   cont_sttus_itg_cd               218895 non-null  object \n",
      " 10  new_date                        218895 non-null  int64  \n",
      " 11  opn_nfl_chg_date                218895 non-null  int64  \n",
      " 12  cust_dtl_ctg_itg_cd             218895 non-null  object \n",
      " 13  voc_trt_degr_div_itg_cd         218895 non-null  int64  \n",
      " 14  voc_dupl_tmscnt                 218895 non-null  float64\n",
      " 15  oos_cause_type_itg_cd           218895 non-null  object \n",
      " 16  voc_trt_need_time_itg_cd        218895 non-null  int64  \n",
      " 17  engt_cperd_type_itg_cd          218895 non-null  object \n",
      " 18  engt_tgt_div_itg_cd             218895 non-null  object \n",
      " 19  cont_fns_pam_date               218895 non-null  int64  \n",
      " 20  voc_mis_pbls_yn                 218895 non-null  object \n",
      " 21  fclt_oos_yn                     218895 non-null  object \n",
      " 22  cust_snsry_base_conf_need_time  218895 non-null  float64\n",
      " 23  trm_yn                          218895 non-null  object \n",
      "dtypes: float64(2), int64(11), object(11)\n",
      "memory usage: 40.1+ MB\n"
     ]
    }
   ],
   "source": [
    "# 앞전에 25개 컬럼 있었는데 1개 컬럼 삭제되어 24컬럼 보임\n",
    "df1.info()"
   ]
  },
  {
   "cell_type": "code",
   "execution_count": 22,
   "metadata": {},
   "outputs": [],
   "source": [
    "# 'df1' DataFrame에서 '_' 값이 50% 이상되는 나머지 컬럼도 삭제\n",
    "\n",
    "df1 = df1.drop(columns=['voc_trt_reslt_itg_cd',\n",
    "                       'oos_cause_type_itg_cd',\n",
    "                       'engt_cperd_type_itg_cd',\n",
    "                       'engt_tgt_div_itg_cd',\n",
    "                       'fclt_oos_yn'\n",
    "                      ])"
   ]
  },
  {
   "cell_type": "code",
   "execution_count": 23,
   "metadata": {},
   "outputs": [],
   "source": [
    "# 위의 drop 함수 사용한 결과와 동일. 하지만 사용방법이 약간 다름\n",
    "# df1 = df.drop(['voc_trt_reslt_itg_cd',\n",
    "#                'oos_cause_type_itg_cd',\n",
    "#                'engt_cperd_type_itg_cd',\n",
    "#                'engt_tgt_div_itg_cd',\n",
    "#                'fclt_oos_yn'\n",
    "#                ], axis=1)"
   ]
  },
  {
   "cell_type": "markdown",
   "metadata": {},
   "source": [
    "### df1 데이터프레임 정보 확인"
   ]
  },
  {
   "cell_type": "code",
   "execution_count": 24,
   "metadata": {},
   "outputs": [
    {
     "name": "stdout",
     "output_type": "stream",
     "text": [
      "<class 'pandas.core.frame.DataFrame'>\n",
      "RangeIndex: 218895 entries, 0 to 218894\n",
      "Data columns (total 19 columns):\n",
      " #   Column                          Non-Null Count   Dtype  \n",
      "---  ------                          --------------   -----  \n",
      " 0   voc_prod_sbt_id                 218895 non-null  int64  \n",
      " 1   voc_wjt_sorc_id                 218895 non-null  int64  \n",
      " 2   voc_type_itg_cd                 218895 non-null  int64  \n",
      " 3   voc_sttus_itg_cd                218895 non-null  int64  \n",
      " 4   cust_pty_sbt_id                 218895 non-null  int64  \n",
      " 5   cust_clas_itg_cd                218895 non-null  object \n",
      " 6   bprod_sbt_id                    218895 non-null  int64  \n",
      " 7   age_itg_cd                      218895 non-null  object \n",
      " 8   cont_sttus_itg_cd               218895 non-null  object \n",
      " 9   new_date                        218895 non-null  int64  \n",
      " 10  opn_nfl_chg_date                218895 non-null  int64  \n",
      " 11  cust_dtl_ctg_itg_cd             218895 non-null  object \n",
      " 12  voc_trt_degr_div_itg_cd         218895 non-null  int64  \n",
      " 13  voc_dupl_tmscnt                 218895 non-null  float64\n",
      " 14  voc_trt_need_time_itg_cd        218895 non-null  int64  \n",
      " 15  cont_fns_pam_date               218895 non-null  int64  \n",
      " 16  voc_mis_pbls_yn                 218895 non-null  object \n",
      " 17  cust_snsry_base_conf_need_time  218895 non-null  float64\n",
      " 18  trm_yn                          218895 non-null  object \n",
      "dtypes: float64(2), int64(11), object(6)\n",
      "memory usage: 31.7+ MB\n"
     ]
    }
   ],
   "source": [
    "# 이전에 24컬럼에서 5개 컬럼 삭제했으니 19개 컬럼 남음\n",
    "df1.info()"
   ]
  },
  {
   "cell_type": "code",
   "execution_count": 25,
   "metadata": {},
   "outputs": [
    {
     "data": {
      "text/html": [
       "<div>\n",
       "<style scoped>\n",
       "    .dataframe tbody tr th:only-of-type {\n",
       "        vertical-align: middle;\n",
       "    }\n",
       "\n",
       "    .dataframe tbody tr th {\n",
       "        vertical-align: top;\n",
       "    }\n",
       "\n",
       "    .dataframe thead th {\n",
       "        text-align: right;\n",
       "    }\n",
       "</style>\n",
       "<table border=\"1\" class=\"dataframe\">\n",
       "  <thead>\n",
       "    <tr style=\"text-align: right;\">\n",
       "      <th></th>\n",
       "      <th>voc_prod_sbt_id</th>\n",
       "      <th>voc_wjt_sorc_id</th>\n",
       "      <th>voc_type_itg_cd</th>\n",
       "      <th>voc_sttus_itg_cd</th>\n",
       "      <th>cust_pty_sbt_id</th>\n",
       "      <th>cust_clas_itg_cd</th>\n",
       "      <th>bprod_sbt_id</th>\n",
       "      <th>age_itg_cd</th>\n",
       "      <th>cont_sttus_itg_cd</th>\n",
       "      <th>new_date</th>\n",
       "      <th>opn_nfl_chg_date</th>\n",
       "      <th>cust_dtl_ctg_itg_cd</th>\n",
       "      <th>voc_trt_degr_div_itg_cd</th>\n",
       "      <th>voc_dupl_tmscnt</th>\n",
       "      <th>voc_trt_need_time_itg_cd</th>\n",
       "      <th>cont_fns_pam_date</th>\n",
       "      <th>voc_mis_pbls_yn</th>\n",
       "      <th>cust_snsry_base_conf_need_time</th>\n",
       "      <th>trm_yn</th>\n",
       "    </tr>\n",
       "  </thead>\n",
       "  <tbody>\n",
       "    <tr>\n",
       "      <th>8</th>\n",
       "      <td>1000787867</td>\n",
       "      <td>2153</td>\n",
       "      <td>10009</td>\n",
       "      <td>10002</td>\n",
       "      <td>1318367928</td>\n",
       "      <td>_</td>\n",
       "      <td>-998</td>\n",
       "      <td>_</td>\n",
       "      <td>_</td>\n",
       "      <td>10101</td>\n",
       "      <td>10101</td>\n",
       "      <td>_</td>\n",
       "      <td>20001</td>\n",
       "      <td>0.0</td>\n",
       "      <td>10001</td>\n",
       "      <td>99991231</td>\n",
       "      <td>N</td>\n",
       "      <td>0.0</td>\n",
       "      <td>N</td>\n",
       "    </tr>\n",
       "    <tr>\n",
       "      <th>9</th>\n",
       "      <td>1001054411</td>\n",
       "      <td>2153</td>\n",
       "      <td>10009</td>\n",
       "      <td>10002</td>\n",
       "      <td>1304628723</td>\n",
       "      <td>_</td>\n",
       "      <td>1000001126</td>\n",
       "      <td>_</td>\n",
       "      <td>10001</td>\n",
       "      <td>20010912</td>\n",
       "      <td>20010912</td>\n",
       "      <td>90027</td>\n",
       "      <td>20001</td>\n",
       "      <td>0.0</td>\n",
       "      <td>10001</td>\n",
       "      <td>99991231</td>\n",
       "      <td>N</td>\n",
       "      <td>0.0</td>\n",
       "      <td>N</td>\n",
       "    </tr>\n",
       "    <tr>\n",
       "      <th>27</th>\n",
       "      <td>1000665328</td>\n",
       "      <td>1646</td>\n",
       "      <td>10003</td>\n",
       "      <td>10005</td>\n",
       "      <td>1280695981</td>\n",
       "      <td>_</td>\n",
       "      <td>1000001126</td>\n",
       "      <td>_</td>\n",
       "      <td>10001</td>\n",
       "      <td>19971129</td>\n",
       "      <td>19971129</td>\n",
       "      <td>90056</td>\n",
       "      <td>20001</td>\n",
       "      <td>0.0</td>\n",
       "      <td>10038</td>\n",
       "      <td>99991231</td>\n",
       "      <td>N</td>\n",
       "      <td>0.0</td>\n",
       "      <td>N</td>\n",
       "    </tr>\n",
       "    <tr>\n",
       "      <th>31</th>\n",
       "      <td>1000665328</td>\n",
       "      <td>2106</td>\n",
       "      <td>10009</td>\n",
       "      <td>10002</td>\n",
       "      <td>1309393567</td>\n",
       "      <td>_</td>\n",
       "      <td>1000001126</td>\n",
       "      <td>_</td>\n",
       "      <td>10001</td>\n",
       "      <td>20160728</td>\n",
       "      <td>20160728</td>\n",
       "      <td>90056</td>\n",
       "      <td>20001</td>\n",
       "      <td>0.0</td>\n",
       "      <td>10001</td>\n",
       "      <td>99991231</td>\n",
       "      <td>N</td>\n",
       "      <td>0.0</td>\n",
       "      <td>N</td>\n",
       "    </tr>\n",
       "    <tr>\n",
       "      <th>32</th>\n",
       "      <td>1001027746</td>\n",
       "      <td>3094</td>\n",
       "      <td>10009</td>\n",
       "      <td>10002</td>\n",
       "      <td>1380827627</td>\n",
       "      <td>_</td>\n",
       "      <td>1000702598</td>\n",
       "      <td>_</td>\n",
       "      <td>10001</td>\n",
       "      <td>20180319</td>\n",
       "      <td>20180319</td>\n",
       "      <td>90056</td>\n",
       "      <td>20001</td>\n",
       "      <td>0.0</td>\n",
       "      <td>10001</td>\n",
       "      <td>20210318</td>\n",
       "      <td>N</td>\n",
       "      <td>0.0</td>\n",
       "      <td>N</td>\n",
       "    </tr>\n",
       "    <tr>\n",
       "      <th>...</th>\n",
       "      <td>...</td>\n",
       "      <td>...</td>\n",
       "      <td>...</td>\n",
       "      <td>...</td>\n",
       "      <td>...</td>\n",
       "      <td>...</td>\n",
       "      <td>...</td>\n",
       "      <td>...</td>\n",
       "      <td>...</td>\n",
       "      <td>...</td>\n",
       "      <td>...</td>\n",
       "      <td>...</td>\n",
       "      <td>...</td>\n",
       "      <td>...</td>\n",
       "      <td>...</td>\n",
       "      <td>...</td>\n",
       "      <td>...</td>\n",
       "      <td>...</td>\n",
       "      <td>...</td>\n",
       "    </tr>\n",
       "    <tr>\n",
       "      <th>218883</th>\n",
       "      <td>1000669297</td>\n",
       "      <td>2174</td>\n",
       "      <td>10009</td>\n",
       "      <td>10002</td>\n",
       "      <td>1318367928</td>\n",
       "      <td>_</td>\n",
       "      <td>-998</td>\n",
       "      <td>_</td>\n",
       "      <td>_</td>\n",
       "      <td>10101</td>\n",
       "      <td>10101</td>\n",
       "      <td>_</td>\n",
       "      <td>20001</td>\n",
       "      <td>0.0</td>\n",
       "      <td>10001</td>\n",
       "      <td>99991231</td>\n",
       "      <td>N</td>\n",
       "      <td>0.0</td>\n",
       "      <td>N</td>\n",
       "    </tr>\n",
       "    <tr>\n",
       "      <th>218885</th>\n",
       "      <td>1001027747</td>\n",
       "      <td>2153</td>\n",
       "      <td>10009</td>\n",
       "      <td>10002</td>\n",
       "      <td>1303256678</td>\n",
       "      <td>_</td>\n",
       "      <td>-998</td>\n",
       "      <td>_</td>\n",
       "      <td>_</td>\n",
       "      <td>10101</td>\n",
       "      <td>10101</td>\n",
       "      <td>_</td>\n",
       "      <td>20001</td>\n",
       "      <td>0.0</td>\n",
       "      <td>10001</td>\n",
       "      <td>99991231</td>\n",
       "      <td>N</td>\n",
       "      <td>0.0</td>\n",
       "      <td>N</td>\n",
       "    </tr>\n",
       "    <tr>\n",
       "      <th>218889</th>\n",
       "      <td>1000792727</td>\n",
       "      <td>2177</td>\n",
       "      <td>10009</td>\n",
       "      <td>10003</td>\n",
       "      <td>1318367928</td>\n",
       "      <td>_</td>\n",
       "      <td>-998</td>\n",
       "      <td>_</td>\n",
       "      <td>_</td>\n",
       "      <td>10101</td>\n",
       "      <td>10101</td>\n",
       "      <td>_</td>\n",
       "      <td>20002</td>\n",
       "      <td>0.0</td>\n",
       "      <td>10038</td>\n",
       "      <td>99991231</td>\n",
       "      <td>N</td>\n",
       "      <td>0.0</td>\n",
       "      <td>N</td>\n",
       "    </tr>\n",
       "    <tr>\n",
       "      <th>218891</th>\n",
       "      <td>1000711651</td>\n",
       "      <td>504</td>\n",
       "      <td>10011</td>\n",
       "      <td>10002</td>\n",
       "      <td>1310743140</td>\n",
       "      <td>_</td>\n",
       "      <td>1000001564</td>\n",
       "      <td>_</td>\n",
       "      <td>10001</td>\n",
       "      <td>20200309</td>\n",
       "      <td>20200309</td>\n",
       "      <td>90024</td>\n",
       "      <td>20001</td>\n",
       "      <td>0.0</td>\n",
       "      <td>10001</td>\n",
       "      <td>99991231</td>\n",
       "      <td>N</td>\n",
       "      <td>0.0</td>\n",
       "      <td>N</td>\n",
       "    </tr>\n",
       "    <tr>\n",
       "      <th>218893</th>\n",
       "      <td>1001027710</td>\n",
       "      <td>2064</td>\n",
       "      <td>10009</td>\n",
       "      <td>10002</td>\n",
       "      <td>1318367928</td>\n",
       "      <td>_</td>\n",
       "      <td>-998</td>\n",
       "      <td>_</td>\n",
       "      <td>_</td>\n",
       "      <td>10101</td>\n",
       "      <td>10101</td>\n",
       "      <td>_</td>\n",
       "      <td>20001</td>\n",
       "      <td>0.0</td>\n",
       "      <td>10001</td>\n",
       "      <td>99991231</td>\n",
       "      <td>N</td>\n",
       "      <td>0.0</td>\n",
       "      <td>N</td>\n",
       "    </tr>\n",
       "  </tbody>\n",
       "</table>\n",
       "<p>43995 rows × 19 columns</p>\n",
       "</div>"
      ],
      "text/plain": [
       "        voc_prod_sbt_id  voc_wjt_sorc_id  voc_type_itg_cd  voc_sttus_itg_cd  \\\n",
       "8            1000787867             2153            10009             10002   \n",
       "9            1001054411             2153            10009             10002   \n",
       "27           1000665328             1646            10003             10005   \n",
       "31           1000665328             2106            10009             10002   \n",
       "32           1001027746             3094            10009             10002   \n",
       "...                 ...              ...              ...               ...   \n",
       "218883       1000669297             2174            10009             10002   \n",
       "218885       1001027747             2153            10009             10002   \n",
       "218889       1000792727             2177            10009             10003   \n",
       "218891       1000711651              504            10011             10002   \n",
       "218893       1001027710             2064            10009             10002   \n",
       "\n",
       "        cust_pty_sbt_id cust_clas_itg_cd  bprod_sbt_id age_itg_cd  \\\n",
       "8            1318367928                _          -998          _   \n",
       "9            1304628723                _    1000001126          _   \n",
       "27           1280695981                _    1000001126          _   \n",
       "31           1309393567                _    1000001126          _   \n",
       "32           1380827627                _    1000702598          _   \n",
       "...                 ...              ...           ...        ...   \n",
       "218883       1318367928                _          -998          _   \n",
       "218885       1303256678                _          -998          _   \n",
       "218889       1318367928                _          -998          _   \n",
       "218891       1310743140                _    1000001564          _   \n",
       "218893       1318367928                _          -998          _   \n",
       "\n",
       "       cont_sttus_itg_cd  new_date  opn_nfl_chg_date cust_dtl_ctg_itg_cd  \\\n",
       "8                      _     10101             10101                   _   \n",
       "9                  10001  20010912          20010912               90027   \n",
       "27                 10001  19971129          19971129               90056   \n",
       "31                 10001  20160728          20160728               90056   \n",
       "32                 10001  20180319          20180319               90056   \n",
       "...                  ...       ...               ...                 ...   \n",
       "218883                 _     10101             10101                   _   \n",
       "218885                 _     10101             10101                   _   \n",
       "218889                 _     10101             10101                   _   \n",
       "218891             10001  20200309          20200309               90024   \n",
       "218893                 _     10101             10101                   _   \n",
       "\n",
       "        voc_trt_degr_div_itg_cd  voc_dupl_tmscnt  voc_trt_need_time_itg_cd  \\\n",
       "8                         20001              0.0                     10001   \n",
       "9                         20001              0.0                     10001   \n",
       "27                        20001              0.0                     10038   \n",
       "31                        20001              0.0                     10001   \n",
       "32                        20001              0.0                     10001   \n",
       "...                         ...              ...                       ...   \n",
       "218883                    20001              0.0                     10001   \n",
       "218885                    20001              0.0                     10001   \n",
       "218889                    20002              0.0                     10038   \n",
       "218891                    20001              0.0                     10001   \n",
       "218893                    20001              0.0                     10001   \n",
       "\n",
       "        cont_fns_pam_date voc_mis_pbls_yn  cust_snsry_base_conf_need_time  \\\n",
       "8                99991231               N                             0.0   \n",
       "9                99991231               N                             0.0   \n",
       "27               99991231               N                             0.0   \n",
       "31               99991231               N                             0.0   \n",
       "32               20210318               N                             0.0   \n",
       "...                   ...             ...                             ...   \n",
       "218883           99991231               N                             0.0   \n",
       "218885           99991231               N                             0.0   \n",
       "218889           99991231               N                             0.0   \n",
       "218891           99991231               N                             0.0   \n",
       "218893           99991231               N                             0.0   \n",
       "\n",
       "       trm_yn  \n",
       "8           N  \n",
       "9           N  \n",
       "27          N  \n",
       "31          N  \n",
       "32          N  \n",
       "...       ...  \n",
       "218883      N  \n",
       "218885      N  \n",
       "218889      N  \n",
       "218891      N  \n",
       "218893      N  \n",
       "\n",
       "[43995 rows x 19 columns]"
      ]
     },
     "execution_count": 25,
     "metadata": {},
     "output_type": "execute_result"
    }
   ],
   "source": [
    "# cust_clas_itg_cd 컬럼에 '_' 값 있는지 확인 : 아직도 있네\n",
    "df1[df1['cust_clas_itg_cd'] == '_']"
   ]
  },
  {
   "cell_type": "markdown",
   "metadata": {},
   "source": [
    "### 남아있는 '_'값을 null로 변경"
   ]
  },
  {
   "cell_type": "markdown",
   "metadata": {},
   "source": [
    "<br>\n",
    "<font color=blue>[문제] DataFrame replace 함수를 사용해서 모든 컬럼에 대해 '_'값을 null로 변경하세요</font>"
   ]
  },
  {
   "cell_type": "code",
   "execution_count": 26,
   "metadata": {},
   "outputs": [],
   "source": [
    "# DataFrame replace 함수 사용\n",
    "# Null 표현: np.nan \n",
    "# \"df1\" DataFrame에 자체에 저장할 것이므로 inplace=True 사용\n",
    "\n",
    "\n",
    "\n",
    "df1.replace('_',np.nan,inplace=True)"
   ]
  },
  {
   "cell_type": "code",
   "execution_count": 27,
   "metadata": {},
   "outputs": [
    {
     "name": "stdout",
     "output_type": "stream",
     "text": [
      "<class 'pandas.core.frame.DataFrame'>\n",
      "RangeIndex: 218895 entries, 0 to 218894\n",
      "Data columns (total 19 columns):\n",
      " #   Column                          Non-Null Count   Dtype  \n",
      "---  ------                          --------------   -----  \n",
      " 0   voc_prod_sbt_id                 218895 non-null  int64  \n",
      " 1   voc_wjt_sorc_id                 218895 non-null  int64  \n",
      " 2   voc_type_itg_cd                 218895 non-null  int64  \n",
      " 3   voc_sttus_itg_cd                218895 non-null  int64  \n",
      " 4   cust_pty_sbt_id                 218895 non-null  int64  \n",
      " 5   cust_clas_itg_cd                174900 non-null  object \n",
      " 6   bprod_sbt_id                    218895 non-null  int64  \n",
      " 7   age_itg_cd                      170697 non-null  object \n",
      " 8   cont_sttus_itg_cd               192950 non-null  object \n",
      " 9   new_date                        218895 non-null  int64  \n",
      " 10  opn_nfl_chg_date                218895 non-null  int64  \n",
      " 11  cust_dtl_ctg_itg_cd             192948 non-null  object \n",
      " 12  voc_trt_degr_div_itg_cd         218895 non-null  int64  \n",
      " 13  voc_dupl_tmscnt                 218895 non-null  float64\n",
      " 14  voc_trt_need_time_itg_cd        218895 non-null  int64  \n",
      " 15  cont_fns_pam_date               218895 non-null  int64  \n",
      " 16  voc_mis_pbls_yn                 217065 non-null  object \n",
      " 17  cust_snsry_base_conf_need_time  218895 non-null  float64\n",
      " 18  trm_yn                          218895 non-null  object \n",
      "dtypes: float64(2), int64(11), object(6)\n",
      "memory usage: 31.7+ MB\n"
     ]
    }
   ],
   "source": [
    "# 이전에 Null 없던 cust_clas_itg_cd, age_itg_cd 컬럼등에서 Null 있어 보인다.\n",
    "df1.info()"
   ]
  },
  {
   "cell_type": "code",
   "execution_count": 28,
   "metadata": {},
   "outputs": [
    {
     "data": {
      "text/plain": [
       "voc_prod_sbt_id                       0\n",
       "voc_wjt_sorc_id                       0\n",
       "voc_type_itg_cd                       0\n",
       "voc_sttus_itg_cd                      0\n",
       "cust_pty_sbt_id                       0\n",
       "cust_clas_itg_cd                  43995\n",
       "bprod_sbt_id                          0\n",
       "age_itg_cd                        48198\n",
       "cont_sttus_itg_cd                 25945\n",
       "new_date                              0\n",
       "opn_nfl_chg_date                      0\n",
       "cust_dtl_ctg_itg_cd               25947\n",
       "voc_trt_degr_div_itg_cd               0\n",
       "voc_dupl_tmscnt                       0\n",
       "voc_trt_need_time_itg_cd              0\n",
       "cont_fns_pam_date                     0\n",
       "voc_mis_pbls_yn                    1830\n",
       "cust_snsry_base_conf_need_time        0\n",
       "trm_yn                                0\n",
       "dtype: int64"
      ]
     },
     "execution_count": 28,
     "metadata": {},
     "output_type": "execute_result"
    }
   ],
   "source": [
    "# 컬럼별 Null 갯수 확인\n",
    "df1.isnull().sum()"
   ]
  },
  {
   "cell_type": "markdown",
   "metadata": {},
   "source": [
    "###  Object 데이터타입의 Null값 처리\n",
    "- cust_clas_itg_cd \n",
    "- age_itg_cd\n",
    "- cont_sttus_itg_cd\n",
    "- cust_dtl_ctg_itg_cd\n",
    "- voc_mis_pbls_yn"
   ]
  },
  {
   "cell_type": "code",
   "execution_count": 29,
   "metadata": {},
   "outputs": [
    {
     "data": {
      "text/plain": [
       "voc_prod_sbt_id                     int64\n",
       "voc_wjt_sorc_id                     int64\n",
       "voc_type_itg_cd                     int64\n",
       "voc_sttus_itg_cd                    int64\n",
       "cust_pty_sbt_id                     int64\n",
       "cust_clas_itg_cd                   object\n",
       "bprod_sbt_id                        int64\n",
       "age_itg_cd                         object\n",
       "cont_sttus_itg_cd                  object\n",
       "new_date                            int64\n",
       "opn_nfl_chg_date                    int64\n",
       "cust_dtl_ctg_itg_cd                object\n",
       "voc_trt_degr_div_itg_cd             int64\n",
       "voc_dupl_tmscnt                   float64\n",
       "voc_trt_need_time_itg_cd            int64\n",
       "cont_fns_pam_date                   int64\n",
       "voc_mis_pbls_yn                    object\n",
       "cust_snsry_base_conf_need_time    float64\n",
       "trm_yn                             object\n",
       "dtype: object"
      ]
     },
     "execution_count": 29,
     "metadata": {},
     "output_type": "execute_result"
    }
   ],
   "source": [
    "df1.dtypes"
   ]
  },
  {
   "cell_type": "markdown",
   "metadata": {},
   "source": [
    "- cust_clas_itg_cd : 최빈값(mode)으로 변경"
   ]
  },
  {
   "cell_type": "code",
   "execution_count": 30,
   "metadata": {},
   "outputs": [
    {
     "data": {
      "text/plain": [
       "0           O\n",
       "1           J\n",
       "2           I\n",
       "3           G\n",
       "4           F\n",
       "         ... \n",
       "218890      L\n",
       "218891    NaN\n",
       "218892      I\n",
       "218893    NaN\n",
       "218894      J\n",
       "Name: cust_clas_itg_cd, Length: 218895, dtype: object"
      ]
     },
     "execution_count": 30,
     "metadata": {},
     "output_type": "execute_result"
    }
   ],
   "source": [
    "df1['cust_clas_itg_cd']"
   ]
  },
  {
   "cell_type": "code",
   "execution_count": 31,
   "metadata": {},
   "outputs": [
    {
     "data": {
      "text/plain": [
       "L    62493\n",
       "G    37940\n",
       "I    27172\n",
       "J    22368\n",
       "F    19214\n",
       "O     5568\n",
       "H       78\n",
       "M       45\n",
       "V       17\n",
       "R        5\n",
       "Name: cust_clas_itg_cd, dtype: int64"
      ]
     },
     "execution_count": 31,
     "metadata": {},
     "output_type": "execute_result"
    }
   ],
   "source": [
    "# cust_clas_itg_cd 컬럼에 대한 값 분포 확인\n",
    "# 'L' 가장 많다.\n",
    "\n",
    "df1['cust_clas_itg_cd'].value_counts()"
   ]
  },
  {
   "cell_type": "markdown",
   "metadata": {},
   "source": [
    "<br>\n",
    "<font color=blue>[문제] 'cust_clas_itg_cd' 컬럼의 값중에 Null을 'L'로 변경하세요(fillna 함수 사용)</font>"
   ]
  },
  {
   "cell_type": "code",
   "execution_count": 32,
   "metadata": {},
   "outputs": [],
   "source": [
    "# DataFrame의 fillna() 함수 사용\n",
    "# 적용 대상 컬럼 : 'cust_clas_itg_cd'\n",
    "# \"df1\" DataFrame에 자체에 저장할 것이므로 inplace=True 사용\n",
    "\n",
    "\n",
    "\n",
    "df1['cust_clas_itg_cd'].fillna('L', inplace=True)"
   ]
  },
  {
   "cell_type": "code",
   "execution_count": 33,
   "metadata": {},
   "outputs": [],
   "source": [
    "# fillna 대신 replace함수 사용하여 처리해도 됨.\n",
    "#df1['cust_clas_itg_cd'].replace(np.nan, 'L', inplace=True)"
   ]
  },
  {
   "cell_type": "code",
   "execution_count": 34,
   "metadata": {},
   "outputs": [
    {
     "data": {
      "text/plain": [
       "0"
      ]
     },
     "execution_count": 34,
     "metadata": {},
     "output_type": "execute_result"
    }
   ],
   "source": [
    "# cust_clas_itg_cd 컬럼 Null 갯수 확인\n",
    "df1['cust_clas_itg_cd'].isnull().sum()"
   ]
  },
  {
   "cell_type": "markdown",
   "metadata": {},
   "source": [
    "- age_itg_cd : 중앙값(median)으로 변경하고 데이터 타입을 정수(int)로 변경"
   ]
  },
  {
   "cell_type": "code",
   "execution_count": 35,
   "metadata": {},
   "outputs": [
    {
     "data": {
      "text/plain": [
       "0         021\n",
       "1         054\n",
       "2         054\n",
       "3         049\n",
       "4         048\n",
       "         ... \n",
       "218890    046\n",
       "218891    NaN\n",
       "218892    046\n",
       "218893    NaN\n",
       "218894    056\n",
       "Name: age_itg_cd, Length: 218895, dtype: object"
      ]
     },
     "execution_count": 35,
     "metadata": {},
     "output_type": "execute_result"
    }
   ],
   "source": [
    "df1['age_itg_cd']"
   ]
  },
  {
   "cell_type": "code",
   "execution_count": 36,
   "metadata": {},
   "outputs": [
    {
     "data": {
      "text/plain": [
       "48.0"
      ]
     },
     "execution_count": 36,
     "metadata": {},
     "output_type": "execute_result"
    }
   ],
   "source": [
    "df1['age_itg_cd'].median()"
   ]
  },
  {
   "cell_type": "code",
   "execution_count": 37,
   "metadata": {},
   "outputs": [],
   "source": [
    "# 'age_itg_cd' 컬럼에 대해 null 값을 중간값 48로 replace함\n",
    "df1['age_itg_cd'].replace(np.nan, 48, inplace=True)"
   ]
  },
  {
   "cell_type": "code",
   "execution_count": 38,
   "metadata": {},
   "outputs": [
    {
     "data": {
      "text/plain": [
       "dtype('O')"
      ]
     },
     "execution_count": 38,
     "metadata": {},
     "output_type": "execute_result"
    }
   ],
   "source": [
    "# 'age_itg_cd' 컬럼 type : Object 확인\n",
    "df1['age_itg_cd'].dtypes"
   ]
  },
  {
   "cell_type": "markdown",
   "metadata": {},
   "source": [
    "<br>\n",
    "<font color=blue>[문제] 'age_itg_cd' 컬럼 type을 'Object' 에서 'int' type으로 변경하세요</font>"
   ]
  },
  {
   "cell_type": "code",
   "execution_count": 39,
   "metadata": {},
   "outputs": [],
   "source": [
    "# DataFrame의 astype() 함수 사용하고 int 인자 넣으면 됨.\n",
    "# 변경 대상 : df1['age_itg_cd']\n",
    "\n",
    "\n",
    "\n",
    "df1['age_itg_cd'] = df1['age_itg_cd'].astype(int)"
   ]
  },
  {
   "cell_type": "code",
   "execution_count": 40,
   "metadata": {},
   "outputs": [
    {
     "data": {
      "text/plain": [
       "0"
      ]
     },
     "execution_count": 40,
     "metadata": {},
     "output_type": "execute_result"
    }
   ],
   "source": [
    "df1['age_itg_cd'].isnull().sum()"
   ]
  },
  {
   "cell_type": "code",
   "execution_count": 41,
   "metadata": {},
   "outputs": [
    {
     "data": {
      "text/plain": [
       "0         21\n",
       "1         54\n",
       "2         54\n",
       "3         49\n",
       "4         48\n",
       "          ..\n",
       "218890    46\n",
       "218891    48\n",
       "218892    46\n",
       "218893    48\n",
       "218894    56\n",
       "Name: age_itg_cd, Length: 218895, dtype: int64"
      ]
     },
     "execution_count": 41,
     "metadata": {},
     "output_type": "execute_result"
    }
   ],
   "source": [
    "df1['age_itg_cd']"
   ]
  },
  {
   "cell_type": "code",
   "execution_count": 42,
   "metadata": {},
   "outputs": [
    {
     "name": "stdout",
     "output_type": "stream",
     "text": [
      "<class 'pandas.core.frame.DataFrame'>\n",
      "RangeIndex: 218895 entries, 0 to 218894\n",
      "Data columns (total 19 columns):\n",
      " #   Column                          Non-Null Count   Dtype  \n",
      "---  ------                          --------------   -----  \n",
      " 0   voc_prod_sbt_id                 218895 non-null  int64  \n",
      " 1   voc_wjt_sorc_id                 218895 non-null  int64  \n",
      " 2   voc_type_itg_cd                 218895 non-null  int64  \n",
      " 3   voc_sttus_itg_cd                218895 non-null  int64  \n",
      " 4   cust_pty_sbt_id                 218895 non-null  int64  \n",
      " 5   cust_clas_itg_cd                218895 non-null  object \n",
      " 6   bprod_sbt_id                    218895 non-null  int64  \n",
      " 7   age_itg_cd                      218895 non-null  int64  \n",
      " 8   cont_sttus_itg_cd               192950 non-null  object \n",
      " 9   new_date                        218895 non-null  int64  \n",
      " 10  opn_nfl_chg_date                218895 non-null  int64  \n",
      " 11  cust_dtl_ctg_itg_cd             192948 non-null  object \n",
      " 12  voc_trt_degr_div_itg_cd         218895 non-null  int64  \n",
      " 13  voc_dupl_tmscnt                 218895 non-null  float64\n",
      " 14  voc_trt_need_time_itg_cd        218895 non-null  int64  \n",
      " 15  cont_fns_pam_date               218895 non-null  int64  \n",
      " 16  voc_mis_pbls_yn                 217065 non-null  object \n",
      " 17  cust_snsry_base_conf_need_time  218895 non-null  float64\n",
      " 18  trm_yn                          218895 non-null  object \n",
      "dtypes: float64(2), int64(12), object(5)\n",
      "memory usage: 31.7+ MB\n"
     ]
    }
   ],
   "source": [
    "# age_itg_cd 컬럼 type : int64 확인\n",
    "df1.info()"
   ]
  },
  {
   "cell_type": "markdown",
   "metadata": {},
   "source": [
    "- cont_sttus_itg_cd : 최빈값(mode)으로 변경"
   ]
  },
  {
   "cell_type": "code",
   "execution_count": 43,
   "metadata": {},
   "outputs": [
    {
     "data": {
      "text/plain": [
       "25945"
      ]
     },
     "execution_count": 43,
     "metadata": {},
     "output_type": "execute_result"
    }
   ],
   "source": [
    "df1['cont_sttus_itg_cd'].isnull().sum()"
   ]
  },
  {
   "cell_type": "code",
   "execution_count": 44,
   "metadata": {},
   "outputs": [
    {
     "data": {
      "text/plain": [
       "10001    171474\n",
       "10005     12412\n",
       "10007      3739\n",
       "10003      3618\n",
       "10002      1290\n",
       "10006       348\n",
       "10004        69\n",
       "Name: cont_sttus_itg_cd, dtype: int64"
      ]
     },
     "execution_count": 44,
     "metadata": {},
     "output_type": "execute_result"
    }
   ],
   "source": [
    "df1['cont_sttus_itg_cd'].value_counts()"
   ]
  },
  {
   "cell_type": "code",
   "execution_count": 45,
   "metadata": {},
   "outputs": [],
   "source": [
    "df1['cont_sttus_itg_cd'].replace(np.nan,'10001', inplace=True)"
   ]
  },
  {
   "cell_type": "code",
   "execution_count": 46,
   "metadata": {},
   "outputs": [
    {
     "data": {
      "text/plain": [
       "0"
      ]
     },
     "execution_count": 46,
     "metadata": {},
     "output_type": "execute_result"
    }
   ],
   "source": [
    "df1['cont_sttus_itg_cd'].isnull().sum()"
   ]
  },
  {
   "cell_type": "markdown",
   "metadata": {},
   "source": [
    "- cust_dtl_ctg_itg_cd : 최빈값(mode)으로 변경"
   ]
  },
  {
   "cell_type": "code",
   "execution_count": 47,
   "metadata": {},
   "outputs": [
    {
     "data": {
      "text/plain": [
       "25947"
      ]
     },
     "execution_count": 47,
     "metadata": {},
     "output_type": "execute_result"
    }
   ],
   "source": [
    "df1['cust_dtl_ctg_itg_cd'].isnull().sum()"
   ]
  },
  {
   "cell_type": "code",
   "execution_count": 48,
   "metadata": {},
   "outputs": [
    {
     "data": {
      "text/plain": [
       "10003    113729\n",
       "10002     28127\n",
       "90029     23399\n",
       "90056      9427\n",
       "10019      8499\n",
       "90027      5377\n",
       "90024      2735\n",
       "90030       639\n",
       "10011       498\n",
       "10018       467\n",
       "10001        30\n",
       "10013        15\n",
       "10004         6\n",
       "Name: cust_dtl_ctg_itg_cd, dtype: int64"
      ]
     },
     "execution_count": 48,
     "metadata": {},
     "output_type": "execute_result"
    }
   ],
   "source": [
    "df1['cust_dtl_ctg_itg_cd'].value_counts()"
   ]
  },
  {
   "cell_type": "code",
   "execution_count": 49,
   "metadata": {},
   "outputs": [],
   "source": [
    "df1['cust_dtl_ctg_itg_cd'].replace(np.nan,'10003', inplace=True)"
   ]
  },
  {
   "cell_type": "code",
   "execution_count": 50,
   "metadata": {},
   "outputs": [
    {
     "data": {
      "text/plain": [
       "0"
      ]
     },
     "execution_count": 50,
     "metadata": {},
     "output_type": "execute_result"
    }
   ],
   "source": [
    "df1['cust_dtl_ctg_itg_cd'].isnull().sum()"
   ]
  },
  {
   "cell_type": "markdown",
   "metadata": {},
   "source": [
    " - voc_mis_pbls_yn 컬럼의 경우 'N' 값이 99% 이상 차지하므로 삭제"
   ]
  },
  {
   "cell_type": "code",
   "execution_count": 51,
   "metadata": {},
   "outputs": [
    {
     "data": {
      "text/plain": [
       "N    217063\n",
       "Y         2\n",
       "Name: voc_mis_pbls_yn, dtype: int64"
      ]
     },
     "execution_count": 51,
     "metadata": {},
     "output_type": "execute_result"
    }
   ],
   "source": [
    "df1['voc_mis_pbls_yn'].value_counts()"
   ]
  },
  {
   "cell_type": "code",
   "execution_count": 52,
   "metadata": {},
   "outputs": [],
   "source": [
    "df1.drop(columns=['voc_mis_pbls_yn'], inplace=True)"
   ]
  },
  {
   "cell_type": "markdown",
   "metadata": {},
   "source": [
    "### 처리 결과  확인"
   ]
  },
  {
   "cell_type": "code",
   "execution_count": 53,
   "metadata": {},
   "outputs": [
    {
     "name": "stdout",
     "output_type": "stream",
     "text": [
      "<class 'pandas.core.frame.DataFrame'>\n",
      "RangeIndex: 218895 entries, 0 to 218894\n",
      "Data columns (total 18 columns):\n",
      " #   Column                          Non-Null Count   Dtype  \n",
      "---  ------                          --------------   -----  \n",
      " 0   voc_prod_sbt_id                 218895 non-null  int64  \n",
      " 1   voc_wjt_sorc_id                 218895 non-null  int64  \n",
      " 2   voc_type_itg_cd                 218895 non-null  int64  \n",
      " 3   voc_sttus_itg_cd                218895 non-null  int64  \n",
      " 4   cust_pty_sbt_id                 218895 non-null  int64  \n",
      " 5   cust_clas_itg_cd                218895 non-null  object \n",
      " 6   bprod_sbt_id                    218895 non-null  int64  \n",
      " 7   age_itg_cd                      218895 non-null  int64  \n",
      " 8   cont_sttus_itg_cd               218895 non-null  object \n",
      " 9   new_date                        218895 non-null  int64  \n",
      " 10  opn_nfl_chg_date                218895 non-null  int64  \n",
      " 11  cust_dtl_ctg_itg_cd             218895 non-null  object \n",
      " 12  voc_trt_degr_div_itg_cd         218895 non-null  int64  \n",
      " 13  voc_dupl_tmscnt                 218895 non-null  float64\n",
      " 14  voc_trt_need_time_itg_cd        218895 non-null  int64  \n",
      " 15  cont_fns_pam_date               218895 non-null  int64  \n",
      " 16  cust_snsry_base_conf_need_time  218895 non-null  float64\n",
      " 17  trm_yn                          218895 non-null  object \n",
      "dtypes: float64(2), int64(12), object(4)\n",
      "memory usage: 30.1+ MB\n"
     ]
    }
   ],
   "source": [
    "# voc_mis_pbls_yn 컬럼 삭제 되었으며 각 컬럼에 Null 없음 확인\n",
    "df1.info()"
   ]
  },
  {
   "cell_type": "markdown",
   "metadata": {},
   "source": [
    "### 날짜(Date) 관련 컬럼 확인 및 삭제\n",
    "- new_date \n",
    "- opn_nfl_chg_date\n",
    "-  cont_fns_pam_date"
   ]
  },
  {
   "cell_type": "code",
   "execution_count": 54,
   "metadata": {},
   "outputs": [
    {
     "data": {
      "text/plain": [
       "0    20170814\n",
       "1    20170922\n",
       "2    20020805\n",
       "Name: new_date, dtype: int64"
      ]
     },
     "execution_count": 54,
     "metadata": {},
     "output_type": "execute_result"
    }
   ],
   "source": [
    "df1['new_date'][:3]"
   ]
  },
  {
   "cell_type": "code",
   "execution_count": 55,
   "metadata": {},
   "outputs": [],
   "source": [
    "df1.drop(columns=['new_date', 'opn_nfl_chg_date', 'cont_fns_pam_date'], inplace=True)"
   ]
  },
  {
   "cell_type": "code",
   "execution_count": 56,
   "metadata": {},
   "outputs": [
    {
     "name": "stdout",
     "output_type": "stream",
     "text": [
      "<class 'pandas.core.frame.DataFrame'>\n",
      "RangeIndex: 218895 entries, 0 to 218894\n",
      "Data columns (total 15 columns):\n",
      " #   Column                          Non-Null Count   Dtype  \n",
      "---  ------                          --------------   -----  \n",
      " 0   voc_prod_sbt_id                 218895 non-null  int64  \n",
      " 1   voc_wjt_sorc_id                 218895 non-null  int64  \n",
      " 2   voc_type_itg_cd                 218895 non-null  int64  \n",
      " 3   voc_sttus_itg_cd                218895 non-null  int64  \n",
      " 4   cust_pty_sbt_id                 218895 non-null  int64  \n",
      " 5   cust_clas_itg_cd                218895 non-null  object \n",
      " 6   bprod_sbt_id                    218895 non-null  int64  \n",
      " 7   age_itg_cd                      218895 non-null  int64  \n",
      " 8   cont_sttus_itg_cd               218895 non-null  object \n",
      " 9   cust_dtl_ctg_itg_cd             218895 non-null  object \n",
      " 10  voc_trt_degr_div_itg_cd         218895 non-null  int64  \n",
      " 11  voc_dupl_tmscnt                 218895 non-null  float64\n",
      " 12  voc_trt_need_time_itg_cd        218895 non-null  int64  \n",
      " 13  cust_snsry_base_conf_need_time  218895 non-null  float64\n",
      " 14  trm_yn                          218895 non-null  object \n",
      "dtypes: float64(2), int64(9), object(4)\n",
      "memory usage: 25.1+ MB\n"
     ]
    }
   ],
   "source": [
    "# 날짜 컬럼 삭제 확인\n",
    "df1.info()"
   ]
  },
  {
   "cell_type": "markdown",
   "metadata": {},
   "source": [
    "#  \n",
    "# 5. 인코더(Encoder)"
   ]
  },
  {
   "cell_type": "markdown",
   "metadata": {},
   "source": [
    "### LabelEncoder"
   ]
  },
  {
   "cell_type": "code",
   "execution_count": 57,
   "metadata": {},
   "outputs": [],
   "source": [
    "# 컬럼 타입 Ojbect 선택\n",
    "cat_cols = df1.select_dtypes(include='object')"
   ]
  },
  {
   "cell_type": "code",
   "execution_count": 58,
   "metadata": {},
   "outputs": [
    {
     "data": {
      "text/html": [
       "<div>\n",
       "<style scoped>\n",
       "    .dataframe tbody tr th:only-of-type {\n",
       "        vertical-align: middle;\n",
       "    }\n",
       "\n",
       "    .dataframe tbody tr th {\n",
       "        vertical-align: top;\n",
       "    }\n",
       "\n",
       "    .dataframe thead th {\n",
       "        text-align: right;\n",
       "    }\n",
       "</style>\n",
       "<table border=\"1\" class=\"dataframe\">\n",
       "  <thead>\n",
       "    <tr style=\"text-align: right;\">\n",
       "      <th></th>\n",
       "      <th>cust_clas_itg_cd</th>\n",
       "      <th>cont_sttus_itg_cd</th>\n",
       "      <th>cust_dtl_ctg_itg_cd</th>\n",
       "      <th>trm_yn</th>\n",
       "    </tr>\n",
       "  </thead>\n",
       "  <tbody>\n",
       "    <tr>\n",
       "      <th>0</th>\n",
       "      <td>O</td>\n",
       "      <td>10003</td>\n",
       "      <td>10003</td>\n",
       "      <td>N</td>\n",
       "    </tr>\n",
       "    <tr>\n",
       "      <th>1</th>\n",
       "      <td>J</td>\n",
       "      <td>10001</td>\n",
       "      <td>10002</td>\n",
       "      <td>N</td>\n",
       "    </tr>\n",
       "    <tr>\n",
       "      <th>2</th>\n",
       "      <td>I</td>\n",
       "      <td>10001</td>\n",
       "      <td>90029</td>\n",
       "      <td>N</td>\n",
       "    </tr>\n",
       "    <tr>\n",
       "      <th>3</th>\n",
       "      <td>G</td>\n",
       "      <td>10005</td>\n",
       "      <td>10003</td>\n",
       "      <td>N</td>\n",
       "    </tr>\n",
       "    <tr>\n",
       "      <th>4</th>\n",
       "      <td>F</td>\n",
       "      <td>10005</td>\n",
       "      <td>10002</td>\n",
       "      <td>N</td>\n",
       "    </tr>\n",
       "  </tbody>\n",
       "</table>\n",
       "</div>"
      ],
      "text/plain": [
       "  cust_clas_itg_cd cont_sttus_itg_cd cust_dtl_ctg_itg_cd trm_yn\n",
       "0                O             10003               10003      N\n",
       "1                J             10001               10002      N\n",
       "2                I             10001               90029      N\n",
       "3                G             10005               10003      N\n",
       "4                F             10005               10002      N"
      ]
     },
     "execution_count": 58,
     "metadata": {},
     "output_type": "execute_result"
    }
   ],
   "source": [
    "cat_cols.head()"
   ]
  },
  {
   "cell_type": "code",
   "execution_count": 59,
   "metadata": {},
   "outputs": [],
   "source": [
    "from sklearn.preprocessing import LabelEncoder"
   ]
  },
  {
   "cell_type": "code",
   "execution_count": 60,
   "metadata": {},
   "outputs": [],
   "source": [
    "# cust_clas_itg_cd 컬럼에 대해 LabelEncoder \n",
    "le = LabelEncoder()\n",
    "cat_cols['le_cust_clas_itg_cd'] = le.fit_transform(cat_cols['cust_clas_itg_cd'])"
   ]
  },
  {
   "cell_type": "code",
   "execution_count": 61,
   "metadata": {},
   "outputs": [
    {
     "data": {
      "text/html": [
       "<div>\n",
       "<style scoped>\n",
       "    .dataframe tbody tr th:only-of-type {\n",
       "        vertical-align: middle;\n",
       "    }\n",
       "\n",
       "    .dataframe tbody tr th {\n",
       "        vertical-align: top;\n",
       "    }\n",
       "\n",
       "    .dataframe thead th {\n",
       "        text-align: right;\n",
       "    }\n",
       "</style>\n",
       "<table border=\"1\" class=\"dataframe\">\n",
       "  <thead>\n",
       "    <tr style=\"text-align: right;\">\n",
       "      <th></th>\n",
       "      <th>cust_clas_itg_cd</th>\n",
       "      <th>cont_sttus_itg_cd</th>\n",
       "      <th>cust_dtl_ctg_itg_cd</th>\n",
       "      <th>trm_yn</th>\n",
       "      <th>le_cust_clas_itg_cd</th>\n",
       "    </tr>\n",
       "  </thead>\n",
       "  <tbody>\n",
       "    <tr>\n",
       "      <th>0</th>\n",
       "      <td>O</td>\n",
       "      <td>10003</td>\n",
       "      <td>10003</td>\n",
       "      <td>N</td>\n",
       "      <td>7</td>\n",
       "    </tr>\n",
       "    <tr>\n",
       "      <th>1</th>\n",
       "      <td>J</td>\n",
       "      <td>10001</td>\n",
       "      <td>10002</td>\n",
       "      <td>N</td>\n",
       "      <td>4</td>\n",
       "    </tr>\n",
       "    <tr>\n",
       "      <th>2</th>\n",
       "      <td>I</td>\n",
       "      <td>10001</td>\n",
       "      <td>90029</td>\n",
       "      <td>N</td>\n",
       "      <td>3</td>\n",
       "    </tr>\n",
       "    <tr>\n",
       "      <th>3</th>\n",
       "      <td>G</td>\n",
       "      <td>10005</td>\n",
       "      <td>10003</td>\n",
       "      <td>N</td>\n",
       "      <td>1</td>\n",
       "    </tr>\n",
       "    <tr>\n",
       "      <th>4</th>\n",
       "      <td>F</td>\n",
       "      <td>10005</td>\n",
       "      <td>10002</td>\n",
       "      <td>N</td>\n",
       "      <td>0</td>\n",
       "    </tr>\n",
       "  </tbody>\n",
       "</table>\n",
       "</div>"
      ],
      "text/plain": [
       "  cust_clas_itg_cd cont_sttus_itg_cd cust_dtl_ctg_itg_cd trm_yn  \\\n",
       "0                O             10003               10003      N   \n",
       "1                J             10001               10002      N   \n",
       "2                I             10001               90029      N   \n",
       "3                G             10005               10003      N   \n",
       "4                F             10005               10002      N   \n",
       "\n",
       "   le_cust_clas_itg_cd  \n",
       "0                    7  \n",
       "1                    4  \n",
       "2                    3  \n",
       "3                    1  \n",
       "4                    0  "
      ]
     },
     "execution_count": 61,
     "metadata": {},
     "output_type": "execute_result"
    }
   ],
   "source": [
    "cat_cols.head()"
   ]
  },
  {
   "cell_type": "code",
   "execution_count": 62,
   "metadata": {},
   "outputs": [
    {
     "data": {
      "text/plain": [
       "array(['F', 'G', 'H', 'I', 'J', 'L', 'M', 'O', 'R', 'V'], dtype=object)"
      ]
     },
     "execution_count": 62,
     "metadata": {},
     "output_type": "execute_result"
    }
   ],
   "source": [
    "le.classes_"
   ]
  },
  {
   "cell_type": "markdown",
   "metadata": {},
   "source": [
    "### OneHotEncoder : pd.get_dummies 활용"
   ]
  },
  {
   "cell_type": "code",
   "execution_count": 63,
   "metadata": {},
   "outputs": [
    {
     "data": {
      "text/html": [
       "<div>\n",
       "<style scoped>\n",
       "    .dataframe tbody tr th:only-of-type {\n",
       "        vertical-align: middle;\n",
       "    }\n",
       "\n",
       "    .dataframe tbody tr th {\n",
       "        vertical-align: top;\n",
       "    }\n",
       "\n",
       "    .dataframe thead th {\n",
       "        text-align: right;\n",
       "    }\n",
       "</style>\n",
       "<table border=\"1\" class=\"dataframe\">\n",
       "  <thead>\n",
       "    <tr style=\"text-align: right;\">\n",
       "      <th></th>\n",
       "      <th>cust_clas_itg_cd</th>\n",
       "    </tr>\n",
       "  </thead>\n",
       "  <tbody>\n",
       "    <tr>\n",
       "      <th>0</th>\n",
       "      <td>O</td>\n",
       "    </tr>\n",
       "    <tr>\n",
       "      <th>1</th>\n",
       "      <td>J</td>\n",
       "    </tr>\n",
       "    <tr>\n",
       "      <th>2</th>\n",
       "      <td>I</td>\n",
       "    </tr>\n",
       "    <tr>\n",
       "      <th>3</th>\n",
       "      <td>G</td>\n",
       "    </tr>\n",
       "    <tr>\n",
       "      <th>4</th>\n",
       "      <td>F</td>\n",
       "    </tr>\n",
       "  </tbody>\n",
       "</table>\n",
       "</div>"
      ],
      "text/plain": [
       "  cust_clas_itg_cd\n",
       "0                O\n",
       "1                J\n",
       "2                I\n",
       "3                G\n",
       "4                F"
      ]
     },
     "execution_count": 63,
     "metadata": {},
     "output_type": "execute_result"
    }
   ],
   "source": [
    "cat_cols[['cust_clas_itg_cd']].head()"
   ]
  },
  {
   "cell_type": "code",
   "execution_count": 64,
   "metadata": {},
   "outputs": [
    {
     "data": {
      "text/html": [
       "<div>\n",
       "<style scoped>\n",
       "    .dataframe tbody tr th:only-of-type {\n",
       "        vertical-align: middle;\n",
       "    }\n",
       "\n",
       "    .dataframe tbody tr th {\n",
       "        vertical-align: top;\n",
       "    }\n",
       "\n",
       "    .dataframe thead th {\n",
       "        text-align: right;\n",
       "    }\n",
       "</style>\n",
       "<table border=\"1\" class=\"dataframe\">\n",
       "  <thead>\n",
       "    <tr style=\"text-align: right;\">\n",
       "      <th></th>\n",
       "      <th>F</th>\n",
       "      <th>G</th>\n",
       "      <th>H</th>\n",
       "      <th>I</th>\n",
       "      <th>J</th>\n",
       "      <th>L</th>\n",
       "      <th>M</th>\n",
       "      <th>O</th>\n",
       "      <th>R</th>\n",
       "      <th>V</th>\n",
       "    </tr>\n",
       "  </thead>\n",
       "  <tbody>\n",
       "    <tr>\n",
       "      <th>0</th>\n",
       "      <td>0</td>\n",
       "      <td>0</td>\n",
       "      <td>0</td>\n",
       "      <td>0</td>\n",
       "      <td>0</td>\n",
       "      <td>0</td>\n",
       "      <td>0</td>\n",
       "      <td>1</td>\n",
       "      <td>0</td>\n",
       "      <td>0</td>\n",
       "    </tr>\n",
       "    <tr>\n",
       "      <th>1</th>\n",
       "      <td>0</td>\n",
       "      <td>0</td>\n",
       "      <td>0</td>\n",
       "      <td>0</td>\n",
       "      <td>1</td>\n",
       "      <td>0</td>\n",
       "      <td>0</td>\n",
       "      <td>0</td>\n",
       "      <td>0</td>\n",
       "      <td>0</td>\n",
       "    </tr>\n",
       "    <tr>\n",
       "      <th>2</th>\n",
       "      <td>0</td>\n",
       "      <td>0</td>\n",
       "      <td>0</td>\n",
       "      <td>1</td>\n",
       "      <td>0</td>\n",
       "      <td>0</td>\n",
       "      <td>0</td>\n",
       "      <td>0</td>\n",
       "      <td>0</td>\n",
       "      <td>0</td>\n",
       "    </tr>\n",
       "    <tr>\n",
       "      <th>3</th>\n",
       "      <td>0</td>\n",
       "      <td>1</td>\n",
       "      <td>0</td>\n",
       "      <td>0</td>\n",
       "      <td>0</td>\n",
       "      <td>0</td>\n",
       "      <td>0</td>\n",
       "      <td>0</td>\n",
       "      <td>0</td>\n",
       "      <td>0</td>\n",
       "    </tr>\n",
       "    <tr>\n",
       "      <th>4</th>\n",
       "      <td>1</td>\n",
       "      <td>0</td>\n",
       "      <td>0</td>\n",
       "      <td>0</td>\n",
       "      <td>0</td>\n",
       "      <td>0</td>\n",
       "      <td>0</td>\n",
       "      <td>0</td>\n",
       "      <td>0</td>\n",
       "      <td>0</td>\n",
       "    </tr>\n",
       "  </tbody>\n",
       "</table>\n",
       "</div>"
      ],
      "text/plain": [
       "   F  G  H  I  J  L  M  O  R  V\n",
       "0  0  0  0  0  0  0  0  1  0  0\n",
       "1  0  0  0  0  1  0  0  0  0  0\n",
       "2  0  0  0  1  0  0  0  0  0  0\n",
       "3  0  1  0  0  0  0  0  0  0  0\n",
       "4  1  0  0  0  0  0  0  0  0  0"
      ]
     },
     "execution_count": 64,
     "metadata": {},
     "output_type": "execute_result"
    }
   ],
   "source": [
    "# cust_clas_itg_cd 컬럼에 대해 OneHotEncoder\n",
    "pd.get_dummies(cat_cols['cust_clas_itg_cd']).head()"
   ]
  },
  {
   "cell_type": "code",
   "execution_count": 65,
   "metadata": {},
   "outputs": [],
   "source": [
    "# 범주형 컬럼 정의\n",
    "cat_columns = ['cust_clas_itg_cd', 'cont_sttus_itg_cd', 'cust_dtl_ctg_itg_cd', 'trm_yn']"
   ]
  },
  {
   "cell_type": "markdown",
   "metadata": {},
   "source": [
    "<br>\n",
    "<font color=blue>[문제] 범주형 컬럼(cat_columns)에 대해서 Ine-Hot-Encoding될수 있도록 Pandas의 get_dummies 함수 적용하세요</font>"
   ]
  },
  {
   "cell_type": "code",
   "execution_count": 66,
   "metadata": {},
   "outputs": [],
   "source": [
    "# Pandas의 get_dummies 함수 사용\n",
    "# 사용옵션 \n",
    "# - data=df1\n",
    "# - columns=cat_columns\n",
    "# - drop_first=True\n",
    "# 'df1' DataFrame에 적용 결과 저장\n",
    "\n",
    "\n",
    "\n",
    "\n",
    "df1 = pd.get_dummies(data=df1, columns=cat_columns, drop_first=True)"
   ]
  },
  {
   "cell_type": "code",
   "execution_count": 67,
   "metadata": {},
   "outputs": [
    {
     "name": "stdout",
     "output_type": "stream",
     "text": [
      "<class 'pandas.core.frame.DataFrame'>\n",
      "RangeIndex: 218895 entries, 0 to 218894\n",
      "Data columns (total 39 columns):\n",
      " #   Column                          Non-Null Count   Dtype  \n",
      "---  ------                          --------------   -----  \n",
      " 0   voc_prod_sbt_id                 218895 non-null  int64  \n",
      " 1   voc_wjt_sorc_id                 218895 non-null  int64  \n",
      " 2   voc_type_itg_cd                 218895 non-null  int64  \n",
      " 3   voc_sttus_itg_cd                218895 non-null  int64  \n",
      " 4   cust_pty_sbt_id                 218895 non-null  int64  \n",
      " 5   bprod_sbt_id                    218895 non-null  int64  \n",
      " 6   age_itg_cd                      218895 non-null  int64  \n",
      " 7   voc_trt_degr_div_itg_cd         218895 non-null  int64  \n",
      " 8   voc_dupl_tmscnt                 218895 non-null  float64\n",
      " 9   voc_trt_need_time_itg_cd        218895 non-null  int64  \n",
      " 10  cust_snsry_base_conf_need_time  218895 non-null  float64\n",
      " 11  cust_clas_itg_cd_G              218895 non-null  uint8  \n",
      " 12  cust_clas_itg_cd_H              218895 non-null  uint8  \n",
      " 13  cust_clas_itg_cd_I              218895 non-null  uint8  \n",
      " 14  cust_clas_itg_cd_J              218895 non-null  uint8  \n",
      " 15  cust_clas_itg_cd_L              218895 non-null  uint8  \n",
      " 16  cust_clas_itg_cd_M              218895 non-null  uint8  \n",
      " 17  cust_clas_itg_cd_O              218895 non-null  uint8  \n",
      " 18  cust_clas_itg_cd_R              218895 non-null  uint8  \n",
      " 19  cust_clas_itg_cd_V              218895 non-null  uint8  \n",
      " 20  cont_sttus_itg_cd_10002         218895 non-null  uint8  \n",
      " 21  cont_sttus_itg_cd_10003         218895 non-null  uint8  \n",
      " 22  cont_sttus_itg_cd_10004         218895 non-null  uint8  \n",
      " 23  cont_sttus_itg_cd_10005         218895 non-null  uint8  \n",
      " 24  cont_sttus_itg_cd_10006         218895 non-null  uint8  \n",
      " 25  cont_sttus_itg_cd_10007         218895 non-null  uint8  \n",
      " 26  cust_dtl_ctg_itg_cd_10002       218895 non-null  uint8  \n",
      " 27  cust_dtl_ctg_itg_cd_10003       218895 non-null  uint8  \n",
      " 28  cust_dtl_ctg_itg_cd_10004       218895 non-null  uint8  \n",
      " 29  cust_dtl_ctg_itg_cd_10011       218895 non-null  uint8  \n",
      " 30  cust_dtl_ctg_itg_cd_10013       218895 non-null  uint8  \n",
      " 31  cust_dtl_ctg_itg_cd_10018       218895 non-null  uint8  \n",
      " 32  cust_dtl_ctg_itg_cd_10019       218895 non-null  uint8  \n",
      " 33  cust_dtl_ctg_itg_cd_90024       218895 non-null  uint8  \n",
      " 34  cust_dtl_ctg_itg_cd_90027       218895 non-null  uint8  \n",
      " 35  cust_dtl_ctg_itg_cd_90029       218895 non-null  uint8  \n",
      " 36  cust_dtl_ctg_itg_cd_90030       218895 non-null  uint8  \n",
      " 37  cust_dtl_ctg_itg_cd_90056       218895 non-null  uint8  \n",
      " 38  trm_yn_Y                        218895 non-null  uint8  \n",
      "dtypes: float64(2), int64(9), uint8(28)\n",
      "memory usage: 24.2 MB\n"
     ]
    }
   ],
   "source": [
    "# 범주형 컬럼에 대해 One-Hot-Encoding 된 컬럼 확인\n",
    "df1.info()"
   ]
  },
  {
   "cell_type": "markdown",
   "metadata": {},
   "source": [
    "# \n",
    "# 6. Train, Test 데이터셋 분할하기"
   ]
  },
  {
   "cell_type": "code",
   "execution_count": 68,
   "metadata": {},
   "outputs": [
    {
     "data": {
      "text/html": [
       "<div>\n",
       "<style scoped>\n",
       "    .dataframe tbody tr th:only-of-type {\n",
       "        vertical-align: middle;\n",
       "    }\n",
       "\n",
       "    .dataframe tbody tr th {\n",
       "        vertical-align: top;\n",
       "    }\n",
       "\n",
       "    .dataframe thead th {\n",
       "        text-align: right;\n",
       "    }\n",
       "</style>\n",
       "<table border=\"1\" class=\"dataframe\">\n",
       "  <thead>\n",
       "    <tr style=\"text-align: right;\">\n",
       "      <th></th>\n",
       "      <th>voc_prod_sbt_id</th>\n",
       "      <th>voc_wjt_sorc_id</th>\n",
       "      <th>voc_type_itg_cd</th>\n",
       "      <th>voc_sttus_itg_cd</th>\n",
       "      <th>cust_pty_sbt_id</th>\n",
       "      <th>bprod_sbt_id</th>\n",
       "      <th>age_itg_cd</th>\n",
       "      <th>voc_trt_degr_div_itg_cd</th>\n",
       "      <th>voc_dupl_tmscnt</th>\n",
       "      <th>voc_trt_need_time_itg_cd</th>\n",
       "      <th>...</th>\n",
       "      <th>cust_dtl_ctg_itg_cd_10011</th>\n",
       "      <th>cust_dtl_ctg_itg_cd_10013</th>\n",
       "      <th>cust_dtl_ctg_itg_cd_10018</th>\n",
       "      <th>cust_dtl_ctg_itg_cd_10019</th>\n",
       "      <th>cust_dtl_ctg_itg_cd_90024</th>\n",
       "      <th>cust_dtl_ctg_itg_cd_90027</th>\n",
       "      <th>cust_dtl_ctg_itg_cd_90029</th>\n",
       "      <th>cust_dtl_ctg_itg_cd_90030</th>\n",
       "      <th>cust_dtl_ctg_itg_cd_90056</th>\n",
       "      <th>trm_yn_Y</th>\n",
       "    </tr>\n",
       "  </thead>\n",
       "  <tbody>\n",
       "    <tr>\n",
       "      <th>0</th>\n",
       "      <td>1001061191</td>\n",
       "      <td>2056</td>\n",
       "      <td>10009</td>\n",
       "      <td>10002</td>\n",
       "      <td>1370499225</td>\n",
       "      <td>1001060911</td>\n",
       "      <td>21</td>\n",
       "      <td>20001</td>\n",
       "      <td>0.0</td>\n",
       "      <td>10001</td>\n",
       "      <td>...</td>\n",
       "      <td>0</td>\n",
       "      <td>0</td>\n",
       "      <td>0</td>\n",
       "      <td>0</td>\n",
       "      <td>0</td>\n",
       "      <td>0</td>\n",
       "      <td>0</td>\n",
       "      <td>0</td>\n",
       "      <td>0</td>\n",
       "      <td>0</td>\n",
       "    </tr>\n",
       "    <tr>\n",
       "      <th>1</th>\n",
       "      <td>1000823687</td>\n",
       "      <td>1578</td>\n",
       "      <td>10003</td>\n",
       "      <td>10002</td>\n",
       "      <td>1314659377</td>\n",
       "      <td>1000851875</td>\n",
       "      <td>54</td>\n",
       "      <td>20001</td>\n",
       "      <td>0.0</td>\n",
       "      <td>10008</td>\n",
       "      <td>...</td>\n",
       "      <td>0</td>\n",
       "      <td>0</td>\n",
       "      <td>0</td>\n",
       "      <td>0</td>\n",
       "      <td>0</td>\n",
       "      <td>0</td>\n",
       "      <td>0</td>\n",
       "      <td>0</td>\n",
       "      <td>0</td>\n",
       "      <td>0</td>\n",
       "    </tr>\n",
       "    <tr>\n",
       "      <th>2</th>\n",
       "      <td>1001027747</td>\n",
       "      <td>184</td>\n",
       "      <td>10007</td>\n",
       "      <td>10002</td>\n",
       "      <td>1272140800</td>\n",
       "      <td>1000737200</td>\n",
       "      <td>54</td>\n",
       "      <td>20002</td>\n",
       "      <td>0.0</td>\n",
       "      <td>10037</td>\n",
       "      <td>...</td>\n",
       "      <td>0</td>\n",
       "      <td>0</td>\n",
       "      <td>0</td>\n",
       "      <td>0</td>\n",
       "      <td>0</td>\n",
       "      <td>0</td>\n",
       "      <td>1</td>\n",
       "      <td>0</td>\n",
       "      <td>0</td>\n",
       "      <td>0</td>\n",
       "    </tr>\n",
       "    <tr>\n",
       "      <th>3</th>\n",
       "      <td>1000665328</td>\n",
       "      <td>3321</td>\n",
       "      <td>10009</td>\n",
       "      <td>10002</td>\n",
       "      <td>1310661162</td>\n",
       "      <td>1000001126</td>\n",
       "      <td>49</td>\n",
       "      <td>20001</td>\n",
       "      <td>0.0</td>\n",
       "      <td>10001</td>\n",
       "      <td>...</td>\n",
       "      <td>0</td>\n",
       "      <td>0</td>\n",
       "      <td>0</td>\n",
       "      <td>0</td>\n",
       "      <td>0</td>\n",
       "      <td>0</td>\n",
       "      <td>0</td>\n",
       "      <td>0</td>\n",
       "      <td>0</td>\n",
       "      <td>0</td>\n",
       "    </tr>\n",
       "    <tr>\n",
       "      <th>4</th>\n",
       "      <td>1001027747</td>\n",
       "      <td>289</td>\n",
       "      <td>10009</td>\n",
       "      <td>10002</td>\n",
       "      <td>1305280435</td>\n",
       "      <td>1000737200</td>\n",
       "      <td>48</td>\n",
       "      <td>20001</td>\n",
       "      <td>0.0</td>\n",
       "      <td>10001</td>\n",
       "      <td>...</td>\n",
       "      <td>0</td>\n",
       "      <td>0</td>\n",
       "      <td>0</td>\n",
       "      <td>0</td>\n",
       "      <td>0</td>\n",
       "      <td>0</td>\n",
       "      <td>0</td>\n",
       "      <td>0</td>\n",
       "      <td>0</td>\n",
       "      <td>0</td>\n",
       "    </tr>\n",
       "  </tbody>\n",
       "</table>\n",
       "<p>5 rows × 39 columns</p>\n",
       "</div>"
      ],
      "text/plain": [
       "   voc_prod_sbt_id  voc_wjt_sorc_id  voc_type_itg_cd  voc_sttus_itg_cd  \\\n",
       "0       1001061191             2056            10009             10002   \n",
       "1       1000823687             1578            10003             10002   \n",
       "2       1001027747              184            10007             10002   \n",
       "3       1000665328             3321            10009             10002   \n",
       "4       1001027747              289            10009             10002   \n",
       "\n",
       "   cust_pty_sbt_id  bprod_sbt_id  age_itg_cd  voc_trt_degr_div_itg_cd  \\\n",
       "0       1370499225    1001060911          21                    20001   \n",
       "1       1314659377    1000851875          54                    20001   \n",
       "2       1272140800    1000737200          54                    20002   \n",
       "3       1310661162    1000001126          49                    20001   \n",
       "4       1305280435    1000737200          48                    20001   \n",
       "\n",
       "   voc_dupl_tmscnt  voc_trt_need_time_itg_cd  ...  cust_dtl_ctg_itg_cd_10011  \\\n",
       "0              0.0                     10001  ...                          0   \n",
       "1              0.0                     10008  ...                          0   \n",
       "2              0.0                     10037  ...                          0   \n",
       "3              0.0                     10001  ...                          0   \n",
       "4              0.0                     10001  ...                          0   \n",
       "\n",
       "   cust_dtl_ctg_itg_cd_10013  cust_dtl_ctg_itg_cd_10018  \\\n",
       "0                          0                          0   \n",
       "1                          0                          0   \n",
       "2                          0                          0   \n",
       "3                          0                          0   \n",
       "4                          0                          0   \n",
       "\n",
       "   cust_dtl_ctg_itg_cd_10019  cust_dtl_ctg_itg_cd_90024  \\\n",
       "0                          0                          0   \n",
       "1                          0                          0   \n",
       "2                          0                          0   \n",
       "3                          0                          0   \n",
       "4                          0                          0   \n",
       "\n",
       "   cust_dtl_ctg_itg_cd_90027  cust_dtl_ctg_itg_cd_90029  \\\n",
       "0                          0                          0   \n",
       "1                          0                          0   \n",
       "2                          0                          1   \n",
       "3                          0                          0   \n",
       "4                          0                          0   \n",
       "\n",
       "   cust_dtl_ctg_itg_cd_90030  cust_dtl_ctg_itg_cd_90056  trm_yn_Y  \n",
       "0                          0                          0         0  \n",
       "1                          0                          0         0  \n",
       "2                          0                          0         0  \n",
       "3                          0                          0         0  \n",
       "4                          0                          0         0  \n",
       "\n",
       "[5 rows x 39 columns]"
      ]
     },
     "execution_count": 68,
     "metadata": {},
     "output_type": "execute_result"
    }
   ],
   "source": [
    "df1.head()"
   ]
  },
  {
   "cell_type": "markdown",
   "metadata": {},
   "source": [
    "### 입력데이터(X)와 레이블(y) 선택"
   ]
  },
  {
   "cell_type": "markdown",
   "metadata": {},
   "source": [
    "<br>\n",
    "<font color=blue>[문제] 'trm_yn_Y' 컬럼을 제외한 나머지 컬럼을 X로 만들어라</font>"
   ]
  },
  {
   "cell_type": "code",
   "execution_count": 69,
   "metadata": {},
   "outputs": [],
   "source": [
    "# 'df1' DataFrame의 drop 함수 사용\n",
    "# - 옵션 : columns=['trm_yn_Y'] \n",
    "# - DataFrame 값을 저장하기위해 values 사용\n",
    "# 결과를 'X' 저장\n",
    "\n",
    "\n",
    "\n",
    "X = df1.drop(columns=['trm_yn_Y']).values"
   ]
  },
  {
   "cell_type": "code",
   "execution_count": 70,
   "metadata": {},
   "outputs": [
    {
     "data": {
      "text/plain": [
       "(218895, 38)"
      ]
     },
     "execution_count": 70,
     "metadata": {},
     "output_type": "execute_result"
    }
   ],
   "source": [
    "X.shape"
   ]
  },
  {
   "cell_type": "code",
   "execution_count": 71,
   "metadata": {},
   "outputs": [],
   "source": [
    "y = df1['trm_yn_Y'].values"
   ]
  },
  {
   "cell_type": "code",
   "execution_count": 72,
   "metadata": {},
   "outputs": [
    {
     "data": {
      "text/plain": [
       "(218895,)"
      ]
     },
     "execution_count": 72,
     "metadata": {},
     "output_type": "execute_result"
    }
   ],
   "source": [
    "y.shape"
   ]
  },
  {
   "cell_type": "code",
   "execution_count": 73,
   "metadata": {},
   "outputs": [],
   "source": [
    "from sklearn.model_selection import train_test_split"
   ]
  },
  {
   "cell_type": "markdown",
   "metadata": {},
   "source": [
    "<br>\n",
    "<font color=blue>[문제] X, y 값을 가지고 8:2 비율로 Train , Test Dataset으로 나누어라.(y 클래스 비율에 맞게 분리 될수 있도록 하자)</font>"
   ]
  },
  {
   "cell_type": "code",
   "execution_count": 74,
   "metadata": {},
   "outputs": [],
   "source": [
    "# 사이킷런 train_test_split 함수 사용\n",
    "# - 인자 : X, y, test_size=0.2, stratify=y, random_state=0\n",
    "# 결과 : X_train, X_test, y_train, y_test \n",
    "\n",
    "\n",
    "\n",
    "\n",
    "X_train, X_test, y_train, y_test = train_test_split(X, y, test_size=0.2, stratify=y, random_state=0)"
   ]
  },
  {
   "cell_type": "code",
   "execution_count": 75,
   "metadata": {},
   "outputs": [
    {
     "data": {
      "text/plain": [
       "(175116, 38)"
      ]
     },
     "execution_count": 75,
     "metadata": {},
     "output_type": "execute_result"
    }
   ],
   "source": [
    "X_train.shape"
   ]
  },
  {
   "cell_type": "code",
   "execution_count": 76,
   "metadata": {},
   "outputs": [
    {
     "data": {
      "text/plain": [
       "(43779, 38)"
      ]
     },
     "execution_count": 76,
     "metadata": {},
     "output_type": "execute_result"
    }
   ],
   "source": [
    "X_test.shape"
   ]
  },
  {
   "cell_type": "code",
   "execution_count": 77,
   "metadata": {},
   "outputs": [
    {
     "data": {
      "text/plain": [
       "array([[1.00102847e+09, 3.33400000e+03, 1.00090000e+04, 1.00020000e+04,\n",
       "        1.31767893e+09, 1.00085164e+09, 4.50000000e+01, 2.00010000e+04,\n",
       "        0.00000000e+00, 1.00010000e+04, 0.00000000e+00, 0.00000000e+00,\n",
       "        0.00000000e+00, 0.00000000e+00, 0.00000000e+00, 0.00000000e+00,\n",
       "        0.00000000e+00, 1.00000000e+00, 0.00000000e+00, 0.00000000e+00,\n",
       "        0.00000000e+00, 0.00000000e+00, 0.00000000e+00, 0.00000000e+00,\n",
       "        0.00000000e+00, 0.00000000e+00, 1.00000000e+00, 0.00000000e+00,\n",
       "        0.00000000e+00, 0.00000000e+00, 0.00000000e+00, 0.00000000e+00,\n",
       "        0.00000000e+00, 0.00000000e+00, 0.00000000e+00, 0.00000000e+00,\n",
       "        0.00000000e+00, 0.00000000e+00]])"
      ]
     },
     "execution_count": 77,
     "metadata": {},
     "output_type": "execute_result"
    }
   ],
   "source": [
    "X_train[:1]"
   ]
  },
  {
   "cell_type": "code",
   "execution_count": 78,
   "metadata": {},
   "outputs": [
    {
     "data": {
      "text/plain": [
       "array([0], dtype=uint8)"
      ]
     },
     "execution_count": 78,
     "metadata": {},
     "output_type": "execute_result"
    }
   ],
   "source": [
    "y_train[:1]"
   ]
  },
  {
   "cell_type": "markdown",
   "metadata": {},
   "source": [
    "#   \n",
    "# 7. 정규화"
   ]
  },
  {
   "cell_type": "code",
   "execution_count": 79,
   "metadata": {},
   "outputs": [],
   "source": [
    "from sklearn.preprocessing import MinMaxScaler\n",
    "from sklearn.preprocessing import StandardScaler"
   ]
  },
  {
   "cell_type": "code",
   "execution_count": 80,
   "metadata": {},
   "outputs": [
    {
     "data": {
      "text/html": [
       "<div>\n",
       "<style scoped>\n",
       "    .dataframe tbody tr th:only-of-type {\n",
       "        vertical-align: middle;\n",
       "    }\n",
       "\n",
       "    .dataframe tbody tr th {\n",
       "        vertical-align: top;\n",
       "    }\n",
       "\n",
       "    .dataframe thead th {\n",
       "        text-align: right;\n",
       "    }\n",
       "</style>\n",
       "<table border=\"1\" class=\"dataframe\">\n",
       "  <thead>\n",
       "    <tr style=\"text-align: right;\">\n",
       "      <th></th>\n",
       "      <th>voc_prod_sbt_id</th>\n",
       "    </tr>\n",
       "  </thead>\n",
       "  <tbody>\n",
       "    <tr>\n",
       "      <th>0</th>\n",
       "      <td>1001061191</td>\n",
       "    </tr>\n",
       "    <tr>\n",
       "      <th>1</th>\n",
       "      <td>1000823687</td>\n",
       "    </tr>\n",
       "    <tr>\n",
       "      <th>2</th>\n",
       "      <td>1001027747</td>\n",
       "    </tr>\n",
       "    <tr>\n",
       "      <th>3</th>\n",
       "      <td>1000665328</td>\n",
       "    </tr>\n",
       "    <tr>\n",
       "      <th>4</th>\n",
       "      <td>1001027747</td>\n",
       "    </tr>\n",
       "  </tbody>\n",
       "</table>\n",
       "</div>"
      ],
      "text/plain": [
       "   voc_prod_sbt_id\n",
       "0       1001061191\n",
       "1       1000823687\n",
       "2       1001027747\n",
       "3       1000665328\n",
       "4       1001027747"
      ]
     },
     "execution_count": 80,
     "metadata": {},
     "output_type": "execute_result"
    }
   ],
   "source": [
    "# voc_prod_sbt_id 컬럼 값이 커다란 숫자로 되어 있음 확인\n",
    "df1[['voc_prod_sbt_id']].head()"
   ]
  },
  {
   "cell_type": "markdown",
   "metadata": {},
   "source": [
    "### MinMaxScaling"
   ]
  },
  {
   "cell_type": "markdown",
   "metadata": {},
   "source": [
    "<br>\n",
    "<font color=blue>[문제] 사이킷런의 MinMaxScaler 함수 정의하고 mms 변수에 저장하세요.</font>"
   ]
  },
  {
   "cell_type": "code",
   "execution_count": 81,
   "metadata": {},
   "outputs": [],
   "source": [
    "# 사이킷런의 MinMaxScaler() 함수 사용\n",
    "# 결과 저장 : mms\n",
    "\n",
    "\n",
    "\n",
    "\n",
    "mms = MinMaxScaler()"
   ]
  },
  {
   "cell_type": "code",
   "execution_count": 82,
   "metadata": {},
   "outputs": [],
   "source": [
    "X_train = mms.fit_transform(X_train)\n",
    "X_test = mms.transform(X_test)"
   ]
  },
  {
   "cell_type": "code",
   "execution_count": 83,
   "metadata": {},
   "outputs": [
    {
     "data": {
      "text/html": [
       "<div>\n",
       "<style scoped>\n",
       "    .dataframe tbody tr th:only-of-type {\n",
       "        vertical-align: middle;\n",
       "    }\n",
       "\n",
       "    .dataframe tbody tr th {\n",
       "        vertical-align: top;\n",
       "    }\n",
       "\n",
       "    .dataframe thead th {\n",
       "        text-align: right;\n",
       "    }\n",
       "</style>\n",
       "<table border=\"1\" class=\"dataframe\">\n",
       "  <thead>\n",
       "    <tr style=\"text-align: right;\">\n",
       "      <th></th>\n",
       "      <th>voc_prod_sbt_id</th>\n",
       "    </tr>\n",
       "  </thead>\n",
       "  <tbody>\n",
       "    <tr>\n",
       "      <th>0</th>\n",
       "      <td>0.999949</td>\n",
       "    </tr>\n",
       "    <tr>\n",
       "      <th>1</th>\n",
       "      <td>0.999948</td>\n",
       "    </tr>\n",
       "    <tr>\n",
       "      <th>2</th>\n",
       "      <td>0.999948</td>\n",
       "    </tr>\n",
       "    <tr>\n",
       "      <th>3</th>\n",
       "      <td>0.999948</td>\n",
       "    </tr>\n",
       "    <tr>\n",
       "      <th>4</th>\n",
       "      <td>0.999948</td>\n",
       "    </tr>\n",
       "  </tbody>\n",
       "</table>\n",
       "</div>"
      ],
      "text/plain": [
       "   voc_prod_sbt_id\n",
       "0         0.999949\n",
       "1         0.999948\n",
       "2         0.999948\n",
       "3         0.999948\n",
       "4         0.999948"
      ]
     },
     "execution_count": 83,
     "metadata": {},
     "output_type": "execute_result"
    }
   ],
   "source": [
    "# voc_prod_sbt_id 컬럼의 값이 1보다 작은 숫자인걸 확인\n",
    "pd.DataFrame(X_train[:, 0], columns=['voc_prod_sbt_id']).head()"
   ]
  },
  {
   "cell_type": "markdown",
   "metadata": {},
   "source": [
    "### 데이터 시각화"
   ]
  },
  {
   "cell_type": "markdown",
   "metadata": {},
   "source": [
    "- 데이터 상관관계(correlation) 확인"
   ]
  },
  {
   "cell_type": "markdown",
   "metadata": {},
   "source": [
    "<br>\n",
    "<font color=blue>[문제] Pandas 활용하여 'df1' DataFrame의 데이터 상관관계(correlation) 확인하세요</font>"
   ]
  },
  {
   "cell_type": "code",
   "execution_count": 84,
   "metadata": {
    "scrolled": true
   },
   "outputs": [
    {
     "data": {
      "text/html": [
       "<div>\n",
       "<style scoped>\n",
       "    .dataframe tbody tr th:only-of-type {\n",
       "        vertical-align: middle;\n",
       "    }\n",
       "\n",
       "    .dataframe tbody tr th {\n",
       "        vertical-align: top;\n",
       "    }\n",
       "\n",
       "    .dataframe thead th {\n",
       "        text-align: right;\n",
       "    }\n",
       "</style>\n",
       "<table border=\"1\" class=\"dataframe\">\n",
       "  <thead>\n",
       "    <tr style=\"text-align: right;\">\n",
       "      <th></th>\n",
       "      <th>voc_prod_sbt_id</th>\n",
       "      <th>voc_wjt_sorc_id</th>\n",
       "      <th>voc_type_itg_cd</th>\n",
       "      <th>voc_sttus_itg_cd</th>\n",
       "      <th>cust_pty_sbt_id</th>\n",
       "      <th>bprod_sbt_id</th>\n",
       "      <th>age_itg_cd</th>\n",
       "      <th>voc_trt_degr_div_itg_cd</th>\n",
       "      <th>voc_dupl_tmscnt</th>\n",
       "      <th>voc_trt_need_time_itg_cd</th>\n",
       "      <th>...</th>\n",
       "      <th>cust_dtl_ctg_itg_cd_10011</th>\n",
       "      <th>cust_dtl_ctg_itg_cd_10013</th>\n",
       "      <th>cust_dtl_ctg_itg_cd_10018</th>\n",
       "      <th>cust_dtl_ctg_itg_cd_10019</th>\n",
       "      <th>cust_dtl_ctg_itg_cd_90024</th>\n",
       "      <th>cust_dtl_ctg_itg_cd_90027</th>\n",
       "      <th>cust_dtl_ctg_itg_cd_90029</th>\n",
       "      <th>cust_dtl_ctg_itg_cd_90030</th>\n",
       "      <th>cust_dtl_ctg_itg_cd_90056</th>\n",
       "      <th>trm_yn_Y</th>\n",
       "    </tr>\n",
       "  </thead>\n",
       "  <tbody>\n",
       "    <tr>\n",
       "      <th>voc_prod_sbt_id</th>\n",
       "      <td>1.000000</td>\n",
       "      <td>-0.004744</td>\n",
       "      <td>0.287694</td>\n",
       "      <td>-0.002610</td>\n",
       "      <td>-0.001801</td>\n",
       "      <td>-0.035330</td>\n",
       "      <td>-0.018703</td>\n",
       "      <td>-0.031818</td>\n",
       "      <td>-0.009422</td>\n",
       "      <td>-0.036830</td>\n",
       "      <td>...</td>\n",
       "      <td>-0.020769</td>\n",
       "      <td>0.000807</td>\n",
       "      <td>0.001524</td>\n",
       "      <td>0.005138</td>\n",
       "      <td>-0.015781</td>\n",
       "      <td>-0.009348</td>\n",
       "      <td>-0.042829</td>\n",
       "      <td>0.005387</td>\n",
       "      <td>-0.027045</td>\n",
       "      <td>-0.015519</td>\n",
       "    </tr>\n",
       "    <tr>\n",
       "      <th>voc_wjt_sorc_id</th>\n",
       "      <td>-0.004744</td>\n",
       "      <td>1.000000</td>\n",
       "      <td>0.006591</td>\n",
       "      <td>-0.001799</td>\n",
       "      <td>-0.080261</td>\n",
       "      <td>-0.111116</td>\n",
       "      <td>0.053726</td>\n",
       "      <td>0.013483</td>\n",
       "      <td>0.051888</td>\n",
       "      <td>0.006481</td>\n",
       "      <td>...</td>\n",
       "      <td>0.015878</td>\n",
       "      <td>-0.000442</td>\n",
       "      <td>-0.016429</td>\n",
       "      <td>0.003747</td>\n",
       "      <td>-0.012142</td>\n",
       "      <td>-0.022029</td>\n",
       "      <td>-0.024677</td>\n",
       "      <td>-0.016162</td>\n",
       "      <td>-0.064972</td>\n",
       "      <td>0.070783</td>\n",
       "    </tr>\n",
       "    <tr>\n",
       "      <th>voc_type_itg_cd</th>\n",
       "      <td>0.287694</td>\n",
       "      <td>0.006591</td>\n",
       "      <td>1.000000</td>\n",
       "      <td>-0.060441</td>\n",
       "      <td>0.026023</td>\n",
       "      <td>-0.095614</td>\n",
       "      <td>-0.076323</td>\n",
       "      <td>-0.150199</td>\n",
       "      <td>-0.009501</td>\n",
       "      <td>-0.151521</td>\n",
       "      <td>...</td>\n",
       "      <td>-0.012673</td>\n",
       "      <td>0.006793</td>\n",
       "      <td>0.008219</td>\n",
       "      <td>0.021466</td>\n",
       "      <td>-0.009564</td>\n",
       "      <td>-0.012693</td>\n",
       "      <td>-0.118151</td>\n",
       "      <td>0.013457</td>\n",
       "      <td>-0.047608</td>\n",
       "      <td>0.006737</td>\n",
       "    </tr>\n",
       "    <tr>\n",
       "      <th>voc_sttus_itg_cd</th>\n",
       "      <td>-0.002610</td>\n",
       "      <td>-0.001799</td>\n",
       "      <td>-0.060441</td>\n",
       "      <td>1.000000</td>\n",
       "      <td>-0.000667</td>\n",
       "      <td>-0.000345</td>\n",
       "      <td>-0.000082</td>\n",
       "      <td>0.213868</td>\n",
       "      <td>0.007527</td>\n",
       "      <td>0.734386</td>\n",
       "      <td>...</td>\n",
       "      <td>0.010002</td>\n",
       "      <td>-0.001132</td>\n",
       "      <td>-0.000736</td>\n",
       "      <td>0.005729</td>\n",
       "      <td>0.009115</td>\n",
       "      <td>0.000875</td>\n",
       "      <td>-0.004943</td>\n",
       "      <td>0.005077</td>\n",
       "      <td>-0.010877</td>\n",
       "      <td>-0.000070</td>\n",
       "    </tr>\n",
       "    <tr>\n",
       "      <th>cust_pty_sbt_id</th>\n",
       "      <td>-0.001801</td>\n",
       "      <td>-0.080261</td>\n",
       "      <td>0.026023</td>\n",
       "      <td>-0.000667</td>\n",
       "      <td>1.000000</td>\n",
       "      <td>-0.007884</td>\n",
       "      <td>-0.206444</td>\n",
       "      <td>0.002059</td>\n",
       "      <td>-0.007787</td>\n",
       "      <td>-0.000177</td>\n",
       "      <td>...</td>\n",
       "      <td>-0.025022</td>\n",
       "      <td>-0.003785</td>\n",
       "      <td>0.028297</td>\n",
       "      <td>-0.078548</td>\n",
       "      <td>-0.016158</td>\n",
       "      <td>-0.036077</td>\n",
       "      <td>0.032952</td>\n",
       "      <td>0.016315</td>\n",
       "      <td>0.120901</td>\n",
       "      <td>0.003449</td>\n",
       "    </tr>\n",
       "    <tr>\n",
       "      <th>bprod_sbt_id</th>\n",
       "      <td>-0.035330</td>\n",
       "      <td>-0.111116</td>\n",
       "      <td>-0.095614</td>\n",
       "      <td>-0.000345</td>\n",
       "      <td>-0.007884</td>\n",
       "      <td>1.000000</td>\n",
       "      <td>-0.010612</td>\n",
       "      <td>0.023811</td>\n",
       "      <td>0.029665</td>\n",
       "      <td>0.009761</td>\n",
       "      <td>...</td>\n",
       "      <td>0.017447</td>\n",
       "      <td>0.003024</td>\n",
       "      <td>0.016963</td>\n",
       "      <td>0.073769</td>\n",
       "      <td>0.041237</td>\n",
       "      <td>0.058140</td>\n",
       "      <td>0.126573</td>\n",
       "      <td>0.019895</td>\n",
       "      <td>0.077589</td>\n",
       "      <td>0.058290</td>\n",
       "    </tr>\n",
       "    <tr>\n",
       "      <th>age_itg_cd</th>\n",
       "      <td>-0.018703</td>\n",
       "      <td>0.053726</td>\n",
       "      <td>-0.076323</td>\n",
       "      <td>-0.000082</td>\n",
       "      <td>-0.206444</td>\n",
       "      <td>-0.010612</td>\n",
       "      <td>1.000000</td>\n",
       "      <td>0.000169</td>\n",
       "      <td>0.003604</td>\n",
       "      <td>0.006097</td>\n",
       "      <td>...</td>\n",
       "      <td>0.002737</td>\n",
       "      <td>-0.001920</td>\n",
       "      <td>0.002374</td>\n",
       "      <td>0.038491</td>\n",
       "      <td>-0.017250</td>\n",
       "      <td>-0.016820</td>\n",
       "      <td>0.064860</td>\n",
       "      <td>-0.019616</td>\n",
       "      <td>0.006602</td>\n",
       "      <td>0.006919</td>\n",
       "    </tr>\n",
       "    <tr>\n",
       "      <th>voc_trt_degr_div_itg_cd</th>\n",
       "      <td>-0.031818</td>\n",
       "      <td>0.013483</td>\n",
       "      <td>-0.150199</td>\n",
       "      <td>0.213868</td>\n",
       "      <td>0.002059</td>\n",
       "      <td>0.023811</td>\n",
       "      <td>0.000169</td>\n",
       "      <td>1.000000</td>\n",
       "      <td>0.019652</td>\n",
       "      <td>0.443370</td>\n",
       "      <td>...</td>\n",
       "      <td>-0.008646</td>\n",
       "      <td>0.003716</td>\n",
       "      <td>-0.004725</td>\n",
       "      <td>0.000441</td>\n",
       "      <td>-0.005326</td>\n",
       "      <td>0.003886</td>\n",
       "      <td>0.000150</td>\n",
       "      <td>-0.003595</td>\n",
       "      <td>0.004237</td>\n",
       "      <td>0.097521</td>\n",
       "    </tr>\n",
       "    <tr>\n",
       "      <th>voc_dupl_tmscnt</th>\n",
       "      <td>-0.009422</td>\n",
       "      <td>0.051888</td>\n",
       "      <td>-0.009501</td>\n",
       "      <td>0.007527</td>\n",
       "      <td>-0.007787</td>\n",
       "      <td>0.029665</td>\n",
       "      <td>0.003604</td>\n",
       "      <td>0.019652</td>\n",
       "      <td>1.000000</td>\n",
       "      <td>0.009029</td>\n",
       "      <td>...</td>\n",
       "      <td>0.004635</td>\n",
       "      <td>-0.000676</td>\n",
       "      <td>-0.003778</td>\n",
       "      <td>-0.005661</td>\n",
       "      <td>-0.007563</td>\n",
       "      <td>-0.000704</td>\n",
       "      <td>0.017073</td>\n",
       "      <td>-0.002746</td>\n",
       "      <td>0.010270</td>\n",
       "      <td>0.024565</td>\n",
       "    </tr>\n",
       "    <tr>\n",
       "      <th>voc_trt_need_time_itg_cd</th>\n",
       "      <td>-0.036830</td>\n",
       "      <td>0.006481</td>\n",
       "      <td>-0.151521</td>\n",
       "      <td>0.734386</td>\n",
       "      <td>-0.000177</td>\n",
       "      <td>0.009761</td>\n",
       "      <td>0.006097</td>\n",
       "      <td>0.443370</td>\n",
       "      <td>0.009029</td>\n",
       "      <td>1.000000</td>\n",
       "      <td>...</td>\n",
       "      <td>0.002050</td>\n",
       "      <td>-0.000433</td>\n",
       "      <td>-0.002626</td>\n",
       "      <td>-0.000840</td>\n",
       "      <td>0.005434</td>\n",
       "      <td>-0.000289</td>\n",
       "      <td>0.011766</td>\n",
       "      <td>0.000206</td>\n",
       "      <td>-0.004077</td>\n",
       "      <td>0.025152</td>\n",
       "    </tr>\n",
       "    <tr>\n",
       "      <th>cust_snsry_base_conf_need_time</th>\n",
       "      <td>0.002467</td>\n",
       "      <td>-0.010791</td>\n",
       "      <td>0.028251</td>\n",
       "      <td>0.024858</td>\n",
       "      <td>0.000240</td>\n",
       "      <td>0.008629</td>\n",
       "      <td>-0.003497</td>\n",
       "      <td>0.085317</td>\n",
       "      <td>-0.002019</td>\n",
       "      <td>0.065453</td>\n",
       "      <td>...</td>\n",
       "      <td>0.000444</td>\n",
       "      <td>-0.000205</td>\n",
       "      <td>-0.000903</td>\n",
       "      <td>-0.001376</td>\n",
       "      <td>0.003401</td>\n",
       "      <td>0.001118</td>\n",
       "      <td>-0.001170</td>\n",
       "      <td>-0.001276</td>\n",
       "      <td>-0.004733</td>\n",
       "      <td>0.013979</td>\n",
       "    </tr>\n",
       "    <tr>\n",
       "      <th>cust_clas_itg_cd_G</th>\n",
       "      <td>0.006036</td>\n",
       "      <td>-0.016426</td>\n",
       "      <td>0.001407</td>\n",
       "      <td>-0.008660</td>\n",
       "      <td>0.094244</td>\n",
       "      <td>0.167949</td>\n",
       "      <td>0.030856</td>\n",
       "      <td>-0.014064</td>\n",
       "      <td>0.009626</td>\n",
       "      <td>-0.009405</td>\n",
       "      <td>...</td>\n",
       "      <td>-0.021865</td>\n",
       "      <td>-0.002333</td>\n",
       "      <td>-0.021172</td>\n",
       "      <td>-0.037115</td>\n",
       "      <td>-0.022822</td>\n",
       "      <td>-0.037422</td>\n",
       "      <td>0.006303</td>\n",
       "      <td>0.002963</td>\n",
       "      <td>-0.095177</td>\n",
       "      <td>0.025756</td>\n",
       "    </tr>\n",
       "    <tr>\n",
       "      <th>cust_clas_itg_cd_H</th>\n",
       "      <td>0.001835</td>\n",
       "      <td>-0.011697</td>\n",
       "      <td>0.010768</td>\n",
       "      <td>-0.002581</td>\n",
       "      <td>-0.010940</td>\n",
       "      <td>0.006899</td>\n",
       "      <td>-0.013410</td>\n",
       "      <td>0.004347</td>\n",
       "      <td>-0.001543</td>\n",
       "      <td>-0.003013</td>\n",
       "      <td>...</td>\n",
       "      <td>-0.000902</td>\n",
       "      <td>0.263017</td>\n",
       "      <td>-0.000873</td>\n",
       "      <td>-0.003795</td>\n",
       "      <td>-0.002124</td>\n",
       "      <td>-0.001432</td>\n",
       "      <td>-0.006532</td>\n",
       "      <td>-0.001022</td>\n",
       "      <td>-0.004005</td>\n",
       "      <td>-0.003004</td>\n",
       "    </tr>\n",
       "    <tr>\n",
       "      <th>cust_clas_itg_cd_I</th>\n",
       "      <td>0.006001</td>\n",
       "      <td>0.033741</td>\n",
       "      <td>0.000487</td>\n",
       "      <td>-0.003614</td>\n",
       "      <td>-0.068879</td>\n",
       "      <td>0.138083</td>\n",
       "      <td>0.060056</td>\n",
       "      <td>-0.013263</td>\n",
       "      <td>0.002408</td>\n",
       "      <td>-0.010489</td>\n",
       "      <td>...</td>\n",
       "      <td>-0.017977</td>\n",
       "      <td>-0.003116</td>\n",
       "      <td>-0.017407</td>\n",
       "      <td>-0.004088</td>\n",
       "      <td>-0.014282</td>\n",
       "      <td>-0.017584</td>\n",
       "      <td>0.026071</td>\n",
       "      <td>-0.003421</td>\n",
       "      <td>-0.078021</td>\n",
       "      <td>0.007416</td>\n",
       "    </tr>\n",
       "    <tr>\n",
       "      <th>cust_clas_itg_cd_J</th>\n",
       "      <td>0.001225</td>\n",
       "      <td>0.022825</td>\n",
       "      <td>-0.017104</td>\n",
       "      <td>-0.002112</td>\n",
       "      <td>-0.064335</td>\n",
       "      <td>0.123743</td>\n",
       "      <td>0.032500</td>\n",
       "      <td>-0.004971</td>\n",
       "      <td>0.006751</td>\n",
       "      <td>0.001422</td>\n",
       "      <td>...</td>\n",
       "      <td>-0.015793</td>\n",
       "      <td>-0.002793</td>\n",
       "      <td>-0.015599</td>\n",
       "      <td>0.032051</td>\n",
       "      <td>-0.013507</td>\n",
       "      <td>-0.021480</td>\n",
       "      <td>0.055743</td>\n",
       "      <td>-0.007352</td>\n",
       "      <td>-0.068970</td>\n",
       "      <td>-0.001294</td>\n",
       "    </tr>\n",
       "    <tr>\n",
       "      <th>cust_clas_itg_cd_L</th>\n",
       "      <td>0.002557</td>\n",
       "      <td>0.008585</td>\n",
       "      <td>0.046731</td>\n",
       "      <td>0.012810</td>\n",
       "      <td>-0.027871</td>\n",
       "      <td>-0.376698</td>\n",
       "      <td>-0.132839</td>\n",
       "      <td>0.010546</td>\n",
       "      <td>-0.013341</td>\n",
       "      <td>0.008781</td>\n",
       "      <td>...</td>\n",
       "      <td>0.047718</td>\n",
       "      <td>-0.006953</td>\n",
       "      <td>0.047506</td>\n",
       "      <td>0.019607</td>\n",
       "      <td>0.052537</td>\n",
       "      <td>0.079194</td>\n",
       "      <td>-0.121584</td>\n",
       "      <td>0.013746</td>\n",
       "      <td>0.212331</td>\n",
       "      <td>-0.044905</td>\n",
       "    </tr>\n",
       "    <tr>\n",
       "      <th>cust_clas_itg_cd_M</th>\n",
       "      <td>0.001396</td>\n",
       "      <td>-0.009856</td>\n",
       "      <td>0.005220</td>\n",
       "      <td>-0.001961</td>\n",
       "      <td>-0.008544</td>\n",
       "      <td>0.005237</td>\n",
       "      <td>-0.007172</td>\n",
       "      <td>0.004074</td>\n",
       "      <td>-0.001172</td>\n",
       "      <td>-0.000508</td>\n",
       "      <td>...</td>\n",
       "      <td>-0.000685</td>\n",
       "      <td>0.038377</td>\n",
       "      <td>-0.000663</td>\n",
       "      <td>-0.002882</td>\n",
       "      <td>-0.001613</td>\n",
       "      <td>-0.002276</td>\n",
       "      <td>-0.004961</td>\n",
       "      <td>-0.000776</td>\n",
       "      <td>-0.003042</td>\n",
       "      <td>-0.002282</td>\n",
       "    </tr>\n",
       "    <tr>\n",
       "      <th>cust_clas_itg_cd_O</th>\n",
       "      <td>-0.008508</td>\n",
       "      <td>-0.017847</td>\n",
       "      <td>-0.011020</td>\n",
       "      <td>0.007652</td>\n",
       "      <td>-0.022300</td>\n",
       "      <td>0.059307</td>\n",
       "      <td>-0.041069</td>\n",
       "      <td>0.005318</td>\n",
       "      <td>0.001725</td>\n",
       "      <td>0.009090</td>\n",
       "      <td>...</td>\n",
       "      <td>-0.004670</td>\n",
       "      <td>-0.001337</td>\n",
       "      <td>-0.007470</td>\n",
       "      <td>0.043979</td>\n",
       "      <td>-0.011642</td>\n",
       "      <td>-0.016640</td>\n",
       "      <td>0.025430</td>\n",
       "      <td>-0.003364</td>\n",
       "      <td>-0.033416</td>\n",
       "      <td>-0.007570</td>\n",
       "    </tr>\n",
       "    <tr>\n",
       "      <th>cust_clas_itg_cd_R</th>\n",
       "      <td>0.000463</td>\n",
       "      <td>-0.001794</td>\n",
       "      <td>0.003922</td>\n",
       "      <td>-0.000653</td>\n",
       "      <td>-0.002740</td>\n",
       "      <td>0.001748</td>\n",
       "      <td>-0.002628</td>\n",
       "      <td>0.002146</td>\n",
       "      <td>-0.000390</td>\n",
       "      <td>0.001688</td>\n",
       "      <td>...</td>\n",
       "      <td>-0.000228</td>\n",
       "      <td>0.230911</td>\n",
       "      <td>-0.000221</td>\n",
       "      <td>-0.000961</td>\n",
       "      <td>-0.000538</td>\n",
       "      <td>-0.000758</td>\n",
       "      <td>-0.001653</td>\n",
       "      <td>-0.000259</td>\n",
       "      <td>-0.001014</td>\n",
       "      <td>-0.000760</td>\n",
       "    </tr>\n",
       "    <tr>\n",
       "      <th>cust_clas_itg_cd_V</th>\n",
       "      <td>0.000854</td>\n",
       "      <td>0.001780</td>\n",
       "      <td>0.010027</td>\n",
       "      <td>-0.001205</td>\n",
       "      <td>-0.003507</td>\n",
       "      <td>0.003220</td>\n",
       "      <td>-0.008481</td>\n",
       "      <td>0.010877</td>\n",
       "      <td>-0.000720</td>\n",
       "      <td>0.000590</td>\n",
       "      <td>...</td>\n",
       "      <td>-0.000421</td>\n",
       "      <td>0.062554</td>\n",
       "      <td>-0.000408</td>\n",
       "      <td>-0.001771</td>\n",
       "      <td>-0.000991</td>\n",
       "      <td>0.011998</td>\n",
       "      <td>-0.003049</td>\n",
       "      <td>-0.000477</td>\n",
       "      <td>-0.001870</td>\n",
       "      <td>-0.001402</td>\n",
       "    </tr>\n",
       "    <tr>\n",
       "      <th>cont_sttus_itg_cd_10002</th>\n",
       "      <td>0.004590</td>\n",
       "      <td>-0.031444</td>\n",
       "      <td>0.015895</td>\n",
       "      <td>-0.001921</td>\n",
       "      <td>0.026220</td>\n",
       "      <td>0.028239</td>\n",
       "      <td>-0.013064</td>\n",
       "      <td>-0.001072</td>\n",
       "      <td>-0.003929</td>\n",
       "      <td>-0.002406</td>\n",
       "      <td>...</td>\n",
       "      <td>-0.003677</td>\n",
       "      <td>-0.000637</td>\n",
       "      <td>0.004201</td>\n",
       "      <td>-0.010222</td>\n",
       "      <td>0.001549</td>\n",
       "      <td>0.000120</td>\n",
       "      <td>0.000793</td>\n",
       "      <td>0.002472</td>\n",
       "      <td>0.023357</td>\n",
       "      <td>0.015441</td>\n",
       "    </tr>\n",
       "    <tr>\n",
       "      <th>cont_sttus_itg_cd_10003</th>\n",
       "      <td>0.011044</td>\n",
       "      <td>0.008957</td>\n",
       "      <td>0.020473</td>\n",
       "      <td>-0.006381</td>\n",
       "      <td>0.010285</td>\n",
       "      <td>0.047545</td>\n",
       "      <td>-0.045589</td>\n",
       "      <td>0.022240</td>\n",
       "      <td>-0.002794</td>\n",
       "      <td>-0.002917</td>\n",
       "      <td>...</td>\n",
       "      <td>-0.002430</td>\n",
       "      <td>-0.001073</td>\n",
       "      <td>-0.001335</td>\n",
       "      <td>-0.003798</td>\n",
       "      <td>-0.002647</td>\n",
       "      <td>-0.008767</td>\n",
       "      <td>0.004900</td>\n",
       "      <td>0.000291</td>\n",
       "      <td>0.005505</td>\n",
       "      <td>0.041022</td>\n",
       "    </tr>\n",
       "    <tr>\n",
       "      <th>cont_sttus_itg_cd_10004</th>\n",
       "      <td>0.001719</td>\n",
       "      <td>0.001902</td>\n",
       "      <td>0.001486</td>\n",
       "      <td>0.002412</td>\n",
       "      <td>-0.007909</td>\n",
       "      <td>0.006473</td>\n",
       "      <td>0.003144</td>\n",
       "      <td>0.006254</td>\n",
       "      <td>-0.001451</td>\n",
       "      <td>0.000753</td>\n",
       "      <td>...</td>\n",
       "      <td>0.004554</td>\n",
       "      <td>-0.000147</td>\n",
       "      <td>-0.000821</td>\n",
       "      <td>0.000428</td>\n",
       "      <td>-0.001997</td>\n",
       "      <td>-0.002818</td>\n",
       "      <td>0.005517</td>\n",
       "      <td>-0.000961</td>\n",
       "      <td>0.001304</td>\n",
       "      <td>0.022050</td>\n",
       "    </tr>\n",
       "    <tr>\n",
       "      <th>cont_sttus_itg_cd_10005</th>\n",
       "      <td>-0.010517</td>\n",
       "      <td>0.084151</td>\n",
       "      <td>0.033732</td>\n",
       "      <td>-0.010675</td>\n",
       "      <td>-0.029265</td>\n",
       "      <td>0.089775</td>\n",
       "      <td>0.013136</td>\n",
       "      <td>0.138531</td>\n",
       "      <td>0.049920</td>\n",
       "      <td>-0.001697</td>\n",
       "      <td>...</td>\n",
       "      <td>-0.008805</td>\n",
       "      <td>0.031378</td>\n",
       "      <td>0.002791</td>\n",
       "      <td>-0.021771</td>\n",
       "      <td>-0.003216</td>\n",
       "      <td>-0.011726</td>\n",
       "      <td>0.026736</td>\n",
       "      <td>-0.009971</td>\n",
       "      <td>0.000921</td>\n",
       "      <td>-0.037229</td>\n",
       "    </tr>\n",
       "    <tr>\n",
       "      <th>cont_sttus_itg_cd_10006</th>\n",
       "      <td>0.002793</td>\n",
       "      <td>-0.022441</td>\n",
       "      <td>0.005183</td>\n",
       "      <td>-0.001862</td>\n",
       "      <td>-0.000593</td>\n",
       "      <td>0.014639</td>\n",
       "      <td>0.003002</td>\n",
       "      <td>0.004902</td>\n",
       "      <td>-0.003260</td>\n",
       "      <td>0.000736</td>\n",
       "      <td>...</td>\n",
       "      <td>-0.001905</td>\n",
       "      <td>0.013522</td>\n",
       "      <td>0.015551</td>\n",
       "      <td>0.003258</td>\n",
       "      <td>0.002738</td>\n",
       "      <td>-0.000406</td>\n",
       "      <td>0.003266</td>\n",
       "      <td>0.002092</td>\n",
       "      <td>0.004526</td>\n",
       "      <td>-0.006349</td>\n",
       "    </tr>\n",
       "    <tr>\n",
       "      <th>cont_sttus_itg_cd_10007</th>\n",
       "      <td>-0.050985</td>\n",
       "      <td>-0.020364</td>\n",
       "      <td>-0.000184</td>\n",
       "      <td>0.037124</td>\n",
       "      <td>0.049203</td>\n",
       "      <td>0.048363</td>\n",
       "      <td>-0.008766</td>\n",
       "      <td>0.154390</td>\n",
       "      <td>0.020269</td>\n",
       "      <td>0.080587</td>\n",
       "      <td>...</td>\n",
       "      <td>-0.004815</td>\n",
       "      <td>-0.001091</td>\n",
       "      <td>-0.000747</td>\n",
       "      <td>-0.017552</td>\n",
       "      <td>-0.009115</td>\n",
       "      <td>-0.008848</td>\n",
       "      <td>0.010306</td>\n",
       "      <td>-0.007133</td>\n",
       "      <td>0.019621</td>\n",
       "      <td>0.146920</td>\n",
       "    </tr>\n",
       "    <tr>\n",
       "      <th>cust_dtl_ctg_itg_cd_10002</th>\n",
       "      <td>-0.014793</td>\n",
       "      <td>0.025295</td>\n",
       "      <td>-0.062047</td>\n",
       "      <td>-0.016983</td>\n",
       "      <td>-0.083239</td>\n",
       "      <td>0.140743</td>\n",
       "      <td>0.034569</td>\n",
       "      <td>0.026147</td>\n",
       "      <td>0.041819</td>\n",
       "      <td>0.000849</td>\n",
       "      <td>...</td>\n",
       "      <td>-0.018336</td>\n",
       "      <td>-0.003179</td>\n",
       "      <td>-0.017755</td>\n",
       "      <td>-0.077175</td>\n",
       "      <td>-0.043192</td>\n",
       "      <td>-0.060934</td>\n",
       "      <td>-0.132843</td>\n",
       "      <td>-0.020777</td>\n",
       "      <td>-0.081459</td>\n",
       "      <td>0.048778</td>\n",
       "    </tr>\n",
       "    <tr>\n",
       "      <th>cust_dtl_ctg_itg_cd_10003</th>\n",
       "      <td>0.055118</td>\n",
       "      <td>0.036044</td>\n",
       "      <td>0.135715</td>\n",
       "      <td>0.013304</td>\n",
       "      <td>0.030486</td>\n",
       "      <td>-0.275853</td>\n",
       "      <td>-0.072988</td>\n",
       "      <td>-0.018718</td>\n",
       "      <td>-0.040030</td>\n",
       "      <td>-0.007396</td>\n",
       "      <td>...</td>\n",
       "      <td>-0.063407</td>\n",
       "      <td>-0.010992</td>\n",
       "      <td>-0.061397</td>\n",
       "      <td>-0.266877</td>\n",
       "      <td>-0.149361</td>\n",
       "      <td>-0.210717</td>\n",
       "      <td>-0.459384</td>\n",
       "      <td>-0.071848</td>\n",
       "      <td>-0.281692</td>\n",
       "      <td>-0.046000</td>\n",
       "    </tr>\n",
       "    <tr>\n",
       "      <th>cust_dtl_ctg_itg_cd_10004</th>\n",
       "      <td>0.000515</td>\n",
       "      <td>0.000758</td>\n",
       "      <td>-0.005115</td>\n",
       "      <td>-0.000716</td>\n",
       "      <td>-0.000899</td>\n",
       "      <td>0.001913</td>\n",
       "      <td>0.004878</td>\n",
       "      <td>0.011411</td>\n",
       "      <td>-0.000428</td>\n",
       "      <td>0.009545</td>\n",
       "      <td>...</td>\n",
       "      <td>-0.000250</td>\n",
       "      <td>-0.000043</td>\n",
       "      <td>-0.000242</td>\n",
       "      <td>-0.001052</td>\n",
       "      <td>-0.000589</td>\n",
       "      <td>-0.000831</td>\n",
       "      <td>-0.001811</td>\n",
       "      <td>-0.000283</td>\n",
       "      <td>-0.001111</td>\n",
       "      <td>-0.000833</td>\n",
       "    </tr>\n",
       "    <tr>\n",
       "      <th>cust_dtl_ctg_itg_cd_10011</th>\n",
       "      <td>-0.020769</td>\n",
       "      <td>0.015878</td>\n",
       "      <td>-0.012673</td>\n",
       "      <td>0.010002</td>\n",
       "      <td>-0.025022</td>\n",
       "      <td>0.017447</td>\n",
       "      <td>0.002737</td>\n",
       "      <td>-0.008646</td>\n",
       "      <td>0.004635</td>\n",
       "      <td>0.002050</td>\n",
       "      <td>...</td>\n",
       "      <td>1.000000</td>\n",
       "      <td>-0.000395</td>\n",
       "      <td>-0.002208</td>\n",
       "      <td>-0.009597</td>\n",
       "      <td>-0.005371</td>\n",
       "      <td>-0.007578</td>\n",
       "      <td>-0.016520</td>\n",
       "      <td>-0.002584</td>\n",
       "      <td>-0.010130</td>\n",
       "      <td>-0.006362</td>\n",
       "    </tr>\n",
       "    <tr>\n",
       "      <th>cust_dtl_ctg_itg_cd_10013</th>\n",
       "      <td>0.000807</td>\n",
       "      <td>-0.000442</td>\n",
       "      <td>0.006793</td>\n",
       "      <td>-0.001132</td>\n",
       "      <td>-0.003785</td>\n",
       "      <td>0.003024</td>\n",
       "      <td>-0.001920</td>\n",
       "      <td>0.003716</td>\n",
       "      <td>-0.000676</td>\n",
       "      <td>-0.000433</td>\n",
       "      <td>...</td>\n",
       "      <td>-0.000395</td>\n",
       "      <td>1.000000</td>\n",
       "      <td>-0.000383</td>\n",
       "      <td>-0.001664</td>\n",
       "      <td>-0.000931</td>\n",
       "      <td>-0.001314</td>\n",
       "      <td>-0.002864</td>\n",
       "      <td>-0.000448</td>\n",
       "      <td>-0.001756</td>\n",
       "      <td>-0.001317</td>\n",
       "    </tr>\n",
       "    <tr>\n",
       "      <th>cust_dtl_ctg_itg_cd_10018</th>\n",
       "      <td>0.001524</td>\n",
       "      <td>-0.016429</td>\n",
       "      <td>0.008219</td>\n",
       "      <td>-0.000736</td>\n",
       "      <td>0.028297</td>\n",
       "      <td>0.016963</td>\n",
       "      <td>0.002374</td>\n",
       "      <td>-0.004725</td>\n",
       "      <td>-0.003778</td>\n",
       "      <td>-0.002626</td>\n",
       "      <td>...</td>\n",
       "      <td>-0.002208</td>\n",
       "      <td>-0.000383</td>\n",
       "      <td>1.000000</td>\n",
       "      <td>-0.009293</td>\n",
       "      <td>-0.005201</td>\n",
       "      <td>-0.007338</td>\n",
       "      <td>-0.015997</td>\n",
       "      <td>-0.002502</td>\n",
       "      <td>-0.009809</td>\n",
       "      <td>0.004765</td>\n",
       "    </tr>\n",
       "    <tr>\n",
       "      <th>cust_dtl_ctg_itg_cd_10019</th>\n",
       "      <td>0.005138</td>\n",
       "      <td>0.003747</td>\n",
       "      <td>0.021466</td>\n",
       "      <td>0.005729</td>\n",
       "      <td>-0.078548</td>\n",
       "      <td>0.073769</td>\n",
       "      <td>0.038491</td>\n",
       "      <td>0.000441</td>\n",
       "      <td>-0.005661</td>\n",
       "      <td>-0.000840</td>\n",
       "      <td>...</td>\n",
       "      <td>-0.009597</td>\n",
       "      <td>-0.001664</td>\n",
       "      <td>-0.009293</td>\n",
       "      <td>1.000000</td>\n",
       "      <td>-0.022608</td>\n",
       "      <td>-0.031895</td>\n",
       "      <td>-0.069534</td>\n",
       "      <td>-0.010875</td>\n",
       "      <td>-0.042638</td>\n",
       "      <td>-0.017046</td>\n",
       "    </tr>\n",
       "    <tr>\n",
       "      <th>cust_dtl_ctg_itg_cd_90024</th>\n",
       "      <td>-0.015781</td>\n",
       "      <td>-0.012142</td>\n",
       "      <td>-0.009564</td>\n",
       "      <td>0.009115</td>\n",
       "      <td>-0.016158</td>\n",
       "      <td>0.041237</td>\n",
       "      <td>-0.017250</td>\n",
       "      <td>-0.005326</td>\n",
       "      <td>-0.007563</td>\n",
       "      <td>0.005434</td>\n",
       "      <td>...</td>\n",
       "      <td>-0.005371</td>\n",
       "      <td>-0.000931</td>\n",
       "      <td>-0.005201</td>\n",
       "      <td>-0.022608</td>\n",
       "      <td>1.000000</td>\n",
       "      <td>-0.017850</td>\n",
       "      <td>-0.038915</td>\n",
       "      <td>-0.006086</td>\n",
       "      <td>-0.023863</td>\n",
       "      <td>-0.005972</td>\n",
       "    </tr>\n",
       "    <tr>\n",
       "      <th>cust_dtl_ctg_itg_cd_90027</th>\n",
       "      <td>-0.009348</td>\n",
       "      <td>-0.022029</td>\n",
       "      <td>-0.012693</td>\n",
       "      <td>0.000875</td>\n",
       "      <td>-0.036077</td>\n",
       "      <td>0.058140</td>\n",
       "      <td>-0.016820</td>\n",
       "      <td>0.003886</td>\n",
       "      <td>-0.000704</td>\n",
       "      <td>-0.000289</td>\n",
       "      <td>...</td>\n",
       "      <td>-0.007578</td>\n",
       "      <td>-0.001314</td>\n",
       "      <td>-0.007338</td>\n",
       "      <td>-0.031895</td>\n",
       "      <td>-0.017850</td>\n",
       "      <td>1.000000</td>\n",
       "      <td>-0.054901</td>\n",
       "      <td>-0.008587</td>\n",
       "      <td>-0.033665</td>\n",
       "      <td>-0.000337</td>\n",
       "    </tr>\n",
       "    <tr>\n",
       "      <th>cust_dtl_ctg_itg_cd_90029</th>\n",
       "      <td>-0.042829</td>\n",
       "      <td>-0.024677</td>\n",
       "      <td>-0.118151</td>\n",
       "      <td>-0.004943</td>\n",
       "      <td>0.032952</td>\n",
       "      <td>0.126573</td>\n",
       "      <td>0.064860</td>\n",
       "      <td>0.000150</td>\n",
       "      <td>0.017073</td>\n",
       "      <td>0.011766</td>\n",
       "      <td>...</td>\n",
       "      <td>-0.016520</td>\n",
       "      <td>-0.002864</td>\n",
       "      <td>-0.015997</td>\n",
       "      <td>-0.069534</td>\n",
       "      <td>-0.038915</td>\n",
       "      <td>-0.054901</td>\n",
       "      <td>1.000000</td>\n",
       "      <td>-0.018720</td>\n",
       "      <td>-0.073394</td>\n",
       "      <td>0.022793</td>\n",
       "    </tr>\n",
       "    <tr>\n",
       "      <th>cust_dtl_ctg_itg_cd_90030</th>\n",
       "      <td>0.005387</td>\n",
       "      <td>-0.016162</td>\n",
       "      <td>0.013457</td>\n",
       "      <td>0.005077</td>\n",
       "      <td>0.016315</td>\n",
       "      <td>0.019895</td>\n",
       "      <td>-0.019616</td>\n",
       "      <td>-0.003595</td>\n",
       "      <td>-0.002746</td>\n",
       "      <td>0.000206</td>\n",
       "      <td>...</td>\n",
       "      <td>-0.002584</td>\n",
       "      <td>-0.000448</td>\n",
       "      <td>-0.002502</td>\n",
       "      <td>-0.010875</td>\n",
       "      <td>-0.006086</td>\n",
       "      <td>-0.008587</td>\n",
       "      <td>-0.018720</td>\n",
       "      <td>1.000000</td>\n",
       "      <td>-0.011479</td>\n",
       "      <td>-0.007518</td>\n",
       "    </tr>\n",
       "    <tr>\n",
       "      <th>cust_dtl_ctg_itg_cd_90056</th>\n",
       "      <td>-0.027045</td>\n",
       "      <td>-0.064972</td>\n",
       "      <td>-0.047608</td>\n",
       "      <td>-0.010877</td>\n",
       "      <td>0.120901</td>\n",
       "      <td>0.077589</td>\n",
       "      <td>0.006602</td>\n",
       "      <td>0.004237</td>\n",
       "      <td>0.010270</td>\n",
       "      <td>-0.004077</td>\n",
       "      <td>...</td>\n",
       "      <td>-0.010130</td>\n",
       "      <td>-0.001756</td>\n",
       "      <td>-0.009809</td>\n",
       "      <td>-0.042638</td>\n",
       "      <td>-0.023863</td>\n",
       "      <td>-0.033665</td>\n",
       "      <td>-0.073394</td>\n",
       "      <td>-0.011479</td>\n",
       "      <td>1.000000</td>\n",
       "      <td>0.016129</td>\n",
       "    </tr>\n",
       "    <tr>\n",
       "      <th>trm_yn_Y</th>\n",
       "      <td>-0.015519</td>\n",
       "      <td>0.070783</td>\n",
       "      <td>0.006737</td>\n",
       "      <td>-0.000070</td>\n",
       "      <td>0.003449</td>\n",
       "      <td>0.058290</td>\n",
       "      <td>0.006919</td>\n",
       "      <td>0.097521</td>\n",
       "      <td>0.024565</td>\n",
       "      <td>0.025152</td>\n",
       "      <td>...</td>\n",
       "      <td>-0.006362</td>\n",
       "      <td>-0.001317</td>\n",
       "      <td>0.004765</td>\n",
       "      <td>-0.017046</td>\n",
       "      <td>-0.005972</td>\n",
       "      <td>-0.000337</td>\n",
       "      <td>0.022793</td>\n",
       "      <td>-0.007518</td>\n",
       "      <td>0.016129</td>\n",
       "      <td>1.000000</td>\n",
       "    </tr>\n",
       "  </tbody>\n",
       "</table>\n",
       "<p>39 rows × 39 columns</p>\n",
       "</div>"
      ],
      "text/plain": [
       "                                voc_prod_sbt_id  voc_wjt_sorc_id  \\\n",
       "voc_prod_sbt_id                        1.000000        -0.004744   \n",
       "voc_wjt_sorc_id                       -0.004744         1.000000   \n",
       "voc_type_itg_cd                        0.287694         0.006591   \n",
       "voc_sttus_itg_cd                      -0.002610        -0.001799   \n",
       "cust_pty_sbt_id                       -0.001801        -0.080261   \n",
       "bprod_sbt_id                          -0.035330        -0.111116   \n",
       "age_itg_cd                            -0.018703         0.053726   \n",
       "voc_trt_degr_div_itg_cd               -0.031818         0.013483   \n",
       "voc_dupl_tmscnt                       -0.009422         0.051888   \n",
       "voc_trt_need_time_itg_cd              -0.036830         0.006481   \n",
       "cust_snsry_base_conf_need_time         0.002467        -0.010791   \n",
       "cust_clas_itg_cd_G                     0.006036        -0.016426   \n",
       "cust_clas_itg_cd_H                     0.001835        -0.011697   \n",
       "cust_clas_itg_cd_I                     0.006001         0.033741   \n",
       "cust_clas_itg_cd_J                     0.001225         0.022825   \n",
       "cust_clas_itg_cd_L                     0.002557         0.008585   \n",
       "cust_clas_itg_cd_M                     0.001396        -0.009856   \n",
       "cust_clas_itg_cd_O                    -0.008508        -0.017847   \n",
       "cust_clas_itg_cd_R                     0.000463        -0.001794   \n",
       "cust_clas_itg_cd_V                     0.000854         0.001780   \n",
       "cont_sttus_itg_cd_10002                0.004590        -0.031444   \n",
       "cont_sttus_itg_cd_10003                0.011044         0.008957   \n",
       "cont_sttus_itg_cd_10004                0.001719         0.001902   \n",
       "cont_sttus_itg_cd_10005               -0.010517         0.084151   \n",
       "cont_sttus_itg_cd_10006                0.002793        -0.022441   \n",
       "cont_sttus_itg_cd_10007               -0.050985        -0.020364   \n",
       "cust_dtl_ctg_itg_cd_10002             -0.014793         0.025295   \n",
       "cust_dtl_ctg_itg_cd_10003              0.055118         0.036044   \n",
       "cust_dtl_ctg_itg_cd_10004              0.000515         0.000758   \n",
       "cust_dtl_ctg_itg_cd_10011             -0.020769         0.015878   \n",
       "cust_dtl_ctg_itg_cd_10013              0.000807        -0.000442   \n",
       "cust_dtl_ctg_itg_cd_10018              0.001524        -0.016429   \n",
       "cust_dtl_ctg_itg_cd_10019              0.005138         0.003747   \n",
       "cust_dtl_ctg_itg_cd_90024             -0.015781        -0.012142   \n",
       "cust_dtl_ctg_itg_cd_90027             -0.009348        -0.022029   \n",
       "cust_dtl_ctg_itg_cd_90029             -0.042829        -0.024677   \n",
       "cust_dtl_ctg_itg_cd_90030              0.005387        -0.016162   \n",
       "cust_dtl_ctg_itg_cd_90056             -0.027045        -0.064972   \n",
       "trm_yn_Y                              -0.015519         0.070783   \n",
       "\n",
       "                                voc_type_itg_cd  voc_sttus_itg_cd  \\\n",
       "voc_prod_sbt_id                        0.287694         -0.002610   \n",
       "voc_wjt_sorc_id                        0.006591         -0.001799   \n",
       "voc_type_itg_cd                        1.000000         -0.060441   \n",
       "voc_sttus_itg_cd                      -0.060441          1.000000   \n",
       "cust_pty_sbt_id                        0.026023         -0.000667   \n",
       "bprod_sbt_id                          -0.095614         -0.000345   \n",
       "age_itg_cd                            -0.076323         -0.000082   \n",
       "voc_trt_degr_div_itg_cd               -0.150199          0.213868   \n",
       "voc_dupl_tmscnt                       -0.009501          0.007527   \n",
       "voc_trt_need_time_itg_cd              -0.151521          0.734386   \n",
       "cust_snsry_base_conf_need_time         0.028251          0.024858   \n",
       "cust_clas_itg_cd_G                     0.001407         -0.008660   \n",
       "cust_clas_itg_cd_H                     0.010768         -0.002581   \n",
       "cust_clas_itg_cd_I                     0.000487         -0.003614   \n",
       "cust_clas_itg_cd_J                    -0.017104         -0.002112   \n",
       "cust_clas_itg_cd_L                     0.046731          0.012810   \n",
       "cust_clas_itg_cd_M                     0.005220         -0.001961   \n",
       "cust_clas_itg_cd_O                    -0.011020          0.007652   \n",
       "cust_clas_itg_cd_R                     0.003922         -0.000653   \n",
       "cust_clas_itg_cd_V                     0.010027         -0.001205   \n",
       "cont_sttus_itg_cd_10002                0.015895         -0.001921   \n",
       "cont_sttus_itg_cd_10003                0.020473         -0.006381   \n",
       "cont_sttus_itg_cd_10004                0.001486          0.002412   \n",
       "cont_sttus_itg_cd_10005                0.033732         -0.010675   \n",
       "cont_sttus_itg_cd_10006                0.005183         -0.001862   \n",
       "cont_sttus_itg_cd_10007               -0.000184          0.037124   \n",
       "cust_dtl_ctg_itg_cd_10002             -0.062047         -0.016983   \n",
       "cust_dtl_ctg_itg_cd_10003              0.135715          0.013304   \n",
       "cust_dtl_ctg_itg_cd_10004             -0.005115         -0.000716   \n",
       "cust_dtl_ctg_itg_cd_10011             -0.012673          0.010002   \n",
       "cust_dtl_ctg_itg_cd_10013              0.006793         -0.001132   \n",
       "cust_dtl_ctg_itg_cd_10018              0.008219         -0.000736   \n",
       "cust_dtl_ctg_itg_cd_10019              0.021466          0.005729   \n",
       "cust_dtl_ctg_itg_cd_90024             -0.009564          0.009115   \n",
       "cust_dtl_ctg_itg_cd_90027             -0.012693          0.000875   \n",
       "cust_dtl_ctg_itg_cd_90029             -0.118151         -0.004943   \n",
       "cust_dtl_ctg_itg_cd_90030              0.013457          0.005077   \n",
       "cust_dtl_ctg_itg_cd_90056             -0.047608         -0.010877   \n",
       "trm_yn_Y                               0.006737         -0.000070   \n",
       "\n",
       "                                cust_pty_sbt_id  bprod_sbt_id  age_itg_cd  \\\n",
       "voc_prod_sbt_id                       -0.001801     -0.035330   -0.018703   \n",
       "voc_wjt_sorc_id                       -0.080261     -0.111116    0.053726   \n",
       "voc_type_itg_cd                        0.026023     -0.095614   -0.076323   \n",
       "voc_sttus_itg_cd                      -0.000667     -0.000345   -0.000082   \n",
       "cust_pty_sbt_id                        1.000000     -0.007884   -0.206444   \n",
       "bprod_sbt_id                          -0.007884      1.000000   -0.010612   \n",
       "age_itg_cd                            -0.206444     -0.010612    1.000000   \n",
       "voc_trt_degr_div_itg_cd                0.002059      0.023811    0.000169   \n",
       "voc_dupl_tmscnt                       -0.007787      0.029665    0.003604   \n",
       "voc_trt_need_time_itg_cd              -0.000177      0.009761    0.006097   \n",
       "cust_snsry_base_conf_need_time         0.000240      0.008629   -0.003497   \n",
       "cust_clas_itg_cd_G                     0.094244      0.167949    0.030856   \n",
       "cust_clas_itg_cd_H                    -0.010940      0.006899   -0.013410   \n",
       "cust_clas_itg_cd_I                    -0.068879      0.138083    0.060056   \n",
       "cust_clas_itg_cd_J                    -0.064335      0.123743    0.032500   \n",
       "cust_clas_itg_cd_L                    -0.027871     -0.376698   -0.132839   \n",
       "cust_clas_itg_cd_M                    -0.008544      0.005237   -0.007172   \n",
       "cust_clas_itg_cd_O                    -0.022300      0.059307   -0.041069   \n",
       "cust_clas_itg_cd_R                    -0.002740      0.001748   -0.002628   \n",
       "cust_clas_itg_cd_V                    -0.003507      0.003220   -0.008481   \n",
       "cont_sttus_itg_cd_10002                0.026220      0.028239   -0.013064   \n",
       "cont_sttus_itg_cd_10003                0.010285      0.047545   -0.045589   \n",
       "cont_sttus_itg_cd_10004               -0.007909      0.006473    0.003144   \n",
       "cont_sttus_itg_cd_10005               -0.029265      0.089775    0.013136   \n",
       "cont_sttus_itg_cd_10006               -0.000593      0.014639    0.003002   \n",
       "cont_sttus_itg_cd_10007                0.049203      0.048363   -0.008766   \n",
       "cust_dtl_ctg_itg_cd_10002             -0.083239      0.140743    0.034569   \n",
       "cust_dtl_ctg_itg_cd_10003              0.030486     -0.275853   -0.072988   \n",
       "cust_dtl_ctg_itg_cd_10004             -0.000899      0.001913    0.004878   \n",
       "cust_dtl_ctg_itg_cd_10011             -0.025022      0.017447    0.002737   \n",
       "cust_dtl_ctg_itg_cd_10013             -0.003785      0.003024   -0.001920   \n",
       "cust_dtl_ctg_itg_cd_10018              0.028297      0.016963    0.002374   \n",
       "cust_dtl_ctg_itg_cd_10019             -0.078548      0.073769    0.038491   \n",
       "cust_dtl_ctg_itg_cd_90024             -0.016158      0.041237   -0.017250   \n",
       "cust_dtl_ctg_itg_cd_90027             -0.036077      0.058140   -0.016820   \n",
       "cust_dtl_ctg_itg_cd_90029              0.032952      0.126573    0.064860   \n",
       "cust_dtl_ctg_itg_cd_90030              0.016315      0.019895   -0.019616   \n",
       "cust_dtl_ctg_itg_cd_90056              0.120901      0.077589    0.006602   \n",
       "trm_yn_Y                               0.003449      0.058290    0.006919   \n",
       "\n",
       "                                voc_trt_degr_div_itg_cd  voc_dupl_tmscnt  \\\n",
       "voc_prod_sbt_id                               -0.031818        -0.009422   \n",
       "voc_wjt_sorc_id                                0.013483         0.051888   \n",
       "voc_type_itg_cd                               -0.150199        -0.009501   \n",
       "voc_sttus_itg_cd                               0.213868         0.007527   \n",
       "cust_pty_sbt_id                                0.002059        -0.007787   \n",
       "bprod_sbt_id                                   0.023811         0.029665   \n",
       "age_itg_cd                                     0.000169         0.003604   \n",
       "voc_trt_degr_div_itg_cd                        1.000000         0.019652   \n",
       "voc_dupl_tmscnt                                0.019652         1.000000   \n",
       "voc_trt_need_time_itg_cd                       0.443370         0.009029   \n",
       "cust_snsry_base_conf_need_time                 0.085317        -0.002019   \n",
       "cust_clas_itg_cd_G                            -0.014064         0.009626   \n",
       "cust_clas_itg_cd_H                             0.004347        -0.001543   \n",
       "cust_clas_itg_cd_I                            -0.013263         0.002408   \n",
       "cust_clas_itg_cd_J                            -0.004971         0.006751   \n",
       "cust_clas_itg_cd_L                             0.010546        -0.013341   \n",
       "cust_clas_itg_cd_M                             0.004074        -0.001172   \n",
       "cust_clas_itg_cd_O                             0.005318         0.001725   \n",
       "cust_clas_itg_cd_R                             0.002146        -0.000390   \n",
       "cust_clas_itg_cd_V                             0.010877        -0.000720   \n",
       "cont_sttus_itg_cd_10002                       -0.001072        -0.003929   \n",
       "cont_sttus_itg_cd_10003                        0.022240        -0.002794   \n",
       "cont_sttus_itg_cd_10004                        0.006254        -0.001451   \n",
       "cont_sttus_itg_cd_10005                        0.138531         0.049920   \n",
       "cont_sttus_itg_cd_10006                        0.004902        -0.003260   \n",
       "cont_sttus_itg_cd_10007                        0.154390         0.020269   \n",
       "cust_dtl_ctg_itg_cd_10002                      0.026147         0.041819   \n",
       "cust_dtl_ctg_itg_cd_10003                     -0.018718        -0.040030   \n",
       "cust_dtl_ctg_itg_cd_10004                      0.011411        -0.000428   \n",
       "cust_dtl_ctg_itg_cd_10011                     -0.008646         0.004635   \n",
       "cust_dtl_ctg_itg_cd_10013                      0.003716        -0.000676   \n",
       "cust_dtl_ctg_itg_cd_10018                     -0.004725        -0.003778   \n",
       "cust_dtl_ctg_itg_cd_10019                      0.000441        -0.005661   \n",
       "cust_dtl_ctg_itg_cd_90024                     -0.005326        -0.007563   \n",
       "cust_dtl_ctg_itg_cd_90027                      0.003886        -0.000704   \n",
       "cust_dtl_ctg_itg_cd_90029                      0.000150         0.017073   \n",
       "cust_dtl_ctg_itg_cd_90030                     -0.003595        -0.002746   \n",
       "cust_dtl_ctg_itg_cd_90056                      0.004237         0.010270   \n",
       "trm_yn_Y                                       0.097521         0.024565   \n",
       "\n",
       "                                voc_trt_need_time_itg_cd  ...  \\\n",
       "voc_prod_sbt_id                                -0.036830  ...   \n",
       "voc_wjt_sorc_id                                 0.006481  ...   \n",
       "voc_type_itg_cd                                -0.151521  ...   \n",
       "voc_sttus_itg_cd                                0.734386  ...   \n",
       "cust_pty_sbt_id                                -0.000177  ...   \n",
       "bprod_sbt_id                                    0.009761  ...   \n",
       "age_itg_cd                                      0.006097  ...   \n",
       "voc_trt_degr_div_itg_cd                         0.443370  ...   \n",
       "voc_dupl_tmscnt                                 0.009029  ...   \n",
       "voc_trt_need_time_itg_cd                        1.000000  ...   \n",
       "cust_snsry_base_conf_need_time                  0.065453  ...   \n",
       "cust_clas_itg_cd_G                             -0.009405  ...   \n",
       "cust_clas_itg_cd_H                             -0.003013  ...   \n",
       "cust_clas_itg_cd_I                             -0.010489  ...   \n",
       "cust_clas_itg_cd_J                              0.001422  ...   \n",
       "cust_clas_itg_cd_L                              0.008781  ...   \n",
       "cust_clas_itg_cd_M                             -0.000508  ...   \n",
       "cust_clas_itg_cd_O                              0.009090  ...   \n",
       "cust_clas_itg_cd_R                              0.001688  ...   \n",
       "cust_clas_itg_cd_V                              0.000590  ...   \n",
       "cont_sttus_itg_cd_10002                        -0.002406  ...   \n",
       "cont_sttus_itg_cd_10003                        -0.002917  ...   \n",
       "cont_sttus_itg_cd_10004                         0.000753  ...   \n",
       "cont_sttus_itg_cd_10005                        -0.001697  ...   \n",
       "cont_sttus_itg_cd_10006                         0.000736  ...   \n",
       "cont_sttus_itg_cd_10007                         0.080587  ...   \n",
       "cust_dtl_ctg_itg_cd_10002                       0.000849  ...   \n",
       "cust_dtl_ctg_itg_cd_10003                      -0.007396  ...   \n",
       "cust_dtl_ctg_itg_cd_10004                       0.009545  ...   \n",
       "cust_dtl_ctg_itg_cd_10011                       0.002050  ...   \n",
       "cust_dtl_ctg_itg_cd_10013                      -0.000433  ...   \n",
       "cust_dtl_ctg_itg_cd_10018                      -0.002626  ...   \n",
       "cust_dtl_ctg_itg_cd_10019                      -0.000840  ...   \n",
       "cust_dtl_ctg_itg_cd_90024                       0.005434  ...   \n",
       "cust_dtl_ctg_itg_cd_90027                      -0.000289  ...   \n",
       "cust_dtl_ctg_itg_cd_90029                       0.011766  ...   \n",
       "cust_dtl_ctg_itg_cd_90030                       0.000206  ...   \n",
       "cust_dtl_ctg_itg_cd_90056                      -0.004077  ...   \n",
       "trm_yn_Y                                        0.025152  ...   \n",
       "\n",
       "                                cust_dtl_ctg_itg_cd_10011  \\\n",
       "voc_prod_sbt_id                                 -0.020769   \n",
       "voc_wjt_sorc_id                                  0.015878   \n",
       "voc_type_itg_cd                                 -0.012673   \n",
       "voc_sttus_itg_cd                                 0.010002   \n",
       "cust_pty_sbt_id                                 -0.025022   \n",
       "bprod_sbt_id                                     0.017447   \n",
       "age_itg_cd                                       0.002737   \n",
       "voc_trt_degr_div_itg_cd                         -0.008646   \n",
       "voc_dupl_tmscnt                                  0.004635   \n",
       "voc_trt_need_time_itg_cd                         0.002050   \n",
       "cust_snsry_base_conf_need_time                   0.000444   \n",
       "cust_clas_itg_cd_G                              -0.021865   \n",
       "cust_clas_itg_cd_H                              -0.000902   \n",
       "cust_clas_itg_cd_I                              -0.017977   \n",
       "cust_clas_itg_cd_J                              -0.015793   \n",
       "cust_clas_itg_cd_L                               0.047718   \n",
       "cust_clas_itg_cd_M                              -0.000685   \n",
       "cust_clas_itg_cd_O                              -0.004670   \n",
       "cust_clas_itg_cd_R                              -0.000228   \n",
       "cust_clas_itg_cd_V                              -0.000421   \n",
       "cont_sttus_itg_cd_10002                         -0.003677   \n",
       "cont_sttus_itg_cd_10003                         -0.002430   \n",
       "cont_sttus_itg_cd_10004                          0.004554   \n",
       "cont_sttus_itg_cd_10005                         -0.008805   \n",
       "cont_sttus_itg_cd_10006                         -0.001905   \n",
       "cont_sttus_itg_cd_10007                         -0.004815   \n",
       "cust_dtl_ctg_itg_cd_10002                       -0.018336   \n",
       "cust_dtl_ctg_itg_cd_10003                       -0.063407   \n",
       "cust_dtl_ctg_itg_cd_10004                       -0.000250   \n",
       "cust_dtl_ctg_itg_cd_10011                        1.000000   \n",
       "cust_dtl_ctg_itg_cd_10013                       -0.000395   \n",
       "cust_dtl_ctg_itg_cd_10018                       -0.002208   \n",
       "cust_dtl_ctg_itg_cd_10019                       -0.009597   \n",
       "cust_dtl_ctg_itg_cd_90024                       -0.005371   \n",
       "cust_dtl_ctg_itg_cd_90027                       -0.007578   \n",
       "cust_dtl_ctg_itg_cd_90029                       -0.016520   \n",
       "cust_dtl_ctg_itg_cd_90030                       -0.002584   \n",
       "cust_dtl_ctg_itg_cd_90056                       -0.010130   \n",
       "trm_yn_Y                                        -0.006362   \n",
       "\n",
       "                                cust_dtl_ctg_itg_cd_10013  \\\n",
       "voc_prod_sbt_id                                  0.000807   \n",
       "voc_wjt_sorc_id                                 -0.000442   \n",
       "voc_type_itg_cd                                  0.006793   \n",
       "voc_sttus_itg_cd                                -0.001132   \n",
       "cust_pty_sbt_id                                 -0.003785   \n",
       "bprod_sbt_id                                     0.003024   \n",
       "age_itg_cd                                      -0.001920   \n",
       "voc_trt_degr_div_itg_cd                          0.003716   \n",
       "voc_dupl_tmscnt                                 -0.000676   \n",
       "voc_trt_need_time_itg_cd                        -0.000433   \n",
       "cust_snsry_base_conf_need_time                  -0.000205   \n",
       "cust_clas_itg_cd_G                              -0.002333   \n",
       "cust_clas_itg_cd_H                               0.263017   \n",
       "cust_clas_itg_cd_I                              -0.003116   \n",
       "cust_clas_itg_cd_J                              -0.002793   \n",
       "cust_clas_itg_cd_L                              -0.006953   \n",
       "cust_clas_itg_cd_M                               0.038377   \n",
       "cust_clas_itg_cd_O                              -0.001337   \n",
       "cust_clas_itg_cd_R                               0.230911   \n",
       "cust_clas_itg_cd_V                               0.062554   \n",
       "cont_sttus_itg_cd_10002                         -0.000637   \n",
       "cont_sttus_itg_cd_10003                         -0.001073   \n",
       "cont_sttus_itg_cd_10004                         -0.000147   \n",
       "cont_sttus_itg_cd_10005                          0.031378   \n",
       "cont_sttus_itg_cd_10006                          0.013522   \n",
       "cont_sttus_itg_cd_10007                         -0.001091   \n",
       "cust_dtl_ctg_itg_cd_10002                       -0.003179   \n",
       "cust_dtl_ctg_itg_cd_10003                       -0.010992   \n",
       "cust_dtl_ctg_itg_cd_10004                       -0.000043   \n",
       "cust_dtl_ctg_itg_cd_10011                       -0.000395   \n",
       "cust_dtl_ctg_itg_cd_10013                        1.000000   \n",
       "cust_dtl_ctg_itg_cd_10018                       -0.000383   \n",
       "cust_dtl_ctg_itg_cd_10019                       -0.001664   \n",
       "cust_dtl_ctg_itg_cd_90024                       -0.000931   \n",
       "cust_dtl_ctg_itg_cd_90027                       -0.001314   \n",
       "cust_dtl_ctg_itg_cd_90029                       -0.002864   \n",
       "cust_dtl_ctg_itg_cd_90030                       -0.000448   \n",
       "cust_dtl_ctg_itg_cd_90056                       -0.001756   \n",
       "trm_yn_Y                                        -0.001317   \n",
       "\n",
       "                                cust_dtl_ctg_itg_cd_10018  \\\n",
       "voc_prod_sbt_id                                  0.001524   \n",
       "voc_wjt_sorc_id                                 -0.016429   \n",
       "voc_type_itg_cd                                  0.008219   \n",
       "voc_sttus_itg_cd                                -0.000736   \n",
       "cust_pty_sbt_id                                  0.028297   \n",
       "bprod_sbt_id                                     0.016963   \n",
       "age_itg_cd                                       0.002374   \n",
       "voc_trt_degr_div_itg_cd                         -0.004725   \n",
       "voc_dupl_tmscnt                                 -0.003778   \n",
       "voc_trt_need_time_itg_cd                        -0.002626   \n",
       "cust_snsry_base_conf_need_time                  -0.000903   \n",
       "cust_clas_itg_cd_G                              -0.021172   \n",
       "cust_clas_itg_cd_H                              -0.000873   \n",
       "cust_clas_itg_cd_I                              -0.017407   \n",
       "cust_clas_itg_cd_J                              -0.015599   \n",
       "cust_clas_itg_cd_L                               0.047506   \n",
       "cust_clas_itg_cd_M                              -0.000663   \n",
       "cust_clas_itg_cd_O                              -0.007470   \n",
       "cust_clas_itg_cd_R                              -0.000221   \n",
       "cust_clas_itg_cd_V                              -0.000408   \n",
       "cont_sttus_itg_cd_10002                          0.004201   \n",
       "cont_sttus_itg_cd_10003                         -0.001335   \n",
       "cont_sttus_itg_cd_10004                         -0.000821   \n",
       "cont_sttus_itg_cd_10005                          0.002791   \n",
       "cont_sttus_itg_cd_10006                          0.015551   \n",
       "cont_sttus_itg_cd_10007                         -0.000747   \n",
       "cust_dtl_ctg_itg_cd_10002                       -0.017755   \n",
       "cust_dtl_ctg_itg_cd_10003                       -0.061397   \n",
       "cust_dtl_ctg_itg_cd_10004                       -0.000242   \n",
       "cust_dtl_ctg_itg_cd_10011                       -0.002208   \n",
       "cust_dtl_ctg_itg_cd_10013                       -0.000383   \n",
       "cust_dtl_ctg_itg_cd_10018                        1.000000   \n",
       "cust_dtl_ctg_itg_cd_10019                       -0.009293   \n",
       "cust_dtl_ctg_itg_cd_90024                       -0.005201   \n",
       "cust_dtl_ctg_itg_cd_90027                       -0.007338   \n",
       "cust_dtl_ctg_itg_cd_90029                       -0.015997   \n",
       "cust_dtl_ctg_itg_cd_90030                       -0.002502   \n",
       "cust_dtl_ctg_itg_cd_90056                       -0.009809   \n",
       "trm_yn_Y                                         0.004765   \n",
       "\n",
       "                                cust_dtl_ctg_itg_cd_10019  \\\n",
       "voc_prod_sbt_id                                  0.005138   \n",
       "voc_wjt_sorc_id                                  0.003747   \n",
       "voc_type_itg_cd                                  0.021466   \n",
       "voc_sttus_itg_cd                                 0.005729   \n",
       "cust_pty_sbt_id                                 -0.078548   \n",
       "bprod_sbt_id                                     0.073769   \n",
       "age_itg_cd                                       0.038491   \n",
       "voc_trt_degr_div_itg_cd                          0.000441   \n",
       "voc_dupl_tmscnt                                 -0.005661   \n",
       "voc_trt_need_time_itg_cd                        -0.000840   \n",
       "cust_snsry_base_conf_need_time                  -0.001376   \n",
       "cust_clas_itg_cd_G                              -0.037115   \n",
       "cust_clas_itg_cd_H                              -0.003795   \n",
       "cust_clas_itg_cd_I                              -0.004088   \n",
       "cust_clas_itg_cd_J                               0.032051   \n",
       "cust_clas_itg_cd_L                               0.019607   \n",
       "cust_clas_itg_cd_M                              -0.002882   \n",
       "cust_clas_itg_cd_O                               0.043979   \n",
       "cust_clas_itg_cd_R                              -0.000961   \n",
       "cust_clas_itg_cd_V                              -0.001771   \n",
       "cont_sttus_itg_cd_10002                         -0.010222   \n",
       "cont_sttus_itg_cd_10003                         -0.003798   \n",
       "cont_sttus_itg_cd_10004                          0.000428   \n",
       "cont_sttus_itg_cd_10005                         -0.021771   \n",
       "cont_sttus_itg_cd_10006                          0.003258   \n",
       "cont_sttus_itg_cd_10007                         -0.017552   \n",
       "cust_dtl_ctg_itg_cd_10002                       -0.077175   \n",
       "cust_dtl_ctg_itg_cd_10003                       -0.266877   \n",
       "cust_dtl_ctg_itg_cd_10004                       -0.001052   \n",
       "cust_dtl_ctg_itg_cd_10011                       -0.009597   \n",
       "cust_dtl_ctg_itg_cd_10013                       -0.001664   \n",
       "cust_dtl_ctg_itg_cd_10018                       -0.009293   \n",
       "cust_dtl_ctg_itg_cd_10019                        1.000000   \n",
       "cust_dtl_ctg_itg_cd_90024                       -0.022608   \n",
       "cust_dtl_ctg_itg_cd_90027                       -0.031895   \n",
       "cust_dtl_ctg_itg_cd_90029                       -0.069534   \n",
       "cust_dtl_ctg_itg_cd_90030                       -0.010875   \n",
       "cust_dtl_ctg_itg_cd_90056                       -0.042638   \n",
       "trm_yn_Y                                        -0.017046   \n",
       "\n",
       "                                cust_dtl_ctg_itg_cd_90024  \\\n",
       "voc_prod_sbt_id                                 -0.015781   \n",
       "voc_wjt_sorc_id                                 -0.012142   \n",
       "voc_type_itg_cd                                 -0.009564   \n",
       "voc_sttus_itg_cd                                 0.009115   \n",
       "cust_pty_sbt_id                                 -0.016158   \n",
       "bprod_sbt_id                                     0.041237   \n",
       "age_itg_cd                                      -0.017250   \n",
       "voc_trt_degr_div_itg_cd                         -0.005326   \n",
       "voc_dupl_tmscnt                                 -0.007563   \n",
       "voc_trt_need_time_itg_cd                         0.005434   \n",
       "cust_snsry_base_conf_need_time                   0.003401   \n",
       "cust_clas_itg_cd_G                              -0.022822   \n",
       "cust_clas_itg_cd_H                              -0.002124   \n",
       "cust_clas_itg_cd_I                              -0.014282   \n",
       "cust_clas_itg_cd_J                              -0.013507   \n",
       "cust_clas_itg_cd_L                               0.052537   \n",
       "cust_clas_itg_cd_M                              -0.001613   \n",
       "cust_clas_itg_cd_O                              -0.011642   \n",
       "cust_clas_itg_cd_R                              -0.000538   \n",
       "cust_clas_itg_cd_V                              -0.000991   \n",
       "cont_sttus_itg_cd_10002                          0.001549   \n",
       "cont_sttus_itg_cd_10003                         -0.002647   \n",
       "cont_sttus_itg_cd_10004                         -0.001997   \n",
       "cont_sttus_itg_cd_10005                         -0.003216   \n",
       "cont_sttus_itg_cd_10006                          0.002738   \n",
       "cont_sttus_itg_cd_10007                         -0.009115   \n",
       "cust_dtl_ctg_itg_cd_10002                       -0.043192   \n",
       "cust_dtl_ctg_itg_cd_10003                       -0.149361   \n",
       "cust_dtl_ctg_itg_cd_10004                       -0.000589   \n",
       "cust_dtl_ctg_itg_cd_10011                       -0.005371   \n",
       "cust_dtl_ctg_itg_cd_10013                       -0.000931   \n",
       "cust_dtl_ctg_itg_cd_10018                       -0.005201   \n",
       "cust_dtl_ctg_itg_cd_10019                       -0.022608   \n",
       "cust_dtl_ctg_itg_cd_90024                        1.000000   \n",
       "cust_dtl_ctg_itg_cd_90027                       -0.017850   \n",
       "cust_dtl_ctg_itg_cd_90029                       -0.038915   \n",
       "cust_dtl_ctg_itg_cd_90030                       -0.006086   \n",
       "cust_dtl_ctg_itg_cd_90056                       -0.023863   \n",
       "trm_yn_Y                                        -0.005972   \n",
       "\n",
       "                                cust_dtl_ctg_itg_cd_90027  \\\n",
       "voc_prod_sbt_id                                 -0.009348   \n",
       "voc_wjt_sorc_id                                 -0.022029   \n",
       "voc_type_itg_cd                                 -0.012693   \n",
       "voc_sttus_itg_cd                                 0.000875   \n",
       "cust_pty_sbt_id                                 -0.036077   \n",
       "bprod_sbt_id                                     0.058140   \n",
       "age_itg_cd                                      -0.016820   \n",
       "voc_trt_degr_div_itg_cd                          0.003886   \n",
       "voc_dupl_tmscnt                                 -0.000704   \n",
       "voc_trt_need_time_itg_cd                        -0.000289   \n",
       "cust_snsry_base_conf_need_time                   0.001118   \n",
       "cust_clas_itg_cd_G                              -0.037422   \n",
       "cust_clas_itg_cd_H                              -0.001432   \n",
       "cust_clas_itg_cd_I                              -0.017584   \n",
       "cust_clas_itg_cd_J                              -0.021480   \n",
       "cust_clas_itg_cd_L                               0.079194   \n",
       "cust_clas_itg_cd_M                              -0.002276   \n",
       "cust_clas_itg_cd_O                              -0.016640   \n",
       "cust_clas_itg_cd_R                              -0.000758   \n",
       "cust_clas_itg_cd_V                               0.011998   \n",
       "cont_sttus_itg_cd_10002                          0.000120   \n",
       "cont_sttus_itg_cd_10003                         -0.008767   \n",
       "cont_sttus_itg_cd_10004                         -0.002818   \n",
       "cont_sttus_itg_cd_10005                         -0.011726   \n",
       "cont_sttus_itg_cd_10006                         -0.000406   \n",
       "cont_sttus_itg_cd_10007                         -0.008848   \n",
       "cust_dtl_ctg_itg_cd_10002                       -0.060934   \n",
       "cust_dtl_ctg_itg_cd_10003                       -0.210717   \n",
       "cust_dtl_ctg_itg_cd_10004                       -0.000831   \n",
       "cust_dtl_ctg_itg_cd_10011                       -0.007578   \n",
       "cust_dtl_ctg_itg_cd_10013                       -0.001314   \n",
       "cust_dtl_ctg_itg_cd_10018                       -0.007338   \n",
       "cust_dtl_ctg_itg_cd_10019                       -0.031895   \n",
       "cust_dtl_ctg_itg_cd_90024                       -0.017850   \n",
       "cust_dtl_ctg_itg_cd_90027                        1.000000   \n",
       "cust_dtl_ctg_itg_cd_90029                       -0.054901   \n",
       "cust_dtl_ctg_itg_cd_90030                       -0.008587   \n",
       "cust_dtl_ctg_itg_cd_90056                       -0.033665   \n",
       "trm_yn_Y                                        -0.000337   \n",
       "\n",
       "                                cust_dtl_ctg_itg_cd_90029  \\\n",
       "voc_prod_sbt_id                                 -0.042829   \n",
       "voc_wjt_sorc_id                                 -0.024677   \n",
       "voc_type_itg_cd                                 -0.118151   \n",
       "voc_sttus_itg_cd                                -0.004943   \n",
       "cust_pty_sbt_id                                  0.032952   \n",
       "bprod_sbt_id                                     0.126573   \n",
       "age_itg_cd                                       0.064860   \n",
       "voc_trt_degr_div_itg_cd                          0.000150   \n",
       "voc_dupl_tmscnt                                  0.017073   \n",
       "voc_trt_need_time_itg_cd                         0.011766   \n",
       "cust_snsry_base_conf_need_time                  -0.001170   \n",
       "cust_clas_itg_cd_G                               0.006303   \n",
       "cust_clas_itg_cd_H                              -0.006532   \n",
       "cust_clas_itg_cd_I                               0.026071   \n",
       "cust_clas_itg_cd_J                               0.055743   \n",
       "cust_clas_itg_cd_L                              -0.121584   \n",
       "cust_clas_itg_cd_M                              -0.004961   \n",
       "cust_clas_itg_cd_O                               0.025430   \n",
       "cust_clas_itg_cd_R                              -0.001653   \n",
       "cust_clas_itg_cd_V                              -0.003049   \n",
       "cont_sttus_itg_cd_10002                          0.000793   \n",
       "cont_sttus_itg_cd_10003                          0.004900   \n",
       "cont_sttus_itg_cd_10004                          0.005517   \n",
       "cont_sttus_itg_cd_10005                          0.026736   \n",
       "cont_sttus_itg_cd_10006                          0.003266   \n",
       "cont_sttus_itg_cd_10007                          0.010306   \n",
       "cust_dtl_ctg_itg_cd_10002                       -0.132843   \n",
       "cust_dtl_ctg_itg_cd_10003                       -0.459384   \n",
       "cust_dtl_ctg_itg_cd_10004                       -0.001811   \n",
       "cust_dtl_ctg_itg_cd_10011                       -0.016520   \n",
       "cust_dtl_ctg_itg_cd_10013                       -0.002864   \n",
       "cust_dtl_ctg_itg_cd_10018                       -0.015997   \n",
       "cust_dtl_ctg_itg_cd_10019                       -0.069534   \n",
       "cust_dtl_ctg_itg_cd_90024                       -0.038915   \n",
       "cust_dtl_ctg_itg_cd_90027                       -0.054901   \n",
       "cust_dtl_ctg_itg_cd_90029                        1.000000   \n",
       "cust_dtl_ctg_itg_cd_90030                       -0.018720   \n",
       "cust_dtl_ctg_itg_cd_90056                       -0.073394   \n",
       "trm_yn_Y                                         0.022793   \n",
       "\n",
       "                                cust_dtl_ctg_itg_cd_90030  \\\n",
       "voc_prod_sbt_id                                  0.005387   \n",
       "voc_wjt_sorc_id                                 -0.016162   \n",
       "voc_type_itg_cd                                  0.013457   \n",
       "voc_sttus_itg_cd                                 0.005077   \n",
       "cust_pty_sbt_id                                  0.016315   \n",
       "bprod_sbt_id                                     0.019895   \n",
       "age_itg_cd                                      -0.019616   \n",
       "voc_trt_degr_div_itg_cd                         -0.003595   \n",
       "voc_dupl_tmscnt                                 -0.002746   \n",
       "voc_trt_need_time_itg_cd                         0.000206   \n",
       "cust_snsry_base_conf_need_time                  -0.001276   \n",
       "cust_clas_itg_cd_G                               0.002963   \n",
       "cust_clas_itg_cd_H                              -0.001022   \n",
       "cust_clas_itg_cd_I                              -0.003421   \n",
       "cust_clas_itg_cd_J                              -0.007352   \n",
       "cust_clas_itg_cd_L                               0.013746   \n",
       "cust_clas_itg_cd_M                              -0.000776   \n",
       "cust_clas_itg_cd_O                              -0.003364   \n",
       "cust_clas_itg_cd_R                              -0.000259   \n",
       "cust_clas_itg_cd_V                              -0.000477   \n",
       "cont_sttus_itg_cd_10002                          0.002472   \n",
       "cont_sttus_itg_cd_10003                          0.000291   \n",
       "cont_sttus_itg_cd_10004                         -0.000961   \n",
       "cont_sttus_itg_cd_10005                         -0.009971   \n",
       "cont_sttus_itg_cd_10006                          0.002092   \n",
       "cont_sttus_itg_cd_10007                         -0.007133   \n",
       "cust_dtl_ctg_itg_cd_10002                       -0.020777   \n",
       "cust_dtl_ctg_itg_cd_10003                       -0.071848   \n",
       "cust_dtl_ctg_itg_cd_10004                       -0.000283   \n",
       "cust_dtl_ctg_itg_cd_10011                       -0.002584   \n",
       "cust_dtl_ctg_itg_cd_10013                       -0.000448   \n",
       "cust_dtl_ctg_itg_cd_10018                       -0.002502   \n",
       "cust_dtl_ctg_itg_cd_10019                       -0.010875   \n",
       "cust_dtl_ctg_itg_cd_90024                       -0.006086   \n",
       "cust_dtl_ctg_itg_cd_90027                       -0.008587   \n",
       "cust_dtl_ctg_itg_cd_90029                       -0.018720   \n",
       "cust_dtl_ctg_itg_cd_90030                        1.000000   \n",
       "cust_dtl_ctg_itg_cd_90056                       -0.011479   \n",
       "trm_yn_Y                                        -0.007518   \n",
       "\n",
       "                                cust_dtl_ctg_itg_cd_90056  trm_yn_Y  \n",
       "voc_prod_sbt_id                                 -0.027045 -0.015519  \n",
       "voc_wjt_sorc_id                                 -0.064972  0.070783  \n",
       "voc_type_itg_cd                                 -0.047608  0.006737  \n",
       "voc_sttus_itg_cd                                -0.010877 -0.000070  \n",
       "cust_pty_sbt_id                                  0.120901  0.003449  \n",
       "bprod_sbt_id                                     0.077589  0.058290  \n",
       "age_itg_cd                                       0.006602  0.006919  \n",
       "voc_trt_degr_div_itg_cd                          0.004237  0.097521  \n",
       "voc_dupl_tmscnt                                  0.010270  0.024565  \n",
       "voc_trt_need_time_itg_cd                        -0.004077  0.025152  \n",
       "cust_snsry_base_conf_need_time                  -0.004733  0.013979  \n",
       "cust_clas_itg_cd_G                              -0.095177  0.025756  \n",
       "cust_clas_itg_cd_H                              -0.004005 -0.003004  \n",
       "cust_clas_itg_cd_I                              -0.078021  0.007416  \n",
       "cust_clas_itg_cd_J                              -0.068970 -0.001294  \n",
       "cust_clas_itg_cd_L                               0.212331 -0.044905  \n",
       "cust_clas_itg_cd_M                              -0.003042 -0.002282  \n",
       "cust_clas_itg_cd_O                              -0.033416 -0.007570  \n",
       "cust_clas_itg_cd_R                              -0.001014 -0.000760  \n",
       "cust_clas_itg_cd_V                              -0.001870 -0.001402  \n",
       "cont_sttus_itg_cd_10002                          0.023357  0.015441  \n",
       "cont_sttus_itg_cd_10003                          0.005505  0.041022  \n",
       "cont_sttus_itg_cd_10004                          0.001304  0.022050  \n",
       "cont_sttus_itg_cd_10005                          0.000921 -0.037229  \n",
       "cont_sttus_itg_cd_10006                          0.004526 -0.006349  \n",
       "cont_sttus_itg_cd_10007                          0.019621  0.146920  \n",
       "cust_dtl_ctg_itg_cd_10002                       -0.081459  0.048778  \n",
       "cust_dtl_ctg_itg_cd_10003                       -0.281692 -0.046000  \n",
       "cust_dtl_ctg_itg_cd_10004                       -0.001111 -0.000833  \n",
       "cust_dtl_ctg_itg_cd_10011                       -0.010130 -0.006362  \n",
       "cust_dtl_ctg_itg_cd_10013                       -0.001756 -0.001317  \n",
       "cust_dtl_ctg_itg_cd_10018                       -0.009809  0.004765  \n",
       "cust_dtl_ctg_itg_cd_10019                       -0.042638 -0.017046  \n",
       "cust_dtl_ctg_itg_cd_90024                       -0.023863 -0.005972  \n",
       "cust_dtl_ctg_itg_cd_90027                       -0.033665 -0.000337  \n",
       "cust_dtl_ctg_itg_cd_90029                       -0.073394  0.022793  \n",
       "cust_dtl_ctg_itg_cd_90030                       -0.011479 -0.007518  \n",
       "cust_dtl_ctg_itg_cd_90056                        1.000000  0.016129  \n",
       "trm_yn_Y                                         0.016129  1.000000  \n",
       "\n",
       "[39 rows x 39 columns]"
      ]
     },
     "execution_count": 84,
     "metadata": {},
     "output_type": "execute_result"
    }
   ],
   "source": [
    "# 'df1' DataFrame의 corr() 함수 사용\n",
    "\n",
    "\n",
    "\n",
    "df1.corr()"
   ]
  },
  {
   "cell_type": "markdown",
   "metadata": {},
   "source": [
    "- 상관관계 히트맵(heatmap) 출력"
   ]
  },
  {
   "cell_type": "code",
   "execution_count": 85,
   "metadata": {},
   "outputs": [
    {
     "data": {
      "text/html": [
       "<div>\n",
       "<style scoped>\n",
       "    .dataframe tbody tr th:only-of-type {\n",
       "        vertical-align: middle;\n",
       "    }\n",
       "\n",
       "    .dataframe tbody tr th {\n",
       "        vertical-align: top;\n",
       "    }\n",
       "\n",
       "    .dataframe thead th {\n",
       "        text-align: right;\n",
       "    }\n",
       "</style>\n",
       "<table border=\"1\" class=\"dataframe\">\n",
       "  <thead>\n",
       "    <tr style=\"text-align: right;\">\n",
       "      <th></th>\n",
       "      <th>voc_wjt_sorc_id</th>\n",
       "      <th>voc_type_itg_cd</th>\n",
       "      <th>voc_sttus_itg_cd</th>\n",
       "      <th>cust_pty_sbt_id</th>\n",
       "      <th>bprod_sbt_id</th>\n",
       "      <th>age_itg_cd</th>\n",
       "    </tr>\n",
       "  </thead>\n",
       "  <tbody>\n",
       "    <tr>\n",
       "      <th>voc_wjt_sorc_id</th>\n",
       "      <td>1.000000</td>\n",
       "      <td>0.006591</td>\n",
       "      <td>-0.001799</td>\n",
       "      <td>-0.080261</td>\n",
       "      <td>-0.111116</td>\n",
       "      <td>0.053726</td>\n",
       "    </tr>\n",
       "    <tr>\n",
       "      <th>voc_type_itg_cd</th>\n",
       "      <td>0.006591</td>\n",
       "      <td>1.000000</td>\n",
       "      <td>-0.060441</td>\n",
       "      <td>0.026023</td>\n",
       "      <td>-0.095614</td>\n",
       "      <td>-0.076323</td>\n",
       "    </tr>\n",
       "    <tr>\n",
       "      <th>voc_sttus_itg_cd</th>\n",
       "      <td>-0.001799</td>\n",
       "      <td>-0.060441</td>\n",
       "      <td>1.000000</td>\n",
       "      <td>-0.000667</td>\n",
       "      <td>-0.000345</td>\n",
       "      <td>-0.000082</td>\n",
       "    </tr>\n",
       "    <tr>\n",
       "      <th>cust_pty_sbt_id</th>\n",
       "      <td>-0.080261</td>\n",
       "      <td>0.026023</td>\n",
       "      <td>-0.000667</td>\n",
       "      <td>1.000000</td>\n",
       "      <td>-0.007884</td>\n",
       "      <td>-0.206444</td>\n",
       "    </tr>\n",
       "    <tr>\n",
       "      <th>bprod_sbt_id</th>\n",
       "      <td>-0.111116</td>\n",
       "      <td>-0.095614</td>\n",
       "      <td>-0.000345</td>\n",
       "      <td>-0.007884</td>\n",
       "      <td>1.000000</td>\n",
       "      <td>-0.010612</td>\n",
       "    </tr>\n",
       "    <tr>\n",
       "      <th>age_itg_cd</th>\n",
       "      <td>0.053726</td>\n",
       "      <td>-0.076323</td>\n",
       "      <td>-0.000082</td>\n",
       "      <td>-0.206444</td>\n",
       "      <td>-0.010612</td>\n",
       "      <td>1.000000</td>\n",
       "    </tr>\n",
       "  </tbody>\n",
       "</table>\n",
       "</div>"
      ],
      "text/plain": [
       "                  voc_wjt_sorc_id  voc_type_itg_cd  voc_sttus_itg_cd  \\\n",
       "voc_wjt_sorc_id          1.000000         0.006591         -0.001799   \n",
       "voc_type_itg_cd          0.006591         1.000000         -0.060441   \n",
       "voc_sttus_itg_cd        -0.001799        -0.060441          1.000000   \n",
       "cust_pty_sbt_id         -0.080261         0.026023         -0.000667   \n",
       "bprod_sbt_id            -0.111116        -0.095614         -0.000345   \n",
       "age_itg_cd               0.053726        -0.076323         -0.000082   \n",
       "\n",
       "                  cust_pty_sbt_id  bprod_sbt_id  age_itg_cd  \n",
       "voc_wjt_sorc_id         -0.080261     -0.111116    0.053726  \n",
       "voc_type_itg_cd          0.026023     -0.095614   -0.076323  \n",
       "voc_sttus_itg_cd        -0.000667     -0.000345   -0.000082  \n",
       "cust_pty_sbt_id          1.000000     -0.007884   -0.206444  \n",
       "bprod_sbt_id            -0.007884      1.000000   -0.010612  \n",
       "age_itg_cd              -0.206444     -0.010612    1.000000  "
      ]
     },
     "execution_count": 85,
     "metadata": {},
     "output_type": "execute_result"
    }
   ],
   "source": [
    "corr = df1[['voc_wjt_sorc_id','voc_type_itg_cd','voc_sttus_itg_cd','cust_pty_sbt_id','bprod_sbt_id','age_itg_cd']].corr()\n",
    "corr"
   ]
  },
  {
   "cell_type": "markdown",
   "metadata": {},
   "source": [
    "<br>\n",
    "<font color=blue>[문제] df1 데이터 상관관계를 나타내는 corr를 이용해서 heatmap으로 표현하세요</font>"
   ]
  },
  {
   "cell_type": "code",
   "execution_count": 86,
   "metadata": {},
   "outputs": [
    {
     "data": {
      "text/plain": [
       "<matplotlib.axes._subplots.AxesSubplot at 0x7f17187e5a20>"
      ]
     },
     "execution_count": 86,
     "metadata": {},
     "output_type": "execute_result"
    },
    {
     "data": {
      "image/png": "[encoded data removed]",
      "text/plain": [
       "<Figure size 864x576 with 2 Axes>"
      ]
     },
     "metadata": {},
     "output_type": "display_data"
    }
   ],
   "source": [
    "# sns의 heatmap() 함수 사용\n",
    "# -옵션 : annot=True\n",
    "# 사이즈 지정 : sns.set(rc={'figure.figsize':(12,8)})\n",
    "\n",
    "\n",
    "\n",
    "sns.set(rc={'figure.figsize':(12,8)})\n",
    "sns.heatmap(corr, annot=True)"
   ]
  },
  {
   "cell_type": "markdown",
   "metadata": {},
   "source": [
    "- pairplot : ['voc_prod_sbt_id', 'bprod_sbt_id', 'voc_trt_degr_div_itg_cd','trm_yn']"
   ]
  },
  {
   "cell_type": "code",
   "execution_count": 87,
   "metadata": {},
   "outputs": [
    {
     "name": "stdout",
     "output_type": "stream",
     "text": [
      "CPU times: user 7.15 s, sys: 270 ms, total: 7.42 s\n",
      "Wall time: 7.43 s\n"
     ]
    },
    {
     "data": {
      "text/plain": [
       "<seaborn.axisgrid.PairGrid at 0x7f1717e66780>"
      ]
     },
     "execution_count": 87,
     "metadata": {},
     "output_type": "execute_result"
    },
    {
     "data": {
      "image/png": "[encoded data removed]",
      "text/plain": [
       "<Figure size 360x360 with 6 Axes>"
      ]
     },
     "metadata": {},
     "output_type": "display_data"
    }
   ],
   "source": [
    "%%time\n",
    "#sns.pairplot(df1[['voc_prod_sbt_id', 'bprod_sbt_id', 'voc_trt_degr_div_itg_cd','trm_yn_Y']])\n",
    "sns.pairplot(df1.loc[0:100, ['voc_prod_sbt_id', 'trm_yn_Y']])"
   ]
  },
  {
   "cell_type": "code",
   "execution_count": 88,
   "metadata": {},
   "outputs": [
    {
     "data": {
      "text/plain": [
       "<matplotlib.axes._subplots.AxesSubplot at 0x7f16fa869630>"
      ]
     },
     "execution_count": 88,
     "metadata": {},
     "output_type": "execute_result"
    },
    {
     "data": {
      "image/png": "[encoded data removed]",
      "text/plain": [
       "<Figure size 1008x288 with 3 Axes>"
      ]
     },
     "metadata": {},
     "output_type": "display_data"
    }
   ],
   "source": [
    "# scatterplot\n",
    "fig,(ax1,ax2,ax3) = plt.subplots(1,3)\n",
    "fig.set_size_inches(14, 4)\n",
    "sns.scatterplot(data=df1, x='voc_prod_sbt_id', y='trm_yn_Y', ax=ax1)\n",
    "sns.scatterplot(data=df1, x='bprod_sbt_id', y='trm_yn_Y', ax=ax2)\n",
    "sns.scatterplot(data=df1, x='voc_trt_degr_div_itg_cd', y='trm_yn_Y', ax=ax3)"
   ]
  },
  {
   "cell_type": "markdown",
   "metadata": {},
   "source": [
    "- distplot: voc_prod_sbt_id, bprod_sbt_id, voc_trt_degr_div_itg_cd"
   ]
  },
  {
   "cell_type": "code",
   "execution_count": 89,
   "metadata": {},
   "outputs": [
    {
     "data": {
      "text/plain": [
       "<matplotlib.axes._subplots.AxesSubplot at 0x7f16fa759550>"
      ]
     },
     "execution_count": 89,
     "metadata": {},
     "output_type": "execute_result"
    },
    {
     "data": {
      "image/png": "[encoded data removed]",
      "text/plain": [
       "<Figure size 720x288 with 1 Axes>"
      ]
     },
     "metadata": {},
     "output_type": "display_data"
    }
   ],
   "source": [
    "plt.figure(figsize=(10,4))\n",
    "df1['bprod_sbt_id'].plot(kind='hist')  # plt.hist(df1['bprod_sbt_id'])"
   ]
  },
  {
   "cell_type": "code",
   "execution_count": 90,
   "metadata": {},
   "outputs": [
    {
     "data": {
      "text/plain": [
       "0    213490\n",
       "1      5405\n",
       "Name: trm_yn_Y, dtype: int64"
      ]
     },
     "execution_count": 90,
     "metadata": {},
     "output_type": "execute_result"
    }
   ],
   "source": [
    "vc = df1['trm_yn_Y'].value_counts()\n",
    "vc"
   ]
  },
  {
   "cell_type": "code",
   "execution_count": 91,
   "metadata": {},
   "outputs": [
    {
     "data": {
      "text/plain": [
       "<BarContainer object of 2 artists>"
      ]
     },
     "execution_count": 91,
     "metadata": {},
     "output_type": "execute_result"
    },
    {
     "data": {
      "image/png": "[encoded data removed]",
      "text/plain": [
       "<Figure size 720x288 with 1 Axes>"
      ]
     },
     "metadata": {},
     "output_type": "display_data"
    }
   ],
   "source": [
    "plt.figure(figsize=(10,4))\n",
    "plt.bar(x=[0,1], height=vc, width=0.1)"
   ]
  },
  {
   "cell_type": "markdown",
   "metadata": {},
   "source": [
    "# \n",
    "# 8. 머신러닝 모델 구현"
   ]
  },
  {
   "cell_type": "markdown",
   "metadata": {},
   "source": [
    "### 로지스틱 회귀 (LogisticRegression, 분류)"
   ]
  },
  {
   "cell_type": "code",
   "execution_count": 92,
   "metadata": {},
   "outputs": [],
   "source": [
    "from sklearn.linear_model import LogisticRegression\n",
    "from sklearn.metrics import confusion_matrix \n",
    "from sklearn.metrics import accuracy_score, precision_score, recall_score, f1_score\n",
    "from sklearn.metrics import classification_report"
   ]
  },
  {
   "cell_type": "code",
   "execution_count": 93,
   "metadata": {},
   "outputs": [
    {
     "name": "stdout",
     "output_type": "stream",
     "text": [
      "CPU times: user 24.6 s, sys: 46 s, total: 1min 10s\n",
      "Wall time: 1min 12s\n"
     ]
    },
    {
     "data": {
      "text/plain": [
       "LogisticRegression(max_iter=2000)"
      ]
     },
     "execution_count": 93,
     "metadata": {},
     "output_type": "execute_result"
    }
   ],
   "source": [
    "%%time\n",
    "model = LogisticRegression(C=1.0,max_iter=2000)\n",
    "model.fit(X_train, y_train)"
   ]
  },
  {
   "cell_type": "markdown",
   "metadata": {},
   "source": [
    "- 분류기 성능 평가(score)"
   ]
  },
  {
   "cell_type": "code",
   "execution_count": 94,
   "metadata": {},
   "outputs": [
    {
     "data": {
      "text/plain": [
       "0.9750565339546358"
      ]
     },
     "execution_count": 94,
     "metadata": {},
     "output_type": "execute_result"
    }
   ],
   "source": [
    "model.score(X_test, y_test)"
   ]
  },
  {
   "cell_type": "markdown",
   "metadata": {},
   "source": [
    "- 분류기 성능 평가 지표"
   ]
  },
  {
   "cell_type": "code",
   "execution_count": 95,
   "metadata": {},
   "outputs": [],
   "source": [
    "pred = model.predict(X_test)"
   ]
  },
  {
   "cell_type": "code",
   "execution_count": 96,
   "metadata": {},
   "outputs": [
    {
     "data": {
      "text/plain": [
       "array([[42675,    23],\n",
       "       [ 1069,    12]])"
      ]
     },
     "execution_count": 96,
     "metadata": {},
     "output_type": "execute_result"
    }
   ],
   "source": [
    "# 오차행렬\n",
    "# TN  FP\n",
    "# FN  TP\n",
    "\n",
    "confusion_matrix(y_test, pred) "
   ]
  },
  {
   "cell_type": "code",
   "execution_count": 97,
   "metadata": {},
   "outputs": [
    {
     "data": {
      "text/plain": [
       "0.9750565339546358"
      ]
     },
     "execution_count": 97,
     "metadata": {},
     "output_type": "execute_result"
    }
   ],
   "source": [
    "# 정확도 : 굉장히 높다\n",
    "accuracy_score(y_test, pred)  "
   ]
  },
  {
   "cell_type": "code",
   "execution_count": 98,
   "metadata": {},
   "outputs": [
    {
     "data": {
      "text/plain": [
       "0.34285714285714286"
      ]
     },
     "execution_count": 98,
     "metadata": {},
     "output_type": "execute_result"
    }
   ],
   "source": [
    "# 정밀도\n",
    "precision_score(y_test, pred) "
   ]
  },
  {
   "cell_type": "code",
   "execution_count": 99,
   "metadata": {},
   "outputs": [
    {
     "data": {
      "text/plain": [
       "0.011100832562442183"
      ]
     },
     "execution_count": 99,
     "metadata": {},
     "output_type": "execute_result"
    }
   ],
   "source": [
    "# 재현율 : 굉장히 낮다.\n",
    "recall_score(y_test, pred)  "
   ]
  },
  {
   "cell_type": "code",
   "execution_count": 100,
   "metadata": {},
   "outputs": [
    {
     "data": {
      "text/plain": [
       "0.02150537634408602"
      ]
     },
     "execution_count": 100,
     "metadata": {},
     "output_type": "execute_result"
    }
   ],
   "source": [
    "# 정밀도 + 재현율\n",
    "f1_score(y_test, pred) "
   ]
  },
  {
   "cell_type": "markdown",
   "metadata": {},
   "source": [
    "- 분류기 성능 평가(classification_report)"
   ]
  },
  {
   "cell_type": "code",
   "execution_count": 101,
   "metadata": {},
   "outputs": [
    {
     "name": "stdout",
     "output_type": "stream",
     "text": [
      "              precision    recall  f1-score   support\n",
      "\n",
      "     class 0       0.98      1.00      0.99     42698\n",
      "     class 1       0.34      0.01      0.02      1081\n",
      "\n",
      "    accuracy                           0.98     43779\n",
      "   macro avg       0.66      0.51      0.50     43779\n",
      "weighted avg       0.96      0.98      0.96     43779\n",
      "\n"
     ]
    }
   ],
   "source": [
    "print(classification_report(y_test, pred, target_names=['class 0', 'class 1']))"
   ]
  },
  {
   "cell_type": "markdown",
   "metadata": {},
   "source": [
    "###  \n",
    "###  결정트리(DecisionTree)"
   ]
  },
  {
   "cell_type": "code",
   "execution_count": 102,
   "metadata": {},
   "outputs": [],
   "source": [
    "from sklearn.tree import DecisionTreeClassifier"
   ]
  },
  {
   "cell_type": "code",
   "execution_count": 103,
   "metadata": {},
   "outputs": [],
   "source": [
    "clf = DecisionTreeClassifier(max_depth=10, random_state=42)"
   ]
  },
  {
   "cell_type": "code",
   "execution_count": 104,
   "metadata": {},
   "outputs": [
    {
     "data": {
      "text/plain": [
       "DecisionTreeClassifier(max_depth=10, random_state=42)"
      ]
     },
     "execution_count": 104,
     "metadata": {},
     "output_type": "execute_result"
    }
   ],
   "source": [
    "clf.fit(X_train, y_train)"
   ]
  },
  {
   "cell_type": "code",
   "execution_count": 105,
   "metadata": {},
   "outputs": [
    {
     "data": {
      "text/plain": [
       "0.975147901962128"
      ]
     },
     "execution_count": 105,
     "metadata": {},
     "output_type": "execute_result"
    }
   ],
   "source": [
    "clf.score(X_test, y_test)"
   ]
  },
  {
   "cell_type": "markdown",
   "metadata": {},
   "source": [
    "###  \n",
    "###  랜덤포레스트(RandomForest)\n",
    "+ Bagging 대표적인 모델로써, 훈련셋트를 무작위로 각기 다른 서브셋으로 데이터셋을 만들고\n",
    "+ 여러개의 DecisonTree로 학습하고 다수결로 결정하는 모델"
   ]
  },
  {
   "cell_type": "code",
   "execution_count": 106,
   "metadata": {},
   "outputs": [],
   "source": [
    "from sklearn.ensemble import RandomForestClassifier"
   ]
  },
  {
   "cell_type": "code",
   "execution_count": 107,
   "metadata": {},
   "outputs": [],
   "source": [
    "rfc = RandomForestClassifier(n_estimators=100, random_state=42)"
   ]
  },
  {
   "cell_type": "code",
   "execution_count": 108,
   "metadata": {},
   "outputs": [
    {
     "data": {
      "text/plain": [
       "RandomForestClassifier(random_state=42)"
      ]
     },
     "execution_count": 108,
     "metadata": {},
     "output_type": "execute_result"
    }
   ],
   "source": [
    "rfc.fit(X_train, y_train)"
   ]
  },
  {
   "cell_type": "code",
   "execution_count": 109,
   "metadata": {},
   "outputs": [
    {
     "data": {
      "text/plain": [
       "0.9774321021494323"
      ]
     },
     "execution_count": 109,
     "metadata": {},
     "output_type": "execute_result"
    }
   ],
   "source": [
    "rfc.score(X_test, y_test)"
   ]
  },
  {
   "cell_type": "markdown",
   "metadata": {},
   "source": [
    "###  \n",
    "###  XGBoost\n",
    "+ 여러개의 DecisionTree를 결합하여 Strong Learner 만드는 Boosting 앙상블 기법\n",
    "+ Kaggle 대회에서 자주 사용하는 모델이다."
   ]
  },
  {
   "cell_type": "code",
   "execution_count": 110,
   "metadata": {},
   "outputs": [
    {
     "name": "stdout",
     "output_type": "stream",
     "text": [
      "Looking in indexes: http://10.220.235.19/pypi/simple\n",
      "Requirement already satisfied: xgboost in /usr/local/lib/python3.6/dist-packages (1.4.0)\n",
      "Requirement already satisfied: numpy in /usr/local/lib/python3.6/dist-packages (from xgboost) (1.16.4)\n",
      "Requirement already satisfied: scipy in /usr/local/lib/python3.6/dist-packages (from xgboost) (1.4.1)\n",
      "\u001b[33mWARNING: You are using pip version 20.1; however, version 21.0.1 is available.\n",
      "You should consider upgrading via the '/usr/bin/python3 -m pip install --upgrade pip' command.\u001b[0m\n"
     ]
    }
   ],
   "source": [
    "!pip install xgboost"
   ]
  },
  {
   "cell_type": "code",
   "execution_count": 111,
   "metadata": {},
   "outputs": [],
   "source": [
    "import xgboost as xgb"
   ]
  },
  {
   "cell_type": "code",
   "execution_count": 112,
   "metadata": {},
   "outputs": [
    {
     "name": "stdout",
     "output_type": "stream",
     "text": [
      "[17:53:18] WARNING: ../src/learner.cc:1095: Starting in XGBoost 1.3.0, the default evaluation metric used with the objective 'binary:logistic' was changed from 'error' to 'logloss'. Explicitly set eval_metric if you'd like to restore the old behavior.\n",
      "CPU times: user 35.4 s, sys: 0 ns, total: 35.4 s\n",
      "Wall time: 35.6 s\n"
     ]
    },
    {
     "data": {
      "text/plain": [
       "XGBClassifier(base_score=0.5, booster='gbtree', colsample_bylevel=1,\n",
       "              colsample_bynode=1, colsample_bytree=1, gamma=0, gpu_id=-1,\n",
       "              importance_type='gain', interaction_constraints='',\n",
       "              learning_rate=0.300000012, max_delta_step=0, max_depth=6,\n",
       "              min_child_weight=1, missing=nan, monotone_constraints='()',\n",
       "              n_estimators=5, n_jobs=56, num_parallel_tree=1, random_state=0,\n",
       "              reg_alpha=0, reg_lambda=1, scale_pos_weight=1, subsample=1,\n",
       "              tree_method='exact', validate_parameters=1, verbosity=None)"
      ]
     },
     "execution_count": 112,
     "metadata": {},
     "output_type": "execute_result"
    }
   ],
   "source": [
    "%%time\n",
    "xgb_model = xgb.XGBClassifier(n_estimators=5)\n",
    "xgb_model.fit(X_train, y_train)"
   ]
  },
  {
   "cell_type": "code",
   "execution_count": 113,
   "metadata": {},
   "outputs": [],
   "source": [
    "y_pred = xgb_model.predict(X_test)"
   ]
  },
  {
   "cell_type": "code",
   "execution_count": 114,
   "metadata": {},
   "outputs": [
    {
     "name": "stdout",
     "output_type": "stream",
     "text": [
      "[[42652    46]\n",
      " [ 1011    70]]\n"
     ]
    }
   ],
   "source": [
    "print(confusion_matrix(y_test, y_pred))"
   ]
  },
  {
   "cell_type": "code",
   "execution_count": 115,
   "metadata": {},
   "outputs": [
    {
     "data": {
      "text/plain": [
       "0.9758560040201923"
      ]
     },
     "execution_count": 115,
     "metadata": {},
     "output_type": "execute_result"
    }
   ],
   "source": [
    "xgb_model.score(X_test, y_test)"
   ]
  },
  {
   "cell_type": "markdown",
   "metadata": {},
   "source": [
    "###  \n",
    "###  Light GBM\n",
    "+ XGBoost와 함께 주목받는 DecisionTree 알고리즘 기반의 Boosting 앙상블 기법\n",
    "+ XGBoost에 비해 학습시간이 짧은 편이다."
   ]
  },
  {
   "cell_type": "code",
   "execution_count": 116,
   "metadata": {},
   "outputs": [
    {
     "name": "stdout",
     "output_type": "stream",
     "text": [
      "Looking in indexes: http://10.220.235.19/pypi/simple\n",
      "Requirement already satisfied: lightgbm in /usr/local/lib/python3.6/dist-packages (3.2.1)\n",
      "Requirement already satisfied: scipy in /usr/local/lib/python3.6/dist-packages (from lightgbm) (1.4.1)\n",
      "Requirement already satisfied: wheel in /usr/lib/python3/dist-packages (from lightgbm) (0.30.0)\n",
      "Requirement already satisfied: numpy in /usr/local/lib/python3.6/dist-packages (from lightgbm) (1.16.4)\n",
      "Requirement already satisfied: scikit-learn!=0.22.0 in /usr/local/lib/python3.6/dist-packages (from lightgbm) (0.23.1)\n",
      "Requirement already satisfied: joblib>=0.11 in /usr/local/lib/python3.6/dist-packages (from scikit-learn!=0.22.0->lightgbm) (0.15.1)\n",
      "Requirement already satisfied: threadpoolctl>=2.0.0 in /usr/local/lib/python3.6/dist-packages (from scikit-learn!=0.22.0->lightgbm) (2.1.0)\n",
      "\u001b[33mWARNING: You are using pip version 20.1; however, version 21.0.1 is available.\n",
      "You should consider upgrading via the '/usr/bin/python3 -m pip install --upgrade pip' command.\u001b[0m\n"
     ]
    }
   ],
   "source": [
    "!pip install lightgbm"
   ]
  },
  {
   "cell_type": "code",
   "execution_count": 117,
   "metadata": {},
   "outputs": [],
   "source": [
    "from lightgbm import LGBMClassifier"
   ]
  },
  {
   "cell_type": "code",
   "execution_count": 118,
   "metadata": {},
   "outputs": [
    {
     "name": "stdout",
     "output_type": "stream",
     "text": [
      "CPU times: user 1min 10s, sys: 0 ns, total: 1min 10s\n",
      "Wall time: 1min 11s\n"
     ]
    },
    {
     "data": {
      "text/plain": [
       "LGBMClassifier(n_estimators=3)"
      ]
     },
     "execution_count": 118,
     "metadata": {},
     "output_type": "execute_result"
    }
   ],
   "source": [
    "%%time\n",
    "lgbm_model = LGBMClassifier(n_estimators=3)\n",
    "lgbm_model.fit(X_train, y_train)"
   ]
  },
  {
   "cell_type": "code",
   "execution_count": 119,
   "metadata": {},
   "outputs": [],
   "source": [
    "y_pred = lgbm_model.predict(X_test)"
   ]
  },
  {
   "cell_type": "code",
   "execution_count": 120,
   "metadata": {},
   "outputs": [
    {
     "name": "stdout",
     "output_type": "stream",
     "text": [
      "[[42698     0]\n",
      " [ 1077     4]]\n"
     ]
    }
   ],
   "source": [
    "print(confusion_matrix(y_test, y_pred))"
   ]
  },
  {
   "cell_type": "code",
   "execution_count": 121,
   "metadata": {},
   "outputs": [
    {
     "data": {
      "text/plain": [
       "0.9753991639827314"
      ]
     },
     "execution_count": 121,
     "metadata": {},
     "output_type": "execute_result"
    }
   ],
   "source": [
    "lgbm_model.score(X_test, y_test)"
   ]
  },
  {
   "cell_type": "markdown",
   "metadata": {},
   "source": [
    "###  \n",
    "###  선형회귀(Linear Regression, 예측)"
   ]
  },
  {
   "cell_type": "code",
   "execution_count": 122,
   "metadata": {},
   "outputs": [],
   "source": [
    "from sklearn.linear_model import LinearRegression"
   ]
  },
  {
   "cell_type": "code",
   "execution_count": 123,
   "metadata": {},
   "outputs": [],
   "source": [
    "x_data = np.array([1.6, 2.3, 3.5, 4.6]).reshape(-1,1)\n",
    "y_data = np.array([3.3, 5.5, 7.2, 9.9])"
   ]
  },
  {
   "cell_type": "code",
   "execution_count": 124,
   "metadata": {},
   "outputs": [],
   "source": [
    "lr = LinearRegression()"
   ]
  },
  {
   "cell_type": "code",
   "execution_count": 125,
   "metadata": {},
   "outputs": [
    {
     "data": {
      "text/plain": [
       "LinearRegression()"
      ]
     },
     "execution_count": 125,
     "metadata": {},
     "output_type": "execute_result"
    }
   ],
   "source": [
    "lr.fit(x_data, y_data)"
   ]
  },
  {
   "cell_type": "code",
   "execution_count": 126,
   "metadata": {},
   "outputs": [
    {
     "data": {
      "text/plain": [
       "0.9824368480454886"
      ]
     },
     "execution_count": 126,
     "metadata": {},
     "output_type": "execute_result"
    }
   ],
   "source": [
    "lr.score(x_data, y_data)"
   ]
  },
  {
   "cell_type": "code",
   "execution_count": 127,
   "metadata": {},
   "outputs": [
    {
     "data": {
      "text/plain": [
       "array([10.64610266])"
      ]
     },
     "execution_count": 127,
     "metadata": {},
     "output_type": "execute_result"
    }
   ],
   "source": [
    "lr.predict([[5]])"
   ]
  },
  {
   "cell_type": "markdown",
   "metadata": {},
   "source": [
    "#  \n",
    "# 9. 딥러닝 심층신경망 모델 구현"
   ]
  },
  {
   "cell_type": "code",
   "execution_count": 128,
   "metadata": {},
   "outputs": [],
   "source": [
    "from tensorflow.keras.models import Sequential, load_model\n",
    "from tensorflow.keras.layers import Dense, Dropout\n",
    "from tensorflow.keras.callbacks import EarlyStopping, ModelCheckpoint\n",
    "from tensorflow.keras.utils import to_categorical"
   ]
  },
  {
   "cell_type": "markdown",
   "metadata": {},
   "source": [
    "### 하이퍼파라미터 설정 : batch_size, epochs"
   ]
  },
  {
   "cell_type": "code",
   "execution_count": 129,
   "metadata": {},
   "outputs": [],
   "source": [
    "batch_size = 1024\n",
    "epochs = 50"
   ]
  },
  {
   "cell_type": "markdown",
   "metadata": {},
   "source": [
    "### 모델 입력(features) 갯수 확인"
   ]
  },
  {
   "cell_type": "code",
   "execution_count": 130,
   "metadata": {},
   "outputs": [
    {
     "data": {
      "text/plain": [
       "(175116, 38)"
      ]
     },
     "execution_count": 130,
     "metadata": {},
     "output_type": "execute_result"
    }
   ],
   "source": [
    "X_train.shape"
   ]
  },
  {
   "cell_type": "markdown",
   "metadata": {},
   "source": [
    "### 모델 출력(label) 갯수 확인"
   ]
  },
  {
   "cell_type": "code",
   "execution_count": 131,
   "metadata": {},
   "outputs": [
    {
     "data": {
      "text/plain": [
       "(175116,)"
      ]
     },
     "execution_count": 131,
     "metadata": {},
     "output_type": "execute_result"
    }
   ],
   "source": [
    "y_train.shape"
   ]
  },
  {
   "cell_type": "markdown",
   "metadata": {},
   "source": [
    "### 1) 이진분류 모델 생성 : Sequential 모델"
   ]
  },
  {
   "cell_type": "markdown",
   "metadata": {},
   "source": [
    "<br>\n",
    "<font color=blue>[문제] Sequential 모델 정의하세요.</font>"
   ]
  },
  {
   "cell_type": "code",
   "execution_count": 132,
   "metadata": {},
   "outputs": [],
   "source": [
    "# Tensoflow의 Sequential() 함수 선어\n",
    "# 결과 저장 : model\n",
    "\n",
    "\n",
    "model = Sequential()"
   ]
  },
  {
   "cell_type": "markdown",
   "metadata": {},
   "source": [
    "<br>\n",
    "<font color=blue>[문제] 3개의 Hidden Layer을 쌓으세요.</font>"
   ]
  },
  {
   "cell_type": "markdown",
   "metadata": {},
   "source": [
    "+ 첫번째 Hidden Layer : unit 64 , activation='relu'\n",
    "+ 두번째 Hidden Layer : unit 32 , activation='relu'\n",
    "+ 세번째 Hidden Layer : unit 16 , activation='relu'\n",
    "+ 각 Hidden Layer 마다 Dropout 0.2 비율로 되도록 하세요."
   ]
  },
  {
   "cell_type": "code",
   "execution_count": 133,
   "metadata": {},
   "outputs": [],
   "source": [
    "# model.add() 함수와 Dense() 함수 사용\n",
    "# 첫번째 Hidden Layer 생성시 unit, activation='relu', input_shape=() 입력해야 함\n",
    "# 첫번째 Hidden Layer 다음에 Dropout(0.2) 추가 \n",
    "\n",
    "\n",
    "\n",
    "model.add(Dense(64, activation='relu', input_shape=(38,)))\n",
    "model.add(Dropout(0.2))\n",
    "model.add(Dense(32, activation='relu'))\n",
    "model.add(Dropout(0.2))\n",
    "model.add(Dense(16, activation='relu'))\n",
    "model.add(Dropout(0.2))"
   ]
  },
  {
   "cell_type": "code",
   "execution_count": 134,
   "metadata": {},
   "outputs": [],
   "source": [
    "# 마지막 Dense에서 1개만 나오므로 'sigmoid' 설정하고 0.5 이하이면 정상, 아니면 해지\n",
    "model.add(Dense(1,activation='sigmoid'))"
   ]
  },
  {
   "cell_type": "markdown",
   "metadata": {},
   "source": [
    "### 모델  컴파일 : optimizer, optimizer 설정"
   ]
  },
  {
   "cell_type": "code",
   "execution_count": 135,
   "metadata": {},
   "outputs": [],
   "source": [
    "model.compile(optimizer='adam', loss='binary_crossentropy',metrics=['acc'])"
   ]
  },
  {
   "cell_type": "markdown",
   "metadata": {},
   "source": [
    "### callbacks 함수 설정 : EarlyStopping, ModelCheckpoint"
   ]
  },
  {
   "cell_type": "code",
   "execution_count": 136,
   "metadata": {},
   "outputs": [],
   "source": [
    "es = EarlyStopping(monitor='val_loss', patience=4, mode='min', verbose=1)\n",
    "mc = ModelCheckpoint('my_checkpoint.ckpt', monitor='val_loss', save_best_only=True, verbose=1)"
   ]
  },
  {
   "cell_type": "markdown",
   "metadata": {},
   "source": [
    "### 모델 훈련"
   ]
  },
  {
   "cell_type": "code",
   "execution_count": 137,
   "metadata": {
    "scrolled": true
   },
   "outputs": [
    {
     "name": "stdout",
     "output_type": "stream",
     "text": [
      "Epoch 1/50\n",
      "168/172 [============================>.] - ETA: 0s - loss: 0.2075 - acc: 0.9569\n",
      "Epoch 00001: val_loss improved from inf to 0.10613, saving model to my_checkpoint.ckpt\n",
      "WARNING:tensorflow:From /usr/local/lib/python3.6/dist-packages/tensorflow/python/ops/resource_variable_ops.py:1817: calling BaseResourceVariable.__init__ (from tensorflow.python.ops.resource_variable_ops) with constraint is deprecated and will be removed in a future version.\n",
      "Instructions for updating:\n",
      "If using Keras pass *_constraint arguments to layers.\n",
      "INFO:tensorflow:Assets written to: my_checkpoint.ckpt/assets\n",
      "172/172 [==============================] - 4s 23ms/step - loss: 0.2060 - acc: 0.9572 - val_loss: 0.1061 - val_acc: 0.9753\n",
      "Epoch 2/50\n",
      "169/172 [============================>.] - ETA: 0s - loss: 0.1133 - acc: 0.9753\n",
      "Epoch 00002: val_loss improved from 0.10613 to 0.10114, saving model to my_checkpoint.ckpt\n",
      "INFO:tensorflow:Assets written to: my_checkpoint.ckpt/assets\n",
      "172/172 [==============================] - 4s 21ms/step - loss: 0.1134 - acc: 0.9753 - val_loss: 0.1011 - val_acc: 0.9753\n",
      "Epoch 3/50\n",
      "167/172 [============================>.] - ETA: 0s - loss: 0.1082 - acc: 0.9753\n",
      "Epoch 00003: val_loss improved from 0.10114 to 0.10046, saving model to my_checkpoint.ckpt\n",
      "INFO:tensorflow:Assets written to: my_checkpoint.ckpt/assets\n",
      "172/172 [==============================] - 4s 21ms/step - loss: 0.1084 - acc: 0.9753 - val_loss: 0.1005 - val_acc: 0.9753\n",
      "Epoch 4/50\n",
      "169/172 [============================>.] - ETA: 0s - loss: 0.1055 - acc: 0.9753\n",
      "Epoch 00004: val_loss improved from 0.10046 to 0.09836, saving model to my_checkpoint.ckpt\n",
      "INFO:tensorflow:Assets written to: my_checkpoint.ckpt/assets\n",
      "172/172 [==============================] - 4s 22ms/step - loss: 0.1056 - acc: 0.9753 - val_loss: 0.0984 - val_acc: 0.9753\n",
      "Epoch 5/50\n",
      "170/172 [============================>.] - ETA: 0s - loss: 0.1041 - acc: 0.9753\n",
      "Epoch 00005: val_loss improved from 0.09836 to 0.09785, saving model to my_checkpoint.ckpt\n",
      "INFO:tensorflow:Assets written to: my_checkpoint.ckpt/assets\n",
      "172/172 [==============================] - 4s 22ms/step - loss: 0.1041 - acc: 0.9753 - val_loss: 0.0978 - val_acc: 0.9753\n",
      "Epoch 6/50\n",
      "166/172 [===========================>..] - ETA: 0s - loss: 0.1027 - acc: 0.9754\n",
      "Epoch 00006: val_loss improved from 0.09785 to 0.09717, saving model to my_checkpoint.ckpt\n",
      "INFO:tensorflow:Assets written to: my_checkpoint.ckpt/assets\n",
      "172/172 [==============================] - 3s 19ms/step - loss: 0.1028 - acc: 0.9753 - val_loss: 0.0972 - val_acc: 0.9753\n",
      "Epoch 7/50\n",
      "170/172 [============================>.] - ETA: 0s - loss: 0.1020 - acc: 0.9754\n",
      "Epoch 00007: val_loss improved from 0.09717 to 0.09661, saving model to my_checkpoint.ckpt\n",
      "INFO:tensorflow:Assets written to: my_checkpoint.ckpt/assets\n",
      "172/172 [==============================] - 3s 19ms/step - loss: 0.1021 - acc: 0.9753 - val_loss: 0.0966 - val_acc: 0.9753\n",
      "Epoch 8/50\n",
      "172/172 [==============================] - ETA: 0s - loss: 0.1012 - acc: 0.9753\n",
      "Epoch 00008: val_loss improved from 0.09661 to 0.09583, saving model to my_checkpoint.ckpt\n",
      "INFO:tensorflow:Assets written to: my_checkpoint.ckpt/assets\n",
      "172/172 [==============================] - 3s 19ms/step - loss: 0.1012 - acc: 0.9753 - val_loss: 0.0958 - val_acc: 0.9753\n",
      "Epoch 9/50\n",
      "168/172 [============================>.] - ETA: 0s - loss: 0.1009 - acc: 0.9753\n",
      "Epoch 00009: val_loss improved from 0.09583 to 0.09565, saving model to my_checkpoint.ckpt\n",
      "INFO:tensorflow:Assets written to: my_checkpoint.ckpt/assets\n",
      "172/172 [==============================] - 3s 19ms/step - loss: 0.1010 - acc: 0.9753 - val_loss: 0.0957 - val_acc: 0.9753\n",
      "Epoch 10/50\n",
      "169/172 [============================>.] - ETA: 0s - loss: 0.0999 - acc: 0.9753\n",
      "Epoch 00010: val_loss improved from 0.09565 to 0.09524, saving model to my_checkpoint.ckpt\n",
      "INFO:tensorflow:Assets written to: my_checkpoint.ckpt/assets\n",
      "172/172 [==============================] - 3s 19ms/step - loss: 0.0999 - acc: 0.9753 - val_loss: 0.0952 - val_acc: 0.9753\n",
      "Epoch 11/50\n",
      "169/172 [============================>.] - ETA: 0s - loss: 0.1004 - acc: 0.9753\n",
      "Epoch 00011: val_loss did not improve from 0.09524\n",
      "172/172 [==============================] - 3s 16ms/step - loss: 0.1003 - acc: 0.9753 - val_loss: 0.0963 - val_acc: 0.9753\n",
      "Epoch 12/50\n",
      "168/172 [============================>.] - ETA: 0s - loss: 0.0991 - acc: 0.9753\n",
      "Epoch 00012: val_loss did not improve from 0.09524\n",
      "172/172 [==============================] - 3s 15ms/step - loss: 0.0992 - acc: 0.9753 - val_loss: 0.0962 - val_acc: 0.9753\n",
      "Epoch 13/50\n",
      "170/172 [============================>.] - ETA: 0s - loss: 0.0988 - acc: 0.9753\n",
      "Epoch 00013: val_loss improved from 0.09524 to 0.09464, saving model to my_checkpoint.ckpt\n",
      "INFO:tensorflow:Assets written to: my_checkpoint.ckpt/assets\n",
      "172/172 [==============================] - 3s 19ms/step - loss: 0.0988 - acc: 0.9753 - val_loss: 0.0946 - val_acc: 0.9753\n",
      "Epoch 14/50\n",
      "167/172 [============================>.] - ETA: 0s - loss: 0.0980 - acc: 0.9753\n",
      "Epoch 00014: val_loss did not improve from 0.09464\n",
      "172/172 [==============================] - 3s 15ms/step - loss: 0.0982 - acc: 0.9753 - val_loss: 0.0947 - val_acc: 0.9753\n",
      "Epoch 15/50\n",
      "169/172 [============================>.] - ETA: 0s - loss: 0.0983 - acc: 0.9753- ETA: 0s - loss: 0.0979 - acc: 0.97\n",
      "Epoch 00015: val_loss improved from 0.09464 to 0.09456, saving model to my_checkpoint.ckpt\n",
      "INFO:tensorflow:Assets written to: my_checkpoint.ckpt/assets\n",
      "172/172 [==============================] - 3s 20ms/step - loss: 0.0983 - acc: 0.9753 - val_loss: 0.0946 - val_acc: 0.9753\n",
      "Epoch 16/50\n",
      "168/172 [============================>.] - ETA: 0s - loss: 0.0975 - acc: 0.9754\n",
      "Epoch 00016: val_loss improved from 0.09456 to 0.09445, saving model to my_checkpoint.ckpt\n",
      "INFO:tensorflow:Assets written to: my_checkpoint.ckpt/assets\n",
      "172/172 [==============================] - 3s 20ms/step - loss: 0.0978 - acc: 0.9753 - val_loss: 0.0945 - val_acc: 0.9753\n",
      "Epoch 17/50\n",
      "168/172 [============================>.] - ETA: 0s - loss: 0.0974 - acc: 0.9753\n",
      "Epoch 00017: val_loss improved from 0.09445 to 0.09431, saving model to my_checkpoint.ckpt\n",
      "INFO:tensorflow:Assets written to: my_checkpoint.ckpt/assets\n",
      "172/172 [==============================] - 4s 24ms/step - loss: 0.0974 - acc: 0.9753 - val_loss: 0.0943 - val_acc: 0.9753\n",
      "Epoch 18/50\n",
      "170/172 [============================>.] - ETA: 0s - loss: 0.0973 - acc: 0.9753\n",
      "Epoch 00018: val_loss improved from 0.09431 to 0.09422, saving model to my_checkpoint.ckpt\n",
      "INFO:tensorflow:Assets written to: my_checkpoint.ckpt/assets\n",
      "172/172 [==============================] - 3s 19ms/step - loss: 0.0973 - acc: 0.9753 - val_loss: 0.0942 - val_acc: 0.9753\n",
      "Epoch 19/50\n",
      "168/172 [============================>.] - ETA: 0s - loss: 0.0982 - acc: 0.9752\n",
      "Epoch 00019: val_loss did not improve from 0.09422\n",
      "172/172 [==============================] - 3s 15ms/step - loss: 0.0979 - acc: 0.9753 - val_loss: 0.0943 - val_acc: 0.9753\n",
      "Epoch 20/50\n",
      "170/172 [============================>.] - ETA: 0s - loss: 0.0967 - acc: 0.9754\n",
      "Epoch 00020: val_loss did not improve from 0.09422\n",
      "172/172 [==============================] - 3s 16ms/step - loss: 0.0971 - acc: 0.9753 - val_loss: 0.0944 - val_acc: 0.9753\n",
      "Epoch 21/50\n",
      "166/172 [===========================>..] - ETA: 0s - loss: 0.0976 - acc: 0.9753\n",
      "Epoch 00021: val_loss did not improve from 0.09422\n",
      "172/172 [==============================] - 3s 16ms/step - loss: 0.0975 - acc: 0.9754 - val_loss: 0.0943 - val_acc: 0.9753\n",
      "Epoch 22/50\n",
      "167/172 [============================>.] - ETA: 0s - loss: 0.0968 - acc: 0.9754\n",
      "Epoch 00022: val_loss improved from 0.09422 to 0.09418, saving model to my_checkpoint.ckpt\n",
      "INFO:tensorflow:Assets written to: my_checkpoint.ckpt/assets\n",
      "172/172 [==============================] - 3s 20ms/step - loss: 0.0968 - acc: 0.9754 - val_loss: 0.0942 - val_acc: 0.9753\n",
      "Epoch 23/50\n",
      "167/172 [============================>.] - ETA: 0s - loss: 0.0963 - acc: 0.9753\n",
      "Epoch 00023: val_loss did not improve from 0.09418\n",
      "172/172 [==============================] - 3s 16ms/step - loss: 0.0963 - acc: 0.9753 - val_loss: 0.0943 - val_acc: 0.9753\n",
      "Epoch 24/50\n",
      "170/172 [============================>.] - ETA: 0s - loss: 0.0964 - acc: 0.9753\n",
      "Epoch 00024: val_loss did not improve from 0.09418\n",
      "172/172 [==============================] - 3s 16ms/step - loss: 0.0964 - acc: 0.9753 - val_loss: 0.0944 - val_acc: 0.9753\n",
      "Epoch 25/50\n",
      "166/172 [===========================>..] - ETA: 0s - loss: 0.0956 - acc: 0.9753\n",
      "Epoch 00025: val_loss improved from 0.09418 to 0.09364, saving model to my_checkpoint.ckpt\n",
      "INFO:tensorflow:Assets written to: my_checkpoint.ckpt/assets\n",
      "172/172 [==============================] - 3s 20ms/step - loss: 0.0957 - acc: 0.9753 - val_loss: 0.0936 - val_acc: 0.9753\n",
      "Epoch 26/50\n",
      "171/172 [============================>.] - ETA: 0s - loss: 0.0960 - acc: 0.9754\n",
      "Epoch 00026: val_loss improved from 0.09364 to 0.09354, saving model to my_checkpoint.ckpt\n",
      "INFO:tensorflow:Assets written to: my_checkpoint.ckpt/assets\n",
      "172/172 [==============================] - 3s 20ms/step - loss: 0.0960 - acc: 0.9753 - val_loss: 0.0935 - val_acc: 0.9753\n",
      "Epoch 27/50\n",
      "168/172 [============================>.] - ETA: 0s - loss: 0.0960 - acc: 0.9753\n",
      "Epoch 00027: val_loss did not improve from 0.09354\n",
      "172/172 [==============================] - 3s 16ms/step - loss: 0.0960 - acc: 0.9753 - val_loss: 0.0940 - val_acc: 0.9754\n",
      "Epoch 28/50\n",
      "170/172 [============================>.] - ETA: 0s - loss: 0.0953 - acc: 0.9754\n",
      "Epoch 00028: val_loss improved from 0.09354 to 0.09346, saving model to my_checkpoint.ckpt\n",
      "INFO:tensorflow:Assets written to: my_checkpoint.ckpt/assets\n",
      "172/172 [==============================] - 3s 19ms/step - loss: 0.0955 - acc: 0.9754 - val_loss: 0.0935 - val_acc: 0.9753\n",
      "Epoch 29/50\n",
      "169/172 [============================>.] - ETA: 0s - loss: 0.0954 - acc: 0.9754\n",
      "Epoch 00029: val_loss did not improve from 0.09346\n",
      "172/172 [==============================] - 3s 16ms/step - loss: 0.0954 - acc: 0.9753 - val_loss: 0.0935 - val_acc: 0.9753\n",
      "Epoch 30/50\n",
      "167/172 [============================>.] - ETA: 0s - loss: 0.0957 - acc: 0.9752\n",
      "Epoch 00030: val_loss did not improve from 0.09346\n",
      "172/172 [==============================] - 3s 16ms/step - loss: 0.0954 - acc: 0.9753 - val_loss: 0.0938 - val_acc: 0.9753\n",
      "Epoch 31/50\n",
      "167/172 [============================>.] - ETA: 0s - loss: 0.0952 - acc: 0.9753\n",
      "Epoch 00031: val_loss improved from 0.09346 to 0.09346, saving model to my_checkpoint.ckpt\n",
      "INFO:tensorflow:Assets written to: my_checkpoint.ckpt/assets\n",
      "172/172 [==============================] - 3s 19ms/step - loss: 0.0952 - acc: 0.9753 - val_loss: 0.0935 - val_acc: 0.9754\n",
      "Epoch 32/50\n",
      "171/172 [============================>.] - ETA: 0s - loss: 0.0950 - acc: 0.9754\n",
      "Epoch 00032: val_loss improved from 0.09346 to 0.09329, saving model to my_checkpoint.ckpt\n",
      "INFO:tensorflow:Assets written to: my_checkpoint.ckpt/assets\n",
      "172/172 [==============================] - 3s 19ms/step - loss: 0.0950 - acc: 0.9754 - val_loss: 0.0933 - val_acc: 0.9754\n",
      "Epoch 33/50\n",
      "172/172 [==============================] - ETA: 0s - loss: 0.0950 - acc: 0.9754\n",
      "Epoch 00033: val_loss improved from 0.09329 to 0.09302, saving model to my_checkpoint.ckpt\n",
      "INFO:tensorflow:Assets written to: my_checkpoint.ckpt/assets\n",
      "172/172 [==============================] - 3s 19ms/step - loss: 0.0950 - acc: 0.9754 - val_loss: 0.0930 - val_acc: 0.9754\n",
      "Epoch 34/50\n",
      "172/172 [==============================] - ETA: 0s - loss: 0.0948 - acc: 0.9753\n",
      "Epoch 00034: val_loss did not improve from 0.09302\n",
      "172/172 [==============================] - 3s 15ms/step - loss: 0.0948 - acc: 0.9753 - val_loss: 0.0931 - val_acc: 0.9754\n",
      "Epoch 35/50\n",
      "170/172 [============================>.] - ETA: 0s - loss: 0.0945 - acc: 0.9755- ETA: 0s - loss: 0.0939 - acc: \n",
      "Epoch 00035: val_loss improved from 0.09302 to 0.09294, saving model to my_checkpoint.ckpt\n",
      "INFO:tensorflow:Assets written to: my_checkpoint.ckpt/assets\n",
      "172/172 [==============================] - 3s 20ms/step - loss: 0.0947 - acc: 0.9754 - val_loss: 0.0929 - val_acc: 0.9755\n",
      "Epoch 36/50\n",
      "171/172 [============================>.] - ETA: 0s - loss: 0.0944 - acc: 0.9754\n",
      "Epoch 00036: val_loss did not improve from 0.09294\n",
      "172/172 [==============================] - 3s 15ms/step - loss: 0.0944 - acc: 0.9754 - val_loss: 0.0930 - val_acc: 0.9754\n",
      "Epoch 37/50\n",
      "167/172 [============================>.] - ETA: 0s - loss: 0.0943 - acc: 0.9753\n",
      "Epoch 00037: val_loss did not improve from 0.09294\n",
      "172/172 [==============================] - 3s 15ms/step - loss: 0.0942 - acc: 0.9754 - val_loss: 0.0931 - val_acc: 0.9754\n",
      "Epoch 38/50\n",
      "166/172 [===========================>..] - ETA: 0s - loss: 0.0943 - acc: 0.9753\n",
      "Epoch 00038: val_loss did not improve from 0.09294\n",
      "172/172 [==============================] - 3s 15ms/step - loss: 0.0940 - acc: 0.9754 - val_loss: 0.0931 - val_acc: 0.9754\n",
      "Epoch 39/50\n",
      "168/172 [============================>.] - ETA: 0s - loss: 0.0940 - acc: 0.9754\n",
      "Epoch 00039: val_loss did not improve from 0.09294\n",
      "172/172 [==============================] - 3s 15ms/step - loss: 0.0939 - acc: 0.9754 - val_loss: 0.0930 - val_acc: 0.9755\n",
      "Epoch 00039: early stopping\n"
     ]
    }
   ],
   "source": [
    "history = model.fit(X_train, y_train, \n",
    "                    batch_size=batch_size, \n",
    "                    epochs=epochs, \n",
    "                    callbacks=[es, mc],\n",
    "                    validation_data=(X_test, y_test), \n",
    "                    verbose=1)"
   ]
  },
  {
   "cell_type": "markdown",
   "metadata": {},
   "source": [
    "### 2) 다중분류  모델 생성"
   ]
  },
  {
   "cell_type": "markdown",
   "metadata": {},
   "source": [
    "- y_train, y_test One-Hot-Encoding"
   ]
  },
  {
   "cell_type": "code",
   "execution_count": 138,
   "metadata": {},
   "outputs": [],
   "source": [
    "y_train_ohe = to_categorical(y_train)\n",
    "y_test_ohe = to_categorical(y_test)"
   ]
  },
  {
   "cell_type": "code",
   "execution_count": 139,
   "metadata": {},
   "outputs": [
    {
     "data": {
      "text/plain": [
       "array([[1., 0.],\n",
       "       [1., 0.],\n",
       "       [1., 0.],\n",
       "       ...,\n",
       "       [1., 0.],\n",
       "       [1., 0.],\n",
       "       [1., 0.]], dtype=float32)"
      ]
     },
     "execution_count": 139,
     "metadata": {},
     "output_type": "execute_result"
    }
   ],
   "source": [
    "y_train_ohe"
   ]
  },
  {
   "cell_type": "code",
   "execution_count": 140,
   "metadata": {},
   "outputs": [],
   "source": [
    "# 마지막 Dense에서 2개만 나오므로 'softmax' 설정하고 정상,해지의 대한 각각 확률값이 2개나 나옴\n",
    "model = Sequential()\n",
    "model.add(Dense(64,activation='relu',input_shape=(38,)))\n",
    "model.add(Dropout(0.2))\n",
    "model.add(Dense(32,activation='relu'))\n",
    "model.add(Dropout(0.2))\n",
    "model.add(Dense(16,activation='relu'))\n",
    "model.add(Dropout(0.2))\n",
    "model.add(Dense(2,activation='softmax'))"
   ]
  },
  {
   "cell_type": "code",
   "execution_count": 141,
   "metadata": {},
   "outputs": [],
   "source": [
    "model.compile(optimizer='adam', loss='categorical_crossentropy',metrics=['acc'])\n",
    "\n",
    "# Y 레이블 One-Hot-Encoding 되지 않았으면 loss='sparse_categorical_crossentropy' 사용\n",
    "# model.compile(optimizer='adam', loss='sparse_categorical_crossentropy',metrics=['acc'])"
   ]
  },
  {
   "cell_type": "code",
   "execution_count": 142,
   "metadata": {
    "scrolled": true
   },
   "outputs": [
    {
     "name": "stdout",
     "output_type": "stream",
     "text": [
      "Epoch 1/50\n",
      "168/172 [============================>.] - ETA: 0s - loss: 0.2284 - acc: 0.9168\n",
      "Epoch 00001: val_loss did not improve from 0.09294\n",
      "172/172 [==============================] - 3s 16ms/step - loss: 0.2267 - acc: 0.9178 - val_loss: 0.1061 - val_acc: 0.9753\n",
      "Epoch 2/50\n",
      "171/172 [============================>.] - ETA: 0s - loss: 0.1151 - acc: 0.9753\n",
      "Epoch 00002: val_loss did not improve from 0.09294\n",
      "172/172 [==============================] - 3s 15ms/step - loss: 0.1151 - acc: 0.9753 - val_loss: 0.0999 - val_acc: 0.9753\n",
      "Epoch 3/50\n",
      "168/172 [============================>.] - ETA: 0s - loss: 0.1100 - acc: 0.9753\n",
      "Epoch 00003: val_loss did not improve from 0.09294\n",
      "172/172 [==============================] - 3s 15ms/step - loss: 0.1101 - acc: 0.9753 - val_loss: 0.0998 - val_acc: 0.9753\n",
      "Epoch 4/50\n",
      "165/172 [===========================>..] - ETA: 0s - loss: 0.1074 - acc: 0.9754\n",
      "Epoch 00004: val_loss did not improve from 0.09294\n",
      "172/172 [==============================] - 3s 15ms/step - loss: 0.1078 - acc: 0.9753 - val_loss: 0.0987 - val_acc: 0.9753\n",
      "Epoch 5/50\n",
      "171/172 [============================>.] - ETA: 0s - loss: 0.1057 - acc: 0.9753\n",
      "Epoch 00005: val_loss did not improve from 0.09294\n",
      "172/172 [==============================] - 3s 15ms/step - loss: 0.1057 - acc: 0.9753 - val_loss: 0.0984 - val_acc: 0.9753\n",
      "Epoch 6/50\n",
      "165/172 [===========================>..] - ETA: 0s - loss: 0.1047 - acc: 0.9753\n",
      "Epoch 00006: val_loss did not improve from 0.09294\n",
      "172/172 [==============================] - 3s 15ms/step - loss: 0.1047 - acc: 0.9753 - val_loss: 0.0978 - val_acc: 0.9753\n",
      "Epoch 7/50\n",
      "170/172 [============================>.] - ETA: 0s - loss: 0.1038 - acc: 0.9753\n",
      "Epoch 00007: val_loss did not improve from 0.09294\n",
      "172/172 [==============================] - 3s 15ms/step - loss: 0.1037 - acc: 0.9753 - val_loss: 0.0978 - val_acc: 0.9753\n",
      "Epoch 8/50\n",
      "171/172 [============================>.] - ETA: 0s - loss: 0.1026 - acc: 0.9753\n",
      "Epoch 00008: val_loss did not improve from 0.09294\n",
      "172/172 [==============================] - 3s 15ms/step - loss: 0.1026 - acc: 0.9753 - val_loss: 0.0976 - val_acc: 0.9753\n",
      "Epoch 9/50\n",
      "167/172 [============================>.] - ETA: 0s - loss: 0.1019 - acc: 0.9754- ETA: 2s - loss:\n",
      "Epoch 00009: val_loss did not improve from 0.09294\n",
      "172/172 [==============================] - 3s 15ms/step - loss: 0.1023 - acc: 0.9753 - val_loss: 0.0966 - val_acc: 0.9754\n",
      "Epoch 10/50\n",
      "170/172 [============================>.] - ETA: 0s - loss: 0.1008 - acc: 0.9754\n",
      "Epoch 00010: val_loss did not improve from 0.09294\n",
      "172/172 [==============================] - 3s 15ms/step - loss: 0.1008 - acc: 0.9754 - val_loss: 0.0966 - val_acc: 0.9754\n",
      "Epoch 11/50\n",
      "167/172 [============================>.] - ETA: 0s - loss: 0.1004 - acc: 0.9755\n",
      "Epoch 00011: val_loss did not improve from 0.09294\n",
      "172/172 [==============================] - 3s 15ms/step - loss: 0.1007 - acc: 0.9755 - val_loss: 0.0958 - val_acc: 0.9754\n",
      "Epoch 12/50\n",
      "167/172 [============================>.] - ETA: 0s - loss: 0.1005 - acc: 0.9753\n",
      "Epoch 00012: val_loss did not improve from 0.09294\n",
      "172/172 [==============================] - 3s 15ms/step - loss: 0.1004 - acc: 0.9753 - val_loss: 0.0960 - val_acc: 0.9754\n",
      "Epoch 13/50\n",
      "172/172 [==============================] - ETA: 0s - loss: 0.0998 - acc: 0.9754\n",
      "Epoch 00013: val_loss did not improve from 0.09294\n",
      "172/172 [==============================] - 3s 15ms/step - loss: 0.0998 - acc: 0.9754 - val_loss: 0.0953 - val_acc: 0.9754\n",
      "Epoch 14/50\n",
      "168/172 [============================>.] - ETA: 0s - loss: 0.0996 - acc: 0.9753\n",
      "Epoch 00014: val_loss did not improve from 0.09294\n",
      "172/172 [==============================] - 3s 15ms/step - loss: 0.0994 - acc: 0.9754 - val_loss: 0.0947 - val_acc: 0.9754\n",
      "Epoch 15/50\n",
      "172/172 [==============================] - ETA: 0s - loss: 0.0991 - acc: 0.9754\n",
      "Epoch 00015: val_loss did not improve from 0.09294\n",
      "172/172 [==============================] - 3s 15ms/step - loss: 0.0991 - acc: 0.9754 - val_loss: 0.0944 - val_acc: 0.9754\n",
      "Epoch 16/50\n",
      "167/172 [============================>.] - ETA: 0s - loss: 0.0979 - acc: 0.9755\n",
      "Epoch 00016: val_loss did not improve from 0.09294\n",
      "172/172 [==============================] - 3s 15ms/step - loss: 0.0983 - acc: 0.9754 - val_loss: 0.0948 - val_acc: 0.9754\n",
      "Epoch 17/50\n",
      "169/172 [============================>.] - ETA: 0s - loss: 0.0981 - acc: 0.9754\n",
      "Epoch 00017: val_loss did not improve from 0.09294\n",
      "172/172 [==============================] - 3s 15ms/step - loss: 0.0980 - acc: 0.9754 - val_loss: 0.0951 - val_acc: 0.9754\n",
      "Epoch 18/50\n",
      "169/172 [============================>.] - ETA: 0s - loss: 0.0980 - acc: 0.9754\n",
      "Epoch 00018: val_loss did not improve from 0.09294\n",
      "172/172 [==============================] - 3s 15ms/step - loss: 0.0979 - acc: 0.9754 - val_loss: 0.0942 - val_acc: 0.9753\n",
      "Epoch 19/50\n",
      "170/172 [============================>.] - ETA: 0s - loss: 0.0975 - acc: 0.9754\n",
      "Epoch 00019: val_loss did not improve from 0.09294\n",
      "172/172 [==============================] - 3s 15ms/step - loss: 0.0975 - acc: 0.9754 - val_loss: 0.0945 - val_acc: 0.9754\n",
      "Epoch 20/50\n",
      "170/172 [============================>.] - ETA: 0s - loss: 0.0973 - acc: 0.9754\n",
      "Epoch 00020: val_loss did not improve from 0.09294\n",
      "172/172 [==============================] - 2s 15ms/step - loss: 0.0973 - acc: 0.9754 - val_loss: 0.0942 - val_acc: 0.9754\n",
      "Epoch 21/50\n",
      "169/172 [============================>.] - ETA: 0s - loss: 0.0970 - acc: 0.9754\n",
      "Epoch 00021: val_loss did not improve from 0.09294\n",
      "172/172 [==============================] - 3s 19ms/step - loss: 0.0970 - acc: 0.9754 - val_loss: 0.0940 - val_acc: 0.9754\n",
      "Epoch 22/50\n",
      "169/172 [============================>.] - ETA: 0s - loss: 0.0970 - acc: 0.9754\n",
      "Epoch 00022: val_loss did not improve from 0.09294\n",
      "172/172 [==============================] - 3s 20ms/step - loss: 0.0969 - acc: 0.9754 - val_loss: 0.0939 - val_acc: 0.9754\n",
      "Epoch 23/50\n",
      "167/172 [============================>.] - ETA: 0s - loss: 0.0977 - acc: 0.9753- ETA: 1s - loss: 0.0961\n",
      "Epoch 00023: val_loss did not improve from 0.09294\n",
      "172/172 [==============================] - 3s 17ms/step - loss: 0.0973 - acc: 0.9754 - val_loss: 0.0945 - val_acc: 0.9754\n",
      "Epoch 24/50\n",
      "171/172 [============================>.] - ETA: 0s - loss: 0.0964 - acc: 0.9754\n",
      "Epoch 00024: val_loss did not improve from 0.09294\n",
      "172/172 [==============================] - 3s 15ms/step - loss: 0.0964 - acc: 0.9754 - val_loss: 0.0941 - val_acc: 0.9754\n",
      "Epoch 25/50\n",
      "171/172 [============================>.] - ETA: 0s - loss: 0.0958 - acc: 0.9753\n",
      "Epoch 00025: val_loss did not improve from 0.09294\n",
      "172/172 [==============================] - 2s 15ms/step - loss: 0.0958 - acc: 0.9753 - val_loss: 0.0938 - val_acc: 0.9754\n",
      "Epoch 26/50\n",
      "169/172 [============================>.] - ETA: 0s - loss: 0.0960 - acc: 0.9754\n",
      "Epoch 00026: val_loss did not improve from 0.09294\n",
      "172/172 [==============================] - 2s 15ms/step - loss: 0.0959 - acc: 0.9754 - val_loss: 0.0936 - val_acc: 0.9754\n",
      "Epoch 27/50\n",
      "166/172 [===========================>..] - ETA: 0s - loss: 0.0953 - acc: 0.9755\n",
      "Epoch 00027: val_loss did not improve from 0.09294\n",
      "172/172 [==============================] - 3s 15ms/step - loss: 0.0953 - acc: 0.9755 - val_loss: 0.0939 - val_acc: 0.9754\n",
      "Epoch 28/50\n",
      "170/172 [============================>.] - ETA: 0s - loss: 0.0952 - acc: 0.9754\n",
      "Epoch 00028: val_loss did not improve from 0.09294\n",
      "172/172 [==============================] - 3s 15ms/step - loss: 0.0952 - acc: 0.9754 - val_loss: 0.0937 - val_acc: 0.9754\n",
      "Epoch 29/50\n",
      "171/172 [============================>.] - ETA: 0s - loss: 0.0951 - acc: 0.9754- ETA: 1s - loss:\n",
      "Epoch 00029: val_loss did not improve from 0.09294\n",
      "172/172 [==============================] - 3s 15ms/step - loss: 0.0951 - acc: 0.9754 - val_loss: 0.0933 - val_acc: 0.9754\n",
      "Epoch 30/50\n",
      "167/172 [============================>.] - ETA: 0s - loss: 0.0947 - acc: 0.9755\n",
      "Epoch 00030: val_loss did not improve from 0.09294\n",
      "172/172 [==============================] - 3s 15ms/step - loss: 0.0950 - acc: 0.9754 - val_loss: 0.0935 - val_acc: 0.9754\n",
      "Epoch 31/50\n",
      "169/172 [============================>.] - ETA: 0s - loss: 0.0953 - acc: 0.9753\n",
      "Epoch 00031: val_loss did not improve from 0.09294\n",
      "172/172 [==============================] - 3s 15ms/step - loss: 0.0952 - acc: 0.9754 - val_loss: 0.0933 - val_acc: 0.9754\n",
      "Epoch 32/50\n",
      "167/172 [============================>.] - ETA: 0s - loss: 0.0949 - acc: 0.9754\n",
      "Epoch 00032: val_loss did not improve from 0.09294\n",
      "172/172 [==============================] - 3s 15ms/step - loss: 0.0948 - acc: 0.9755 - val_loss: 0.0934 - val_acc: 0.9754\n",
      "Epoch 33/50\n",
      "165/172 [===========================>..] - ETA: 0s - loss: 0.0942 - acc: 0.9755\n",
      "Epoch 00033: val_loss did not improve from 0.09294\n",
      "172/172 [==============================] - 3s 15ms/step - loss: 0.0940 - acc: 0.9755 - val_loss: 0.0935 - val_acc: 0.9754\n",
      "Epoch 34/50\n",
      "171/172 [============================>.] - ETA: 0s - loss: 0.0943 - acc: 0.9753\n",
      "Epoch 00034: val_loss did not improve from 0.09294\n",
      "172/172 [==============================] - 3s 15ms/step - loss: 0.0943 - acc: 0.9753 - val_loss: 0.0933 - val_acc: 0.9754\n",
      "Epoch 35/50\n",
      "167/172 [============================>.] - ETA: 0s - loss: 0.0939 - acc: 0.9755\n",
      "Epoch 00035: val_loss did not improve from 0.09294\n",
      "172/172 [==============================] - 3s 15ms/step - loss: 0.0940 - acc: 0.9755 - val_loss: 0.0930 - val_acc: 0.9754\n",
      "Epoch 36/50\n",
      "170/172 [============================>.] - ETA: 0s - loss: 0.0936 - acc: 0.9756\n",
      "Epoch 00036: val_loss did not improve from 0.09294\n",
      "172/172 [==============================] - 3s 15ms/step - loss: 0.0937 - acc: 0.9755 - val_loss: 0.0930 - val_acc: 0.9754\n",
      "Epoch 37/50\n",
      "171/172 [============================>.] - ETA: 0s - loss: 0.0937 - acc: 0.9755\n",
      "Epoch 00037: val_loss did not improve from 0.09294\n",
      "172/172 [==============================] - 2s 14ms/step - loss: 0.0937 - acc: 0.9755 - val_loss: 0.0931 - val_acc: 0.9754\n",
      "Epoch 38/50\n",
      "165/172 [===========================>..] - ETA: 0s - loss: 0.0934 - acc: 0.9756\n",
      "Epoch 00038: val_loss did not improve from 0.09294\n",
      "172/172 [==============================] - 2s 14ms/step - loss: 0.0934 - acc: 0.9756 - val_loss: 0.0929 - val_acc: 0.9754\n",
      "Epoch 39/50\n",
      "168/172 [============================>.] - ETA: 0s - loss: 0.0938 - acc: 0.9754\n",
      "Epoch 00039: val_loss improved from 0.09294 to 0.09285, saving model to my_checkpoint.ckpt\n",
      "INFO:tensorflow:Assets written to: my_checkpoint.ckpt/assets\n",
      "172/172 [==============================] - 3s 19ms/step - loss: 0.0936 - acc: 0.9755 - val_loss: 0.0928 - val_acc: 0.9754\n",
      "Epoch 40/50\n",
      "170/172 [============================>.] - ETA: 0s - loss: 0.0934 - acc: 0.9755- ETA: 1s - loss: 0.0958\n",
      "Epoch 00040: val_loss improved from 0.09285 to 0.09266, saving model to my_checkpoint.ckpt\n",
      "INFO:tensorflow:Assets written to: my_checkpoint.ckpt/assets\n",
      "172/172 [==============================] - 3s 18ms/step - loss: 0.0934 - acc: 0.9755 - val_loss: 0.0927 - val_acc: 0.9754\n",
      "Epoch 41/50\n",
      "171/172 [============================>.] - ETA: 0s - loss: 0.0927 - acc: 0.9754\n",
      "Epoch 00041: val_loss improved from 0.09266 to 0.09261, saving model to my_checkpoint.ckpt\n",
      "INFO:tensorflow:Assets written to: my_checkpoint.ckpt/assets\n",
      "172/172 [==============================] - 3s 19ms/step - loss: 0.0927 - acc: 0.9754 - val_loss: 0.0926 - val_acc: 0.9754\n",
      "Epoch 42/50\n",
      "169/172 [============================>.] - ETA: 0s - loss: 0.0934 - acc: 0.9754- ETA: 0s - loss: 0.0932 - acc: \n",
      "Epoch 00042: val_loss did not improve from 0.09261\n",
      "172/172 [==============================] - 2s 14ms/step - loss: 0.0933 - acc: 0.9754 - val_loss: 0.0927 - val_acc: 0.9754\n",
      "Epoch 43/50\n",
      "169/172 [============================>.] - ETA: 0s - loss: 0.0927 - acc: 0.9756- ETA: 0s - loss: 0.0941 - ac\n",
      "Epoch 00043: val_loss improved from 0.09261 to 0.09238, saving model to my_checkpoint.ckpt\n",
      "INFO:tensorflow:Assets written to: my_checkpoint.ckpt/assets\n",
      "172/172 [==============================] - 3s 18ms/step - loss: 0.0927 - acc: 0.9756 - val_loss: 0.0924 - val_acc: 0.9755\n",
      "Epoch 44/50\n",
      "172/172 [==============================] - ETA: 0s - loss: 0.0930 - acc: 0.9756\n",
      "Epoch 00044: val_loss improved from 0.09238 to 0.09233, saving model to my_checkpoint.ckpt\n",
      "INFO:tensorflow:Assets written to: my_checkpoint.ckpt/assets\n",
      "172/172 [==============================] - 4s 23ms/step - loss: 0.0930 - acc: 0.9756 - val_loss: 0.0923 - val_acc: 0.9754\n",
      "Epoch 45/50\n",
      "165/172 [===========================>..] - ETA: 0s - loss: 0.0926 - acc: 0.9755\n",
      "Epoch 00045: val_loss improved from 0.09233 to 0.09231, saving model to my_checkpoint.ckpt\n",
      "INFO:tensorflow:Assets written to: my_checkpoint.ckpt/assets\n",
      "172/172 [==============================] - 3s 18ms/step - loss: 0.0927 - acc: 0.9755 - val_loss: 0.0923 - val_acc: 0.9754\n",
      "Epoch 46/50\n",
      "170/172 [============================>.] - ETA: 0s - loss: 0.0924 - acc: 0.9754- ETA: 1s - loss: 0.092 - ETA: 0s - loss: 0.0923 - acc: 0\n",
      "Epoch 00046: val_loss did not improve from 0.09231\n",
      "172/172 [==============================] - 2s 14ms/step - loss: 0.0923 - acc: 0.9755 - val_loss: 0.0923 - val_acc: 0.9756\n",
      "Epoch 47/50\n",
      "168/172 [============================>.] - ETA: 0s - loss: 0.0921 - acc: 0.9756\n",
      "Epoch 00047: val_loss improved from 0.09231 to 0.09226, saving model to my_checkpoint.ckpt\n",
      "INFO:tensorflow:Assets written to: my_checkpoint.ckpt/assets\n",
      "172/172 [==============================] - 3s 18ms/step - loss: 0.0922 - acc: 0.9755 - val_loss: 0.0923 - val_acc: 0.9755\n",
      "Epoch 48/50\n",
      "165/172 [===========================>..] - ETA: 0s - loss: 0.0916 - acc: 0.9756\n",
      "Epoch 00048: val_loss improved from 0.09226 to 0.09191, saving model to my_checkpoint.ckpt\n",
      "INFO:tensorflow:Assets written to: my_checkpoint.ckpt/assets\n",
      "172/172 [==============================] - 3s 18ms/step - loss: 0.0919 - acc: 0.9755 - val_loss: 0.0919 - val_acc: 0.9755\n",
      "Epoch 49/50\n",
      "169/172 [============================>.] - ETA: 0s - loss: 0.0927 - acc: 0.9754\n",
      "Epoch 00049: val_loss did not improve from 0.09191\n",
      "172/172 [==============================] - 2s 14ms/step - loss: 0.0926 - acc: 0.9754 - val_loss: 0.0921 - val_acc: 0.9755\n",
      "Epoch 50/50\n",
      "167/172 [============================>.] - ETA: 0s - loss: 0.0923 - acc: 0.9755- ETA: 1s - loss: 0.0922 - acc: 0. - ETA: 0s - loss: 0.0926 - acc: 0.9 - ETA: 0s - loss: 0.0926 - acc: 0.9\n",
      "Epoch 00050: val_loss did not improve from 0.09191\n",
      "172/172 [==============================] - 2s 14ms/step - loss: 0.0923 - acc: 0.9755 - val_loss: 0.0922 - val_acc: 0.9756\n"
     ]
    }
   ],
   "source": [
    "history = model.fit(X_train, y_train_ohe, batch_size=batch_size, epochs=epochs, callbacks=[es,mc], validation_data=(X_test, y_test_ohe), verbose=1)\n",
    "\n",
    "# 'sparse_categorical_crossentropy' 사용할 경우\n",
    "# history = model.fit(X_train, y_train, batch_size=batch_size, epochs=epochs, callbacks=[es,mc], validation_data=(X_test, y_test), verbose=1)"
   ]
  },
  {
   "cell_type": "code",
   "execution_count": 143,
   "metadata": {},
   "outputs": [],
   "source": [
    "model.save('rcp_model.h5')"
   ]
  },
  {
   "cell_type": "markdown",
   "metadata": {},
   "source": [
    "# \n",
    "# 10. 모델 성능 평가"
   ]
  },
  {
   "cell_type": "markdown",
   "metadata": {},
   "source": [
    "### Accuracy"
   ]
  },
  {
   "cell_type": "code",
   "execution_count": 144,
   "metadata": {},
   "outputs": [
    {
     "data": {
      "text/plain": [
       "<matplotlib.legend.Legend at 0x7f16d451ccf8>"
      ]
     },
     "execution_count": 144,
     "metadata": {},
     "output_type": "execute_result"
    },
    {
     "data": {
      "image/png": "[encoded data removed]",
      "text/plain": [
       "<Figure size 720x360 with 1 Axes>"
      ]
     },
     "metadata": {},
     "output_type": "display_data"
    }
   ],
   "source": [
    "plt.figure(figsize=(10,5))\n",
    "plt.plot(history.history['acc'])\n",
    "plt.plot(history.history['val_acc'])\n",
    "plt.title('Model Accuracy')\n",
    "plt.xlabel('Epochs')\n",
    "plt.ylabel('Accuracy')\n",
    "plt.legend(['Train','Validation'], loc='lower right')"
   ]
  },
  {
   "cell_type": "markdown",
   "metadata": {},
   "source": [
    "### Loss"
   ]
  },
  {
   "cell_type": "code",
   "execution_count": 145,
   "metadata": {},
   "outputs": [
    {
     "data": {
      "text/plain": [
       "<matplotlib.legend.Legend at 0x7f17c248d1d0>"
      ]
     },
     "execution_count": 145,
     "metadata": {},
     "output_type": "execute_result"
    },
    {
     "data": {
      "image/png": "[encoded data removed]",
      "text/plain": [
       "<Figure size 720x360 with 1 Axes>"
      ]
     },
     "metadata": {},
     "output_type": "display_data"
    }
   ],
   "source": [
    "plt.figure(figsize=(10,5))\n",
    "plt.plot(history.history['loss'], 'b', label='Train Loss')\n",
    "plt.plot(history.history['val_loss'], 'y', label='validaton Loss')\n",
    "plt.xlabel('Epochs')\n",
    "plt.ylabel('Loss')\n",
    "plt.legend()"
   ]
  },
  {
   "cell_type": "markdown",
   "metadata": {},
   "source": [
    "### 예측"
   ]
  },
  {
   "cell_type": "code",
   "execution_count": 146,
   "metadata": {},
   "outputs": [
    {
     "name": "stdout",
     "output_type": "stream",
     "text": [
      "43/43 [==============================] - 0s 2ms/step\n"
     ]
    }
   ],
   "source": [
    "y_test_pred = model.predict(X_test, batch_size=batch_size, verbose=1)"
   ]
  },
  {
   "cell_type": "code",
   "execution_count": 147,
   "metadata": {},
   "outputs": [],
   "source": [
    "y_test = np.argmax(y_test_ohe, axis=1)\n",
    "y_test_pred = np.argmax(y_test_pred, axis=1)"
   ]
  },
  {
   "cell_type": "code",
   "execution_count": 148,
   "metadata": {},
   "outputs": [
    {
     "data": {
      "text/plain": [
       "0.9755818999977158"
      ]
     },
     "execution_count": 148,
     "metadata": {},
     "output_type": "execute_result"
    }
   ],
   "source": [
    "accuracy_score(y_test, y_test_pred)"
   ]
  }
 ],
 "metadata": {
  "kernelspec": {
   "display_name": "Python 3",
   "language": "python",
   "name": "python3"
  },
  "language_info": {
   "codemirror_mode": {
    "name": "ipython",
    "version": 3
   },
   "file_extension": ".py",
   "mimetype": "text/x-python",
   "name": "python",
   "nbconvert_exporter": "python",
   "pygments_lexer": "ipython3",
   "version": "3.6.9"
  }
 },
 "nbformat": 4,
 "nbformat_minor": 4
}